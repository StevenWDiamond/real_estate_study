{
 "cells": [
  {
   "cell_type": "markdown",
   "metadata": {},
   "source": [
    "# Predicting Sales Prices for Ames Dataset\n",
    "by: Steve Diamond"
   ]
  },
  {
   "cell_type": "markdown",
   "metadata": {},
   "source": [
    "## Problem Statement\n",
    "\n",
    "Our data science team at the Ames Chamber of Commerce has been tasked to understand housing in and around the Ames area:\n",
    "- What are the most important factors driving real estate prices?\n",
    "- What factors are not important (paying close attention to those things that are typically assumed to be true)?\n",
    "\n",
    "We have obtained a dataset from the Assessor's office. It was originally compiled by Dean De Cock at Truman State University and it includes 2,051 home sales in the area between 2006 and 2010. To analyze this data, will be using a regression model (to be chosen later) and judging our model using the R2 metric."
   ]
  },
  {
   "cell_type": "markdown",
   "metadata": {},
   "source": [
    "## Executive Summary\n",
    "\n",
    "Our team at the Ames Chamber of Commerce was tasked with looking a real estate sales dataset from the Ames area, understanding its implictions and making recommendations on how we can leverage this knowledge to the benefit of our members. \n",
    "\n",
    "To accomplish this task, we will do the following:\n",
    "\n",
    "- Clean the data\n",
    "- Perform an Exploratory Data Analysis to understand what we can from the data itself, add additional information through feature engineering and create a dataset that is completely numerical\n",
    "- Apply multiple regression methods to determine which best suits this data\n",
    "- Chose one of these methods, tune the model by varying the inputs and then examine the model"
   ]
  },
  {
   "cell_type": "markdown",
   "metadata": {},
   "source": [
    "## Table of Contents\n",
    "\n",
    "- [Loading Data](#Loading-Data)\n",
    "- [Data Cleaing](#Data-Cleaing)\n",
    "- [Exploratory Data Analysis](#EDA)\n",
    "- [Modeling](#Modeling)\n",
    "- [Model Selection](#Model-Selection)\n",
    "- [Model Tuning](#Model-Tuning)\n",
    "- [Model Evaluation](#Model-Evaluation)\n",
    "- [Conclusions and Recommendations](#Conclusion)\n"
   ]
  },
  {
   "cell_type": "markdown",
   "metadata": {},
   "source": [
    "## Loading Data\n"
   ]
  },
  {
   "cell_type": "code",
   "execution_count": 137,
   "metadata": {},
   "outputs": [],
   "source": [
    "import warnings\n",
    "warnings.filterwarnings(\"ignore\") # Shhhh\n",
    "import numpy as np\n",
    "import pandas as pd\n",
    "import seaborn as sns\n",
    "import matplotlib.pyplot as plt\n",
    "from sklearn.linear_model import LinearRegression\n",
    "from sklearn.model_selection import train_test_split, cross_val_score\n",
    "from sklearn.metrics import mean_squared_error\n",
    "%matplotlib inline\n",
    "RANDOM_STATE = 90210"
   ]
  },
  {
   "cell_type": "code",
   "execution_count": 138,
   "metadata": {},
   "outputs": [],
   "source": [
    "df = pd.read_csv('../datasets/train.csv') \n",
    "# called train.csv but it our dataset"
   ]
  },
  {
   "cell_type": "code",
   "execution_count": 139,
   "metadata": {},
   "outputs": [],
   "source": [
    "pd.set_option(\"display.max_rows\", None, \"display.max_columns\", None)"
   ]
  },
  {
   "cell_type": "code",
   "execution_count": 140,
   "metadata": {},
   "outputs": [
    {
     "data": {
      "text/plain": [
       "(2051, 81)"
      ]
     },
     "execution_count": 140,
     "metadata": {},
     "output_type": "execute_result"
    }
   ],
   "source": [
    "df.shape"
   ]
  },
  {
   "cell_type": "markdown",
   "metadata": {},
   "source": [
    "## Data Cleaning"
   ]
  },
  {
   "cell_type": "code",
   "execution_count": 141,
   "metadata": {},
   "outputs": [],
   "source": [
    "# Convert all columns to lowercase and replace spaces in column names.\n",
    "df.columns = df.columns.str.lower().str.replace(' ', '_')"
   ]
  },
  {
   "cell_type": "code",
   "execution_count": 142,
   "metadata": {},
   "outputs": [],
   "source": [
    "# changing name of column back to Id because that is what Kaggle requires\n",
    "df['Id'] = df['id']"
   ]
  },
  {
   "cell_type": "code",
   "execution_count": 143,
   "metadata": {},
   "outputs": [],
   "source": [
    "# dropping 'id' column that I no longer need\n",
    "df.drop(columns='id', inplace=True)"
   ]
  },
  {
   "cell_type": "code",
   "execution_count": 144,
   "metadata": {
    "scrolled": true
   },
   "outputs": [
    {
     "data": {
      "text/plain": [
       "pid                   0\n",
       "ms_subclass           0\n",
       "ms_zoning             0\n",
       "lot_frontage        330\n",
       "lot_area              0\n",
       "street                0\n",
       "alley              1911\n",
       "lot_shape             0\n",
       "land_contour          0\n",
       "utilities             0\n",
       "lot_config            0\n",
       "land_slope            0\n",
       "neighborhood          0\n",
       "condition_1           0\n",
       "condition_2           0\n",
       "bldg_type             0\n",
       "house_style           0\n",
       "overall_qual          0\n",
       "overall_cond          0\n",
       "year_built            0\n",
       "year_remod/add        0\n",
       "roof_style            0\n",
       "roof_matl             0\n",
       "exterior_1st          0\n",
       "exterior_2nd          0\n",
       "mas_vnr_type         22\n",
       "mas_vnr_area         22\n",
       "exter_qual            0\n",
       "exter_cond            0\n",
       "foundation            0\n",
       "bsmt_qual            55\n",
       "bsmt_cond            55\n",
       "bsmt_exposure        58\n",
       "bsmtfin_type_1       55\n",
       "bsmtfin_sf_1          1\n",
       "bsmtfin_type_2       56\n",
       "bsmtfin_sf_2          1\n",
       "bsmt_unf_sf           1\n",
       "total_bsmt_sf         1\n",
       "heating               0\n",
       "heating_qc            0\n",
       "central_air           0\n",
       "electrical            0\n",
       "1st_flr_sf            0\n",
       "2nd_flr_sf            0\n",
       "low_qual_fin_sf       0\n",
       "gr_liv_area           0\n",
       "bsmt_full_bath        2\n",
       "bsmt_half_bath        2\n",
       "full_bath             0\n",
       "half_bath             0\n",
       "bedroom_abvgr         0\n",
       "kitchen_abvgr         0\n",
       "kitchen_qual          0\n",
       "totrms_abvgrd         0\n",
       "functional            0\n",
       "fireplaces            0\n",
       "fireplace_qu       1000\n",
       "garage_type         113\n",
       "garage_yr_blt       114\n",
       "garage_finish       114\n",
       "garage_cars           1\n",
       "garage_area           1\n",
       "garage_qual         114\n",
       "garage_cond         114\n",
       "paved_drive           0\n",
       "wood_deck_sf          0\n",
       "open_porch_sf         0\n",
       "enclosed_porch        0\n",
       "3ssn_porch            0\n",
       "screen_porch          0\n",
       "pool_area             0\n",
       "pool_qc            2042\n",
       "fence              1651\n",
       "misc_feature       1986\n",
       "misc_val              0\n",
       "mo_sold               0\n",
       "yr_sold               0\n",
       "sale_type             0\n",
       "saleprice             0\n",
       "Id                    0\n",
       "dtype: int64"
      ]
     },
     "execution_count": 144,
     "metadata": {},
     "output_type": "execute_result"
    }
   ],
   "source": [
    "df.isnull().sum()"
   ]
  },
  {
   "cell_type": "code",
   "execution_count": 145,
   "metadata": {},
   "outputs": [
    {
     "data": {
      "text/html": [
       "<div>\n",
       "<style scoped>\n",
       "    .dataframe tbody tr th:only-of-type {\n",
       "        vertical-align: middle;\n",
       "    }\n",
       "\n",
       "    .dataframe tbody tr th {\n",
       "        vertical-align: top;\n",
       "    }\n",
       "\n",
       "    .dataframe thead th {\n",
       "        text-align: right;\n",
       "    }\n",
       "</style>\n",
       "<table border=\"1\" class=\"dataframe\">\n",
       "  <thead>\n",
       "    <tr style=\"text-align: right;\">\n",
       "      <th></th>\n",
       "      <th>pid</th>\n",
       "      <th>ms_subclass</th>\n",
       "      <th>ms_zoning</th>\n",
       "      <th>lot_frontage</th>\n",
       "      <th>lot_area</th>\n",
       "      <th>street</th>\n",
       "      <th>alley</th>\n",
       "      <th>lot_shape</th>\n",
       "      <th>land_contour</th>\n",
       "      <th>utilities</th>\n",
       "      <th>lot_config</th>\n",
       "      <th>land_slope</th>\n",
       "      <th>neighborhood</th>\n",
       "      <th>condition_1</th>\n",
       "      <th>condition_2</th>\n",
       "      <th>bldg_type</th>\n",
       "      <th>house_style</th>\n",
       "      <th>overall_qual</th>\n",
       "      <th>overall_cond</th>\n",
       "      <th>year_built</th>\n",
       "      <th>year_remod/add</th>\n",
       "      <th>roof_style</th>\n",
       "      <th>roof_matl</th>\n",
       "      <th>exterior_1st</th>\n",
       "      <th>exterior_2nd</th>\n",
       "      <th>mas_vnr_type</th>\n",
       "      <th>mas_vnr_area</th>\n",
       "      <th>exter_qual</th>\n",
       "      <th>exter_cond</th>\n",
       "      <th>foundation</th>\n",
       "      <th>bsmt_qual</th>\n",
       "      <th>bsmt_cond</th>\n",
       "      <th>bsmt_exposure</th>\n",
       "      <th>bsmtfin_type_1</th>\n",
       "      <th>bsmtfin_sf_1</th>\n",
       "      <th>bsmtfin_type_2</th>\n",
       "      <th>bsmtfin_sf_2</th>\n",
       "      <th>bsmt_unf_sf</th>\n",
       "      <th>total_bsmt_sf</th>\n",
       "      <th>heating</th>\n",
       "      <th>heating_qc</th>\n",
       "      <th>central_air</th>\n",
       "      <th>electrical</th>\n",
       "      <th>1st_flr_sf</th>\n",
       "      <th>2nd_flr_sf</th>\n",
       "      <th>low_qual_fin_sf</th>\n",
       "      <th>gr_liv_area</th>\n",
       "      <th>bsmt_full_bath</th>\n",
       "      <th>bsmt_half_bath</th>\n",
       "      <th>full_bath</th>\n",
       "      <th>half_bath</th>\n",
       "      <th>bedroom_abvgr</th>\n",
       "      <th>kitchen_abvgr</th>\n",
       "      <th>kitchen_qual</th>\n",
       "      <th>totrms_abvgrd</th>\n",
       "      <th>functional</th>\n",
       "      <th>fireplaces</th>\n",
       "      <th>fireplace_qu</th>\n",
       "      <th>garage_type</th>\n",
       "      <th>garage_yr_blt</th>\n",
       "      <th>garage_finish</th>\n",
       "      <th>garage_cars</th>\n",
       "      <th>garage_area</th>\n",
       "      <th>garage_qual</th>\n",
       "      <th>garage_cond</th>\n",
       "      <th>paved_drive</th>\n",
       "      <th>wood_deck_sf</th>\n",
       "      <th>open_porch_sf</th>\n",
       "      <th>enclosed_porch</th>\n",
       "      <th>3ssn_porch</th>\n",
       "      <th>screen_porch</th>\n",
       "      <th>pool_area</th>\n",
       "      <th>pool_qc</th>\n",
       "      <th>fence</th>\n",
       "      <th>misc_feature</th>\n",
       "      <th>misc_val</th>\n",
       "      <th>mo_sold</th>\n",
       "      <th>yr_sold</th>\n",
       "      <th>sale_type</th>\n",
       "      <th>saleprice</th>\n",
       "      <th>Id</th>\n",
       "    </tr>\n",
       "  </thead>\n",
       "  <tbody>\n",
       "  </tbody>\n",
       "</table>\n",
       "</div>"
      ],
      "text/plain": [
       "Empty DataFrame\n",
       "Columns: [pid, ms_subclass, ms_zoning, lot_frontage, lot_area, street, alley, lot_shape, land_contour, utilities, lot_config, land_slope, neighborhood, condition_1, condition_2, bldg_type, house_style, overall_qual, overall_cond, year_built, year_remod/add, roof_style, roof_matl, exterior_1st, exterior_2nd, mas_vnr_type, mas_vnr_area, exter_qual, exter_cond, foundation, bsmt_qual, bsmt_cond, bsmt_exposure, bsmtfin_type_1, bsmtfin_sf_1, bsmtfin_type_2, bsmtfin_sf_2, bsmt_unf_sf, total_bsmt_sf, heating, heating_qc, central_air, electrical, 1st_flr_sf, 2nd_flr_sf, low_qual_fin_sf, gr_liv_area, bsmt_full_bath, bsmt_half_bath, full_bath, half_bath, bedroom_abvgr, kitchen_abvgr, kitchen_qual, totrms_abvgrd, functional, fireplaces, fireplace_qu, garage_type, garage_yr_blt, garage_finish, garage_cars, garage_area, garage_qual, garage_cond, paved_drive, wood_deck_sf, open_porch_sf, enclosed_porch, 3ssn_porch, screen_porch, pool_area, pool_qc, fence, misc_feature, misc_val, mo_sold, yr_sold, sale_type, saleprice, Id]\n",
       "Index: []"
      ]
     },
     "execution_count": 145,
     "metadata": {},
     "output_type": "execute_result"
    }
   ],
   "source": [
    "# no duplicated columns\n",
    "df[df.duplicated()]"
   ]
  },
  {
   "cell_type": "code",
   "execution_count": 146,
   "metadata": {},
   "outputs": [],
   "source": [
    "# For MS Zoning, changing those entries to just read C, A and I in the data. If they are already \n",
    "# listed that way they will be left alone\n",
    "for i, item in enumerate(df['ms_zoning']):\n",
    "    if item == 'C (all)':\n",
    "        df['ms_zoning'][i] = 'C'\n",
    "    elif item == 'A (agr)':\n",
    "        df['ms_zoning'][i] = 'A'\n",
    "    elif item == 'I (all)':\n",
    "        df['ms_zoning'][i] = 'I'\n"
   ]
  },
  {
   "cell_type": "code",
   "execution_count": 147,
   "metadata": {},
   "outputs": [],
   "source": [
    "# To impute values for Lot Frontage, my first thought was to look at the using \n",
    "# Lot Frontage / Lot Area since frontage is one of the compenents of the area\n",
    "# (sometimes two)\n",
    "df['lot_frontage/lot_area'] = df['lot_frontage'] / df['lot_area']"
   ]
  },
  {
   "cell_type": "code",
   "execution_count": 148,
   "metadata": {
    "scrolled": true
   },
   "outputs": [
    {
     "data": {
      "text/plain": [
       "count    1721.000000\n",
       "mean        0.007918\n",
       "std         0.002431\n",
       "min         0.000876\n",
       "25%         0.006626\n",
       "50%         0.007727\n",
       "75%         0.008701\n",
       "max         0.037154\n",
       "Name: lot_frontage/lot_area, dtype: float64"
      ]
     },
     "execution_count": 148,
     "metadata": {},
     "output_type": "execute_result"
    }
   ],
   "source": [
    "# We see that the mean of this relationship is .007918 with a std of .002431\n",
    "df['lot_frontage/lot_area'].describe()"
   ]
  },
  {
   "cell_type": "code",
   "execution_count": 149,
   "metadata": {},
   "outputs": [
    {
     "data": {
      "text/plain": [
       "lot_shape  lot_config\n",
       "IR1        Corner        0.003470\n",
       "           CulDSac       0.002249\n",
       "           FR2           0.002378\n",
       "           FR3           0.004719\n",
       "           Inside        0.002194\n",
       "IR2        Corner             NaN\n",
       "           CulDSac       0.001251\n",
       "           FR2           0.001159\n",
       "           Inside        0.003610\n",
       "IR3        Corner        0.004294\n",
       "           Inside        0.001428\n",
       "Reg        Corner        0.002107\n",
       "           CulDSac            NaN\n",
       "           FR2           0.001577\n",
       "           FR3           0.001017\n",
       "           Inside        0.002188\n",
       "Name: lot_frontage/lot_area, dtype: float64"
      ]
     },
     "execution_count": 149,
     "metadata": {},
     "output_type": "execute_result"
    }
   ],
   "source": [
    "# To try to lower the average standard deviation, I looked at the standard deviations\n",
    "# for the various combinations of Lot Shape and Lot Configuration\n",
    "# the average standard deviation was lower for these combinations\n",
    "lshape = df['lot_shape']\n",
    "lconfig = df['lot_config']\n",
    "df.groupby([lshape, lconfig])['lot_frontage/lot_area'].std()"
   ]
  },
  {
   "cell_type": "code",
   "execution_count": 150,
   "metadata": {},
   "outputs": [],
   "source": [
    "# creating a dictionary of lot shape/config combinations and means for lot frontage/area\n",
    "lot_frontage_dict = {}\n",
    "for shape in df['lot_shape'].unique():\n",
    "    for config in df['lot_config'].unique():\n",
    "        lshape = df['lot_shape'] == shape\n",
    "        lconfig = df['lot_config'] == config\n",
    "        lot_frontage_dict[(shape,config)] = df.groupby([lshape,lconfig])['lot_frontage/lot_area'].mean()"
   ]
  },
  {
   "cell_type": "code",
   "execution_count": 151,
   "metadata": {},
   "outputs": [],
   "source": [
    "# building a list of frontages with current values and, for Nan's, filling in with \n",
    "# the lot area times the mean figure for that row's shape/config combination\n",
    "lot_frontage_list = []\n",
    "for i, item in enumerate(df['lot_frontage']):\n",
    "    if item > 0:\n",
    "        lot_frontage_list.append(item)\n",
    "    else:\n",
    "        new_item = df['lot_area'][i] * lot_frontage_dict[(df['lot_shape'][i],df['lot_config'][i])][True][True]\n",
    "        lot_frontage_list.append(new_item)"
   ]
  },
  {
   "cell_type": "code",
   "execution_count": 152,
   "metadata": {},
   "outputs": [],
   "source": [
    "# replacing Lot Frontage with the elements from the list\n",
    "df['lot_frontage'] = lot_frontage_list"
   ]
  },
  {
   "cell_type": "code",
   "execution_count": 153,
   "metadata": {},
   "outputs": [],
   "source": [
    "df.drop(columns='lot_frontage/lot_area', inplace=True)"
   ]
  },
  {
   "cell_type": "code",
   "execution_count": 154,
   "metadata": {},
   "outputs": [],
   "source": [
    "# Filling Nan cells with No_Alley\n",
    "df['alley'].fillna('No_Alley',inplace=True)"
   ]
  },
  {
   "cell_type": "code",
   "execution_count": 155,
   "metadata": {},
   "outputs": [],
   "source": [
    "# fill in Nan's with 'None' since that is what they meant to input\n",
    "df['mas_vnr_type'].fillna('None',inplace=True)"
   ]
  },
  {
   "cell_type": "code",
   "execution_count": 156,
   "metadata": {},
   "outputs": [],
   "source": [
    "# fill in Nan's with 0 since that is what they meant to input\n",
    "df['mas_vnr_area'].fillna(0,inplace=True)"
   ]
  },
  {
   "cell_type": "code",
   "execution_count": 157,
   "metadata": {},
   "outputs": [],
   "source": [
    "# fill in Nan's with 'NA' since that is what they meant to input\n",
    "df['bsmt_qual'].fillna('NA',inplace=True)"
   ]
  },
  {
   "cell_type": "code",
   "execution_count": 158,
   "metadata": {},
   "outputs": [],
   "source": [
    "# fill in Nan's with 'NA' since that is what they meant to input\n",
    "df['bsmt_cond'].fillna('NA',inplace=True)"
   ]
  },
  {
   "cell_type": "code",
   "execution_count": 159,
   "metadata": {},
   "outputs": [],
   "source": [
    "df['bsmt_exposure'].fillna('NA',inplace=True)"
   ]
  },
  {
   "cell_type": "code",
   "execution_count": 160,
   "metadata": {},
   "outputs": [],
   "source": [
    "df['bsmtfin_type_1'].fillna('NA',inplace=True)"
   ]
  },
  {
   "cell_type": "code",
   "execution_count": 161,
   "metadata": {},
   "outputs": [],
   "source": [
    "df['bsmtfin_sf_1'].fillna(0,inplace=True)"
   ]
  },
  {
   "cell_type": "code",
   "execution_count": 162,
   "metadata": {},
   "outputs": [],
   "source": [
    "df['bsmtfin_type_2'].fillna('NA',inplace=True)"
   ]
  },
  {
   "cell_type": "code",
   "execution_count": 163,
   "metadata": {},
   "outputs": [],
   "source": [
    "df['bsmtfin_sf_2'].fillna(0,inplace=True)"
   ]
  },
  {
   "cell_type": "code",
   "execution_count": 164,
   "metadata": {},
   "outputs": [],
   "source": [
    "df['bsmt_unf_sf'].fillna(0,inplace=True)"
   ]
  },
  {
   "cell_type": "code",
   "execution_count": 165,
   "metadata": {},
   "outputs": [],
   "source": [
    "df['total_bsmt_sf'].fillna(0,inplace=True)"
   ]
  },
  {
   "cell_type": "code",
   "execution_count": 166,
   "metadata": {},
   "outputs": [],
   "source": [
    "df['bsmt_full_bath'].fillna(0,inplace=True)"
   ]
  },
  {
   "cell_type": "code",
   "execution_count": 167,
   "metadata": {},
   "outputs": [],
   "source": [
    "df['bsmt_half_bath'].fillna(0,inplace=True)"
   ]
  },
  {
   "cell_type": "code",
   "execution_count": 168,
   "metadata": {},
   "outputs": [],
   "source": [
    "df['fireplace_qu'].fillna('NA',inplace=True)"
   ]
  },
  {
   "cell_type": "code",
   "execution_count": 169,
   "metadata": {},
   "outputs": [],
   "source": [
    "df['garage_type'].fillna('NA',inplace=True)"
   ]
  },
  {
   "cell_type": "code",
   "execution_count": 170,
   "metadata": {},
   "outputs": [],
   "source": [
    "# creating a list of garage yr blt - year house built for each row\n",
    "garage_vs_home = [df['garage_yr_blt'][i] - df['year_built'][i] for i, n in enumerate(df['year_built'])]"
   ]
  },
  {
   "cell_type": "code",
   "execution_count": 171,
   "metadata": {},
   "outputs": [
    {
     "name": "stdout",
     "output_type": "stream",
     "text": [
      "0.8074341765616934\n"
     ]
    }
   ],
   "source": [
    "count = 0\n",
    "for item in garage_vs_home:\n",
    "    if item == 0:\n",
    "        count += 1\n",
    "print(count/(len(garage_vs_home)-114))"
   ]
  },
  {
   "cell_type": "markdown",
   "metadata": {},
   "source": [
    "Given that 81% of rows that list a garage yr blt list the same year as the year home built, it is reasonable to say that this column is about two things: \n",
    "1. Understanding if a garage was added on at a later date\n",
    "2. Learning how recently it was added on\n",
    "\n",
    "Since NA for the garage yr blt column is about people who have no garages at all, it seems logical to have their cells give the year home built value since there was no garage added later and we have other cells that convey that the house has no garage"
   ]
  },
  {
   "cell_type": "code",
   "execution_count": 172,
   "metadata": {},
   "outputs": [],
   "source": [
    "# creating list to replace garage yr blt info with Nan's filled in\n",
    "garage_yr_list = []\n",
    "for i, item in enumerate(df['garage_yr_blt']):\n",
    "    if item > 0:\n",
    "        garage_yr_list.append(df['garage_yr_blt'][i])\n",
    "    else:\n",
    "        garage_yr_list.append(df['year_built'][i])\n"
   ]
  },
  {
   "cell_type": "code",
   "execution_count": 173,
   "metadata": {},
   "outputs": [],
   "source": [
    "# replacing data\n",
    "df['garage_yr_blt'] = garage_yr_list"
   ]
  },
  {
   "cell_type": "code",
   "execution_count": 174,
   "metadata": {},
   "outputs": [],
   "source": [
    "# Assuming should be 0 as they have no garage\n",
    "df['garage_finish'].fillna('NA',inplace=True)"
   ]
  },
  {
   "cell_type": "code",
   "execution_count": 175,
   "metadata": {},
   "outputs": [
    {
     "data": {
      "text/html": [
       "<div>\n",
       "<style scoped>\n",
       "    .dataframe tbody tr th:only-of-type {\n",
       "        vertical-align: middle;\n",
       "    }\n",
       "\n",
       "    .dataframe tbody tr th {\n",
       "        vertical-align: top;\n",
       "    }\n",
       "\n",
       "    .dataframe thead th {\n",
       "        text-align: right;\n",
       "    }\n",
       "</style>\n",
       "<table border=\"1\" class=\"dataframe\">\n",
       "  <thead>\n",
       "    <tr style=\"text-align: right;\">\n",
       "      <th></th>\n",
       "      <th>pid</th>\n",
       "      <th>ms_subclass</th>\n",
       "      <th>ms_zoning</th>\n",
       "      <th>lot_frontage</th>\n",
       "      <th>lot_area</th>\n",
       "      <th>street</th>\n",
       "      <th>alley</th>\n",
       "      <th>lot_shape</th>\n",
       "      <th>land_contour</th>\n",
       "      <th>utilities</th>\n",
       "      <th>lot_config</th>\n",
       "      <th>land_slope</th>\n",
       "      <th>neighborhood</th>\n",
       "      <th>condition_1</th>\n",
       "      <th>condition_2</th>\n",
       "      <th>bldg_type</th>\n",
       "      <th>house_style</th>\n",
       "      <th>overall_qual</th>\n",
       "      <th>overall_cond</th>\n",
       "      <th>year_built</th>\n",
       "      <th>year_remod/add</th>\n",
       "      <th>roof_style</th>\n",
       "      <th>roof_matl</th>\n",
       "      <th>exterior_1st</th>\n",
       "      <th>exterior_2nd</th>\n",
       "      <th>mas_vnr_type</th>\n",
       "      <th>mas_vnr_area</th>\n",
       "      <th>exter_qual</th>\n",
       "      <th>exter_cond</th>\n",
       "      <th>foundation</th>\n",
       "      <th>bsmt_qual</th>\n",
       "      <th>bsmt_cond</th>\n",
       "      <th>bsmt_exposure</th>\n",
       "      <th>bsmtfin_type_1</th>\n",
       "      <th>bsmtfin_sf_1</th>\n",
       "      <th>bsmtfin_type_2</th>\n",
       "      <th>bsmtfin_sf_2</th>\n",
       "      <th>bsmt_unf_sf</th>\n",
       "      <th>total_bsmt_sf</th>\n",
       "      <th>heating</th>\n",
       "      <th>heating_qc</th>\n",
       "      <th>central_air</th>\n",
       "      <th>electrical</th>\n",
       "      <th>1st_flr_sf</th>\n",
       "      <th>2nd_flr_sf</th>\n",
       "      <th>low_qual_fin_sf</th>\n",
       "      <th>gr_liv_area</th>\n",
       "      <th>bsmt_full_bath</th>\n",
       "      <th>bsmt_half_bath</th>\n",
       "      <th>full_bath</th>\n",
       "      <th>half_bath</th>\n",
       "      <th>bedroom_abvgr</th>\n",
       "      <th>kitchen_abvgr</th>\n",
       "      <th>kitchen_qual</th>\n",
       "      <th>totrms_abvgrd</th>\n",
       "      <th>functional</th>\n",
       "      <th>fireplaces</th>\n",
       "      <th>fireplace_qu</th>\n",
       "      <th>garage_type</th>\n",
       "      <th>garage_yr_blt</th>\n",
       "      <th>garage_finish</th>\n",
       "      <th>garage_cars</th>\n",
       "      <th>garage_area</th>\n",
       "      <th>garage_qual</th>\n",
       "      <th>garage_cond</th>\n",
       "      <th>paved_drive</th>\n",
       "      <th>wood_deck_sf</th>\n",
       "      <th>open_porch_sf</th>\n",
       "      <th>enclosed_porch</th>\n",
       "      <th>3ssn_porch</th>\n",
       "      <th>screen_porch</th>\n",
       "      <th>pool_area</th>\n",
       "      <th>pool_qc</th>\n",
       "      <th>fence</th>\n",
       "      <th>misc_feature</th>\n",
       "      <th>misc_val</th>\n",
       "      <th>mo_sold</th>\n",
       "      <th>yr_sold</th>\n",
       "      <th>sale_type</th>\n",
       "      <th>saleprice</th>\n",
       "      <th>Id</th>\n",
       "    </tr>\n",
       "  </thead>\n",
       "  <tbody>\n",
       "    <tr>\n",
       "      <td>289</td>\n",
       "      <td>923202015</td>\n",
       "      <td>90</td>\n",
       "      <td>RM</td>\n",
       "      <td>78.000000</td>\n",
       "      <td>7060</td>\n",
       "      <td>Pave</td>\n",
       "      <td>No_Alley</td>\n",
       "      <td>Reg</td>\n",
       "      <td>Lvl</td>\n",
       "      <td>AllPub</td>\n",
       "      <td>Inside</td>\n",
       "      <td>Gtl</td>\n",
       "      <td>Mitchel</td>\n",
       "      <td>Norm</td>\n",
       "      <td>Norm</td>\n",
       "      <td>Duplex</td>\n",
       "      <td>SFoyer</td>\n",
       "      <td>7</td>\n",
       "      <td>5</td>\n",
       "      <td>1997</td>\n",
       "      <td>1998</td>\n",
       "      <td>Gable</td>\n",
       "      <td>CompShg</td>\n",
       "      <td>VinylSd</td>\n",
       "      <td>VinylSd</td>\n",
       "      <td>BrkFace</td>\n",
       "      <td>200.0</td>\n",
       "      <td>TA</td>\n",
       "      <td>Gd</td>\n",
       "      <td>PConc</td>\n",
       "      <td>Gd</td>\n",
       "      <td>Gd</td>\n",
       "      <td>Gd</td>\n",
       "      <td>GLQ</td>\n",
       "      <td>1309.0</td>\n",
       "      <td>Unf</td>\n",
       "      <td>0.0</td>\n",
       "      <td>35.0</td>\n",
       "      <td>1344.0</td>\n",
       "      <td>GasA</td>\n",
       "      <td>Ex</td>\n",
       "      <td>Y</td>\n",
       "      <td>SBrkr</td>\n",
       "      <td>1344</td>\n",
       "      <td>0</td>\n",
       "      <td>0</td>\n",
       "      <td>1344</td>\n",
       "      <td>2.0</td>\n",
       "      <td>0.0</td>\n",
       "      <td>2</td>\n",
       "      <td>0</td>\n",
       "      <td>2</td>\n",
       "      <td>2</td>\n",
       "      <td>TA</td>\n",
       "      <td>8</td>\n",
       "      <td>Typ</td>\n",
       "      <td>0</td>\n",
       "      <td>NA</td>\n",
       "      <td>Attchd</td>\n",
       "      <td>1997.0</td>\n",
       "      <td>Fin</td>\n",
       "      <td>4.0</td>\n",
       "      <td>784.0</td>\n",
       "      <td>TA</td>\n",
       "      <td>TA</td>\n",
       "      <td>Y</td>\n",
       "      <td>0</td>\n",
       "      <td>0</td>\n",
       "      <td>0</td>\n",
       "      <td>0</td>\n",
       "      <td>0</td>\n",
       "      <td>0</td>\n",
       "      <td>NaN</td>\n",
       "      <td>NaN</td>\n",
       "      <td>NaN</td>\n",
       "      <td>0</td>\n",
       "      <td>11</td>\n",
       "      <td>2008</td>\n",
       "      <td>WD</td>\n",
       "      <td>206300</td>\n",
       "      <td>1590</td>\n",
       "    </tr>\n",
       "    <tr>\n",
       "      <td>332</td>\n",
       "      <td>528118090</td>\n",
       "      <td>60</td>\n",
       "      <td>RL</td>\n",
       "      <td>96.000000</td>\n",
       "      <td>12539</td>\n",
       "      <td>Pave</td>\n",
       "      <td>No_Alley</td>\n",
       "      <td>Reg</td>\n",
       "      <td>Lvl</td>\n",
       "      <td>AllPub</td>\n",
       "      <td>Inside</td>\n",
       "      <td>Gtl</td>\n",
       "      <td>NridgHt</td>\n",
       "      <td>PosN</td>\n",
       "      <td>Norm</td>\n",
       "      <td>1Fam</td>\n",
       "      <td>2Story</td>\n",
       "      <td>10</td>\n",
       "      <td>5</td>\n",
       "      <td>2005</td>\n",
       "      <td>2006</td>\n",
       "      <td>Hip</td>\n",
       "      <td>CompShg</td>\n",
       "      <td>CemntBd</td>\n",
       "      <td>CmentBd</td>\n",
       "      <td>BrkFace</td>\n",
       "      <td>468.0</td>\n",
       "      <td>Ex</td>\n",
       "      <td>TA</td>\n",
       "      <td>PConc</td>\n",
       "      <td>Ex</td>\n",
       "      <td>TA</td>\n",
       "      <td>Gd</td>\n",
       "      <td>GLQ</td>\n",
       "      <td>1082.0</td>\n",
       "      <td>Unf</td>\n",
       "      <td>0.0</td>\n",
       "      <td>538.0</td>\n",
       "      <td>1620.0</td>\n",
       "      <td>GasA</td>\n",
       "      <td>Ex</td>\n",
       "      <td>Y</td>\n",
       "      <td>SBrkr</td>\n",
       "      <td>1632</td>\n",
       "      <td>1158</td>\n",
       "      <td>0</td>\n",
       "      <td>2790</td>\n",
       "      <td>1.0</td>\n",
       "      <td>0.0</td>\n",
       "      <td>2</td>\n",
       "      <td>1</td>\n",
       "      <td>4</td>\n",
       "      <td>1</td>\n",
       "      <td>Ex</td>\n",
       "      <td>10</td>\n",
       "      <td>Typ</td>\n",
       "      <td>1</td>\n",
       "      <td>Ex</td>\n",
       "      <td>BuiltIn</td>\n",
       "      <td>2005.0</td>\n",
       "      <td>Fin</td>\n",
       "      <td>4.0</td>\n",
       "      <td>1150.0</td>\n",
       "      <td>TA</td>\n",
       "      <td>TA</td>\n",
       "      <td>Y</td>\n",
       "      <td>30</td>\n",
       "      <td>200</td>\n",
       "      <td>0</td>\n",
       "      <td>0</td>\n",
       "      <td>192</td>\n",
       "      <td>0</td>\n",
       "      <td>NaN</td>\n",
       "      <td>NaN</td>\n",
       "      <td>NaN</td>\n",
       "      <td>0</td>\n",
       "      <td>6</td>\n",
       "      <td>2008</td>\n",
       "      <td>WD</td>\n",
       "      <td>460000</td>\n",
       "      <td>1060</td>\n",
       "    </tr>\n",
       "    <tr>\n",
       "      <td>337</td>\n",
       "      <td>923205025</td>\n",
       "      <td>190</td>\n",
       "      <td>RL</td>\n",
       "      <td>266.196373</td>\n",
       "      <td>32463</td>\n",
       "      <td>Pave</td>\n",
       "      <td>No_Alley</td>\n",
       "      <td>Reg</td>\n",
       "      <td>Low</td>\n",
       "      <td>AllPub</td>\n",
       "      <td>Inside</td>\n",
       "      <td>Mod</td>\n",
       "      <td>Mitchel</td>\n",
       "      <td>Norm</td>\n",
       "      <td>Norm</td>\n",
       "      <td>2fmCon</td>\n",
       "      <td>1Story</td>\n",
       "      <td>4</td>\n",
       "      <td>4</td>\n",
       "      <td>1961</td>\n",
       "      <td>1975</td>\n",
       "      <td>Gable</td>\n",
       "      <td>CompShg</td>\n",
       "      <td>MetalSd</td>\n",
       "      <td>MetalSd</td>\n",
       "      <td>Stone</td>\n",
       "      <td>149.0</td>\n",
       "      <td>TA</td>\n",
       "      <td>Gd</td>\n",
       "      <td>CBlock</td>\n",
       "      <td>TA</td>\n",
       "      <td>TA</td>\n",
       "      <td>Av</td>\n",
       "      <td>BLQ</td>\n",
       "      <td>1159.0</td>\n",
       "      <td>Unf</td>\n",
       "      <td>0.0</td>\n",
       "      <td>90.0</td>\n",
       "      <td>1249.0</td>\n",
       "      <td>GasA</td>\n",
       "      <td>Ex</td>\n",
       "      <td>Y</td>\n",
       "      <td>SBrkr</td>\n",
       "      <td>1622</td>\n",
       "      <td>0</td>\n",
       "      <td>0</td>\n",
       "      <td>1622</td>\n",
       "      <td>1.0</td>\n",
       "      <td>0.0</td>\n",
       "      <td>1</td>\n",
       "      <td>0</td>\n",
       "      <td>3</td>\n",
       "      <td>1</td>\n",
       "      <td>TA</td>\n",
       "      <td>7</td>\n",
       "      <td>Typ</td>\n",
       "      <td>1</td>\n",
       "      <td>TA</td>\n",
       "      <td>2Types</td>\n",
       "      <td>1975.0</td>\n",
       "      <td>Fin</td>\n",
       "      <td>4.0</td>\n",
       "      <td>1356.0</td>\n",
       "      <td>TA</td>\n",
       "      <td>TA</td>\n",
       "      <td>Y</td>\n",
       "      <td>439</td>\n",
       "      <td>0</td>\n",
       "      <td>0</td>\n",
       "      <td>0</td>\n",
       "      <td>0</td>\n",
       "      <td>0</td>\n",
       "      <td>NaN</td>\n",
       "      <td>NaN</td>\n",
       "      <td>NaN</td>\n",
       "      <td>0</td>\n",
       "      <td>3</td>\n",
       "      <td>2007</td>\n",
       "      <td>WD</td>\n",
       "      <td>168000</td>\n",
       "      <td>2283</td>\n",
       "    </tr>\n",
       "    <tr>\n",
       "      <td>925</td>\n",
       "      <td>903236040</td>\n",
       "      <td>30</td>\n",
       "      <td>RM</td>\n",
       "      <td>50.000000</td>\n",
       "      <td>8635</td>\n",
       "      <td>Pave</td>\n",
       "      <td>No_Alley</td>\n",
       "      <td>Reg</td>\n",
       "      <td>Lvl</td>\n",
       "      <td>AllPub</td>\n",
       "      <td>Inside</td>\n",
       "      <td>Gtl</td>\n",
       "      <td>BrkSide</td>\n",
       "      <td>Norm</td>\n",
       "      <td>Norm</td>\n",
       "      <td>1Fam</td>\n",
       "      <td>1Story</td>\n",
       "      <td>5</td>\n",
       "      <td>5</td>\n",
       "      <td>1925</td>\n",
       "      <td>1950</td>\n",
       "      <td>Hip</td>\n",
       "      <td>CompShg</td>\n",
       "      <td>Wd Sdng</td>\n",
       "      <td>Wd Sdng</td>\n",
       "      <td>None</td>\n",
       "      <td>0.0</td>\n",
       "      <td>TA</td>\n",
       "      <td>Fa</td>\n",
       "      <td>BrkTil</td>\n",
       "      <td>TA</td>\n",
       "      <td>TA</td>\n",
       "      <td>No</td>\n",
       "      <td>LwQ</td>\n",
       "      <td>134.0</td>\n",
       "      <td>Unf</td>\n",
       "      <td>0.0</td>\n",
       "      <td>938.0</td>\n",
       "      <td>1072.0</td>\n",
       "      <td>GasA</td>\n",
       "      <td>TA</td>\n",
       "      <td>Y</td>\n",
       "      <td>SBrkr</td>\n",
       "      <td>1072</td>\n",
       "      <td>0</td>\n",
       "      <td>0</td>\n",
       "      <td>1072</td>\n",
       "      <td>1.0</td>\n",
       "      <td>0.0</td>\n",
       "      <td>1</td>\n",
       "      <td>0</td>\n",
       "      <td>2</td>\n",
       "      <td>1</td>\n",
       "      <td>TA</td>\n",
       "      <td>5</td>\n",
       "      <td>Typ</td>\n",
       "      <td>0</td>\n",
       "      <td>NA</td>\n",
       "      <td>Detchd</td>\n",
       "      <td>1982.0</td>\n",
       "      <td>Unf</td>\n",
       "      <td>5.0</td>\n",
       "      <td>1184.0</td>\n",
       "      <td>Fa</td>\n",
       "      <td>TA</td>\n",
       "      <td>P</td>\n",
       "      <td>0</td>\n",
       "      <td>0</td>\n",
       "      <td>105</td>\n",
       "      <td>0</td>\n",
       "      <td>0</td>\n",
       "      <td>0</td>\n",
       "      <td>NaN</td>\n",
       "      <td>NaN</td>\n",
       "      <td>NaN</td>\n",
       "      <td>0</td>\n",
       "      <td>8</td>\n",
       "      <td>2009</td>\n",
       "      <td>WD</td>\n",
       "      <td>126500</td>\n",
       "      <td>747</td>\n",
       "    </tr>\n",
       "    <tr>\n",
       "      <td>1712</td>\n",
       "      <td>910201180</td>\n",
       "      <td>70</td>\n",
       "      <td>RM</td>\n",
       "      <td>50.000000</td>\n",
       "      <td>9060</td>\n",
       "      <td>Pave</td>\n",
       "      <td>No_Alley</td>\n",
       "      <td>Reg</td>\n",
       "      <td>Lvl</td>\n",
       "      <td>AllPub</td>\n",
       "      <td>Inside</td>\n",
       "      <td>Gtl</td>\n",
       "      <td>IDOTRR</td>\n",
       "      <td>Norm</td>\n",
       "      <td>Norm</td>\n",
       "      <td>1Fam</td>\n",
       "      <td>2Story</td>\n",
       "      <td>5</td>\n",
       "      <td>6</td>\n",
       "      <td>1923</td>\n",
       "      <td>1999</td>\n",
       "      <td>Gable</td>\n",
       "      <td>CompShg</td>\n",
       "      <td>Wd Sdng</td>\n",
       "      <td>Plywood</td>\n",
       "      <td>None</td>\n",
       "      <td>0.0</td>\n",
       "      <td>TA</td>\n",
       "      <td>TA</td>\n",
       "      <td>BrkTil</td>\n",
       "      <td>Gd</td>\n",
       "      <td>TA</td>\n",
       "      <td>No</td>\n",
       "      <td>ALQ</td>\n",
       "      <td>548.0</td>\n",
       "      <td>Unf</td>\n",
       "      <td>0.0</td>\n",
       "      <td>311.0</td>\n",
       "      <td>859.0</td>\n",
       "      <td>GasA</td>\n",
       "      <td>Ex</td>\n",
       "      <td>Y</td>\n",
       "      <td>SBrkr</td>\n",
       "      <td>942</td>\n",
       "      <td>886</td>\n",
       "      <td>0</td>\n",
       "      <td>1828</td>\n",
       "      <td>0.0</td>\n",
       "      <td>0.0</td>\n",
       "      <td>2</td>\n",
       "      <td>0</td>\n",
       "      <td>3</td>\n",
       "      <td>1</td>\n",
       "      <td>Gd</td>\n",
       "      <td>6</td>\n",
       "      <td>Typ</td>\n",
       "      <td>0</td>\n",
       "      <td>NA</td>\n",
       "      <td>Detchd</td>\n",
       "      <td>1923.0</td>\n",
       "      <td>NA</td>\n",
       "      <td>NaN</td>\n",
       "      <td>NaN</td>\n",
       "      <td>NaN</td>\n",
       "      <td>NaN</td>\n",
       "      <td>Y</td>\n",
       "      <td>174</td>\n",
       "      <td>0</td>\n",
       "      <td>212</td>\n",
       "      <td>0</td>\n",
       "      <td>0</td>\n",
       "      <td>0</td>\n",
       "      <td>NaN</td>\n",
       "      <td>MnPrv</td>\n",
       "      <td>NaN</td>\n",
       "      <td>0</td>\n",
       "      <td>3</td>\n",
       "      <td>2007</td>\n",
       "      <td>WD</td>\n",
       "      <td>150909</td>\n",
       "      <td>2237</td>\n",
       "    </tr>\n",
       "  </tbody>\n",
       "</table>\n",
       "</div>"
      ],
      "text/plain": [
       "            pid  ms_subclass ms_zoning  lot_frontage  lot_area street  \\\n",
       "289   923202015           90        RM     78.000000      7060   Pave   \n",
       "332   528118090           60        RL     96.000000     12539   Pave   \n",
       "337   923205025          190        RL    266.196373     32463   Pave   \n",
       "925   903236040           30        RM     50.000000      8635   Pave   \n",
       "1712  910201180           70        RM     50.000000      9060   Pave   \n",
       "\n",
       "         alley lot_shape land_contour utilities lot_config land_slope  \\\n",
       "289   No_Alley       Reg          Lvl    AllPub     Inside        Gtl   \n",
       "332   No_Alley       Reg          Lvl    AllPub     Inside        Gtl   \n",
       "337   No_Alley       Reg          Low    AllPub     Inside        Mod   \n",
       "925   No_Alley       Reg          Lvl    AllPub     Inside        Gtl   \n",
       "1712  No_Alley       Reg          Lvl    AllPub     Inside        Gtl   \n",
       "\n",
       "     neighborhood condition_1 condition_2 bldg_type house_style  overall_qual  \\\n",
       "289       Mitchel        Norm        Norm    Duplex      SFoyer             7   \n",
       "332       NridgHt        PosN        Norm      1Fam      2Story            10   \n",
       "337       Mitchel        Norm        Norm    2fmCon      1Story             4   \n",
       "925       BrkSide        Norm        Norm      1Fam      1Story             5   \n",
       "1712       IDOTRR        Norm        Norm      1Fam      2Story             5   \n",
       "\n",
       "      overall_cond  year_built  year_remod/add roof_style roof_matl  \\\n",
       "289              5        1997            1998      Gable   CompShg   \n",
       "332              5        2005            2006        Hip   CompShg   \n",
       "337              4        1961            1975      Gable   CompShg   \n",
       "925              5        1925            1950        Hip   CompShg   \n",
       "1712             6        1923            1999      Gable   CompShg   \n",
       "\n",
       "     exterior_1st exterior_2nd mas_vnr_type  mas_vnr_area exter_qual  \\\n",
       "289       VinylSd      VinylSd      BrkFace         200.0         TA   \n",
       "332       CemntBd      CmentBd      BrkFace         468.0         Ex   \n",
       "337       MetalSd      MetalSd        Stone         149.0         TA   \n",
       "925       Wd Sdng      Wd Sdng         None           0.0         TA   \n",
       "1712      Wd Sdng      Plywood         None           0.0         TA   \n",
       "\n",
       "     exter_cond foundation bsmt_qual bsmt_cond bsmt_exposure bsmtfin_type_1  \\\n",
       "289          Gd      PConc        Gd        Gd            Gd            GLQ   \n",
       "332          TA      PConc        Ex        TA            Gd            GLQ   \n",
       "337          Gd     CBlock        TA        TA            Av            BLQ   \n",
       "925          Fa     BrkTil        TA        TA            No            LwQ   \n",
       "1712         TA     BrkTil        Gd        TA            No            ALQ   \n",
       "\n",
       "      bsmtfin_sf_1 bsmtfin_type_2  bsmtfin_sf_2  bsmt_unf_sf  total_bsmt_sf  \\\n",
       "289         1309.0            Unf           0.0         35.0         1344.0   \n",
       "332         1082.0            Unf           0.0        538.0         1620.0   \n",
       "337         1159.0            Unf           0.0         90.0         1249.0   \n",
       "925          134.0            Unf           0.0        938.0         1072.0   \n",
       "1712         548.0            Unf           0.0        311.0          859.0   \n",
       "\n",
       "     heating heating_qc central_air electrical  1st_flr_sf  2nd_flr_sf  \\\n",
       "289     GasA         Ex           Y      SBrkr        1344           0   \n",
       "332     GasA         Ex           Y      SBrkr        1632        1158   \n",
       "337     GasA         Ex           Y      SBrkr        1622           0   \n",
       "925     GasA         TA           Y      SBrkr        1072           0   \n",
       "1712    GasA         Ex           Y      SBrkr         942         886   \n",
       "\n",
       "      low_qual_fin_sf  gr_liv_area  bsmt_full_bath  bsmt_half_bath  full_bath  \\\n",
       "289                 0         1344             2.0             0.0          2   \n",
       "332                 0         2790             1.0             0.0          2   \n",
       "337                 0         1622             1.0             0.0          1   \n",
       "925                 0         1072             1.0             0.0          1   \n",
       "1712                0         1828             0.0             0.0          2   \n",
       "\n",
       "      half_bath  bedroom_abvgr  kitchen_abvgr kitchen_qual  totrms_abvgrd  \\\n",
       "289           0              2              2           TA              8   \n",
       "332           1              4              1           Ex             10   \n",
       "337           0              3              1           TA              7   \n",
       "925           0              2              1           TA              5   \n",
       "1712          0              3              1           Gd              6   \n",
       "\n",
       "     functional  fireplaces fireplace_qu garage_type  garage_yr_blt  \\\n",
       "289         Typ           0           NA      Attchd         1997.0   \n",
       "332         Typ           1           Ex     BuiltIn         2005.0   \n",
       "337         Typ           1           TA      2Types         1975.0   \n",
       "925         Typ           0           NA      Detchd         1982.0   \n",
       "1712        Typ           0           NA      Detchd         1923.0   \n",
       "\n",
       "     garage_finish  garage_cars  garage_area garage_qual garage_cond  \\\n",
       "289            Fin          4.0        784.0          TA          TA   \n",
       "332            Fin          4.0       1150.0          TA          TA   \n",
       "337            Fin          4.0       1356.0          TA          TA   \n",
       "925            Unf          5.0       1184.0          Fa          TA   \n",
       "1712            NA          NaN          NaN         NaN         NaN   \n",
       "\n",
       "     paved_drive  wood_deck_sf  open_porch_sf  enclosed_porch  3ssn_porch  \\\n",
       "289            Y             0              0               0           0   \n",
       "332            Y            30            200               0           0   \n",
       "337            Y           439              0               0           0   \n",
       "925            P             0              0             105           0   \n",
       "1712           Y           174              0             212           0   \n",
       "\n",
       "      screen_porch  pool_area pool_qc  fence misc_feature  misc_val  mo_sold  \\\n",
       "289              0          0     NaN    NaN          NaN         0       11   \n",
       "332            192          0     NaN    NaN          NaN         0        6   \n",
       "337              0          0     NaN    NaN          NaN         0        3   \n",
       "925              0          0     NaN    NaN          NaN         0        8   \n",
       "1712             0          0     NaN  MnPrv          NaN         0        3   \n",
       "\n",
       "      yr_sold sale_type  saleprice    Id  \n",
       "289      2008       WD      206300  1590  \n",
       "332      2008       WD      460000  1060  \n",
       "337      2007       WD      168000  2283  \n",
       "925      2009       WD      126500   747  \n",
       "1712     2007       WD      150909  2237  "
      ]
     },
     "execution_count": 175,
     "metadata": {},
     "output_type": "execute_result"
    }
   ],
   "source": [
    "#  we see that there is an NaN for one entry\n",
    "df.sort_values(['garage_cars'], ascending=True).tail()"
   ]
  },
  {
   "cell_type": "code",
   "execution_count": 176,
   "metadata": {},
   "outputs": [],
   "source": [
    "# Assuming should be 0 as they have no garage\n",
    "df['garage_cars'].fillna(0,inplace=True)"
   ]
  },
  {
   "cell_type": "code",
   "execution_count": 177,
   "metadata": {},
   "outputs": [],
   "source": [
    "# Assuming should be 0 as they have no garage\n",
    "df['garage_area'].fillna(0,inplace=True)"
   ]
  },
  {
   "cell_type": "code",
   "execution_count": 178,
   "metadata": {},
   "outputs": [],
   "source": [
    "# Assuming 'NA' as they have no garage\n",
    "df['garage_qual'].fillna('NA',inplace=True)"
   ]
  },
  {
   "cell_type": "code",
   "execution_count": 179,
   "metadata": {},
   "outputs": [],
   "source": [
    "# Assuming 'NA' as they have no garage\n",
    "df['garage_cond'].fillna('NA',inplace=True)"
   ]
  },
  {
   "cell_type": "code",
   "execution_count": 180,
   "metadata": {},
   "outputs": [],
   "source": [
    "# Assuming 'NA' as they have no pool\n",
    "df['pool_qc'].fillna('NA',inplace=True)"
   ]
  },
  {
   "cell_type": "code",
   "execution_count": 181,
   "metadata": {},
   "outputs": [],
   "source": [
    "# Assuming 'NA' \n",
    "df['fence'].fillna('NA',inplace=True)"
   ]
  },
  {
   "cell_type": "code",
   "execution_count": 182,
   "metadata": {},
   "outputs": [],
   "source": [
    "# intentionally filling in NA as ANA so that this column will \n",
    "# be dropped since this is more of a catchall category\n",
    "df['misc_feature'].fillna('ANA',inplace=True)"
   ]
  },
  {
   "cell_type": "code",
   "execution_count": 183,
   "metadata": {},
   "outputs": [],
   "source": [
    "# fixing all WD entries in the column as they include an extra space\n",
    "df['sale_type'] = df['sale_type'].replace('WD ','WD')"
   ]
  },
  {
   "cell_type": "code",
   "execution_count": 184,
   "metadata": {},
   "outputs": [],
   "source": [
    "# removing pid column\n",
    "df.drop(columns='pid', inplace=True)"
   ]
  },
  {
   "cell_type": "code",
   "execution_count": 185,
   "metadata": {},
   "outputs": [
    {
     "data": {
      "text/plain": [
       "0"
      ]
     },
     "execution_count": 185,
     "metadata": {},
     "output_type": "execute_result"
    }
   ],
   "source": [
    "df.isnull().sum().sum()"
   ]
  },
  {
   "cell_type": "markdown",
   "metadata": {},
   "source": [
    "## EDA\n",
    "\n",
    "### Model Preparation\n",
    "\n",
    "Our EDA started with some data engineering, creating some new columns: \n",
    "- Combining several factors to create a total finished square footage feature\n",
    "- Converting years built categories in to age features, including:\n",
    "    * Age of Home\n",
    "    * Age of Garage\n",
    "    * Age of Remodel/Addition (years from work to sale)\n"
   ]
  },
  {
   "cell_type": "code",
   "execution_count": 186,
   "metadata": {},
   "outputs": [],
   "source": [
    "# creating column which adds up all finished SF and subtracts low quality finished SF\n",
    "df['total_fin_sf'] = df['bsmtfin_sf_1'] + df['bsmtfin_sf_2'][i] + df['1st_flr_sf'][i] + df['2nd_flr_sf'][i] - df['low_qual_fin_sf'][i]\n"
   ]
  },
  {
   "cell_type": "code",
   "execution_count": 187,
   "metadata": {},
   "outputs": [],
   "source": [
    "# creating columns for age of home at time of sale, age of garage at time of sale \n",
    "# and years from Remod/Add to sale - also dropping old columns\n",
    "df['age_of_home'] = df['yr_sold'] - df['year_built']\n",
    "df['age_of_garage'] = df['yr_sold'] - df['garage_yr_blt']\n",
    "df['age_remod/add'] = df['yr_sold'] - df['year_remod/add']\n",
    "df.drop(columns=['yr_sold','year_built','garage_yr_blt','year_remod/add'], inplace=True)"
   ]
  },
  {
   "cell_type": "markdown",
   "metadata": {},
   "source": [
    "Then I looked at data distributions for various variables."
   ]
  },
  {
   "cell_type": "code",
   "execution_count": 188,
   "metadata": {},
   "outputs": [
    {
     "data": {
      "image/png": "[encoded data removed]",
      "text/plain": [
       "<Figure size 432x288 with 1 Axes>"
      ]
     },
     "metadata": {
      "needs_background": "light"
     },
     "output_type": "display_data"
    }
   ],
   "source": [
    "plt.title(\"Number of Homes Sold by Sales Price\")\n",
    "\n",
    "sns.distplot(df['saleprice'],\n",
    "             axlabel='Sales Price',\n",
    "             color='green',\n",
    "             kde=False);"
   ]
  },
  {
   "cell_type": "markdown",
   "metadata": {},
   "source": [
    "The Sale Price data has somewhat of a right skew so. In our regression, we will want to look at this data both with and without using the log of this data to see if this can improve our model."
   ]
  },
  {
   "cell_type": "code",
   "execution_count": 189,
   "metadata": {},
   "outputs": [],
   "source": [
    "# Creating a column for log of sales price data to look at distribution\n",
    "df['saleprice_lg'] = np.log(df['saleprice'])"
   ]
  },
  {
   "cell_type": "code",
   "execution_count": 190,
   "metadata": {},
   "outputs": [
    {
     "data": {
      "image/png": "[encoded data removed]",
      "text/plain": [
       "<Figure size 432x288 with 1 Axes>"
      ]
     },
     "metadata": {
      "needs_background": "light"
     },
     "output_type": "display_data"
    }
   ],
   "source": [
    "plt.title(\"Number of Homes Sold by log of Sales Price\")\n",
    "\n",
    "sns.distplot(df['saleprice_lg'],\n",
    "             axlabel='Log of Sales Price',\n",
    "             color='green',\n",
    "             kde=False);"
   ]
  },
  {
   "cell_type": "markdown",
   "metadata": {},
   "source": [
    "This distribution looks somewhat better though it seems to have a little left skew. Unclear if it will improve model performance. "
   ]
  },
  {
   "cell_type": "code",
   "execution_count": 191,
   "metadata": {},
   "outputs": [
    {
     "data": {
      "image/png": "[encoded data removed]",
      "text/plain": [
       "<Figure size 432x288 with 1 Axes>"
      ]
     },
     "metadata": {
      "needs_background": "light"
     },
     "output_type": "display_data"
    }
   ],
   "source": [
    "plt.title(\"Number of Homes Sold by Wood Deck Square Feet\")\n",
    "\n",
    "sns.distplot(df['wood_deck_sf'],\n",
    "             axlabel='Sq. Ft. of Wood Deck',\n",
    "             color='blue',\n",
    "             kde=False);"
   ]
  },
  {
   "cell_type": "markdown",
   "metadata": {},
   "source": [
    "This is a very common value count graph for this dataset. For each feature (in this case wood decks), there is a large number of homes that don't have the feature, but the distribution of the remaining data is relatively normal.\n",
    "\n",
    "\n",
    "#### Correlation Analysis"
   ]
  },
  {
   "cell_type": "code",
   "execution_count": 192,
   "metadata": {},
   "outputs": [
    {
     "data": {
      "image/png": "[encoded data removed]",
      "text/plain": [
       "<Figure size 576x2160 with 2 Axes>"
      ]
     },
     "metadata": {
      "needs_background": "light"
     },
     "output_type": "display_data"
    }
   ],
   "source": [
    "plt.figure(figsize=(8, 30))\n",
    "\n",
    "plt.title('Variable Correlations vs Sales Price', size=25)\n",
    "\n",
    "sns.heatmap(df.corr()[['saleprice']].sort_values('saleprice', ascending=False),\n",
    "            cmap='coolwarm',\n",
    "            annot = True,\n",
    "            fmt='.4g',\n",
    "            square = True,\n",
    "            vmin=-1,\n",
    "            vmax=1)\n",
    "\n",
    "# fix for mpl bug that cuts off top/bottom of seaborn viz\n",
    "b, t = plt.ylim() # discover the values for bottom and top\n",
    "b += 0.5 # Add 0.5 to the bottom\n",
    "t -= 0.5 # Subtract 0.5 from the top\n",
    "plt.ylim(b, t) # update the ylim(bottom, top) values\n",
    "plt.show(); # ta-da!"
   ]
  },
  {
   "cell_type": "markdown",
   "metadata": {},
   "source": [
    "This heat map lets us see the correlation of every feature with the sales price, our target variable\n",
    "\n",
    "- High correlations include:\n",
    "    * Overall Quality\n",
    "    * Above Ground Living Area\n",
    "    * Garage Area\n",
    "    * Size of Garage by Car\n",
    "    * Number of Full Bathrooms \n",
    "- Low correlations include:\n",
    "    * Age of Home\n",
    "    * Age of Remodel/Addition\n",
    "    * Age of Garage\n",
    "- Some surprising low-correlation features\n",
    "    * Month Sold\n",
    "    * Home Type (i.e. 2-Story) \n",
    "    * Partial Sq. Ft. Variables\n",
    "\n",
    "\n",
    "**Let's look at some sample scatterplots between these features and our target.**"
   ]
  },
  {
   "cell_type": "code",
   "execution_count": 193,
   "metadata": {},
   "outputs": [],
   "source": [
    "# function for creating  scatterplots (based on example from GA class)\n",
    "def scatter_func(df, var1, var2, scat_title,xlabel,ylabel):\n",
    " \n",
    "    plt.figure(figsize=(8,6)) # (width, height)\n",
    "\n",
    "    # Set title\n",
    "    plt.title(scat_title, size=20)\n",
    "\n",
    "    plt.scatter(df[var1], \n",
    "                    df[var2],\n",
    "                   c='blue',\n",
    "               edgecolors='grey')\n",
    "\n",
    "    # Set x label\n",
    "    plt.xlabel(xlabel)\n",
    "\n",
    "    # Set y label\n",
    "    plt.ylabel(ylabel);"
   ]
  },
  {
   "cell_type": "code",
   "execution_count": 194,
   "metadata": {},
   "outputs": [
    {
     "data": {
      "image/png": "[encoded data removed]",
      "text/plain": [
       "<Figure size 576x432 with 1 Axes>"
      ]
     },
     "metadata": {
      "needs_background": "light"
     },
     "output_type": "display_data"
    }
   ],
   "source": [
    "scatter_func(df,'saleprice','overall_qual','Sales Price vs Overall Quality','Price','Overall Quality (1-10)')"
   ]
  },
  {
   "cell_type": "markdown",
   "metadata": {},
   "source": [
    "Despite this variable being tied to the 10 rating scores, this plot clearly demonstrates the powerful correlation between the overall quality score and price."
   ]
  },
  {
   "cell_type": "code",
   "execution_count": 195,
   "metadata": {},
   "outputs": [
    {
     "data": {
      "image/png": "[encoded data removed]",
      "text/plain": [
       "<Figure size 576x432 with 1 Axes>"
      ]
     },
     "metadata": {
      "needs_background": "light"
     },
     "output_type": "display_data"
    }
   ],
   "source": [
    "scatter_func(df,'saleprice','gr_liv_area','Sales Price vs Above Ground Living Area','Price','Above Ground Living SF')"
   ]
  },
  {
   "cell_type": "markdown",
   "metadata": {},
   "source": [
    "Above ground living area is our second most correlated variable and we clearly see a strong relationship."
   ]
  },
  {
   "cell_type": "code",
   "execution_count": 196,
   "metadata": {},
   "outputs": [
    {
     "data": {
      "image/png": "[encoded data removed]",
      "text/plain": [
       "<Figure size 576x432 with 1 Axes>"
      ]
     },
     "metadata": {
      "needs_background": "light"
     },
     "output_type": "display_data"
    }
   ],
   "source": [
    "scatter_func(df,'saleprice','age_of_home','Sales Prices vs Age of Home','Price','Age of Home (Yrs)')"
   ]
  },
  {
   "cell_type": "markdown",
   "metadata": {},
   "source": [
    "Our strongest negative correlation with price is with the age of the home. "
   ]
  },
  {
   "cell_type": "code",
   "execution_count": 197,
   "metadata": {},
   "outputs": [],
   "source": [
    "# Functionto aid in the process of getting dummies for various columns\n",
    "# while avoiding issues when looking at test data\n",
    "def deluxe_dummy(df, column, string):\n",
    "    temp1 = string.split(',')\n",
    "    temp2 = []\n",
    "    for i, item in enumerate(temp1):\n",
    "        temp2.append(column + '_' + item)\n",
    "   \n",
    "    return temp2"
   ]
  },
  {
   "cell_type": "code",
   "execution_count": 198,
   "metadata": {},
   "outputs": [],
   "source": [
    "# Creating function to help convert columns into ordinal columns\n",
    "def make_ord(df,column,list1,list2):\n",
    "    temp_list = []\n",
    "    for item in df[column]:\n",
    "        for i, element in enumerate(list1):\n",
    "            if item == element:\n",
    "                temp_list.append(list2[i])\n",
    "    df[column] = temp_list"
   ]
  },
  {
   "cell_type": "code",
   "execution_count": 199,
   "metadata": {},
   "outputs": [],
   "source": [
    "# create column with dummy columns \n",
    "df = pd.get_dummies(df, columns=['ms_subclass'], drop_first=True)"
   ]
  },
  {
   "cell_type": "code",
   "execution_count": 200,
   "metadata": {},
   "outputs": [],
   "source": [
    "# use function to deal with issues\n",
    "values = '120,150,160,180,190,30,40,45,50,60,70,75,80,85,90'\n",
    "\n",
    "for item in deluxe_dummy(df,'ms_subclass',values):\n",
    "    if item not in df.columns:\n",
    "        df[item]=[0 for n in range(0,len(df['lot_area']))]"
   ]
  },
  {
   "cell_type": "code",
   "execution_count": 201,
   "metadata": {},
   "outputs": [],
   "source": [
    "# create column with dummy columns \n",
    "df = pd.get_dummies(df, columns=['ms_zoning'], drop_first=True)"
   ]
  },
  {
   "cell_type": "code",
   "execution_count": 202,
   "metadata": {},
   "outputs": [],
   "source": [
    "# use function to deal with issues\n",
    "values = 'C,FV,I,RH,RL,RP,RM' \n",
    "for item in deluxe_dummy(df,'ms_zoning',values):\n",
    "    if item not in df.columns:\n",
    "        df[item]=[0 for n in range(0,len(df['lot_area']))]"
   ]
  },
  {
   "cell_type": "code",
   "execution_count": 203,
   "metadata": {},
   "outputs": [],
   "source": [
    "# creating list of potential lot_shape entries and codes to match up with them\n",
    "lot_shape_code = ['Reg','IR1','IR2','IR3']\n",
    "lot_shape_num = [3, 2, 1, 0]"
   ]
  },
  {
   "cell_type": "code",
   "execution_count": 204,
   "metadata": {
    "scrolled": true
   },
   "outputs": [],
   "source": [
    "# changing lot_shape column to these numbers \n",
    "make_ord(df,'lot_shape',lot_shape_code,lot_shape_num)"
   ]
  },
  {
   "cell_type": "code",
   "execution_count": 205,
   "metadata": {},
   "outputs": [],
   "source": [
    "# getting dummy columns for Land Contour - all options in both datasets\n",
    "df = pd.get_dummies(df, columns=['land_contour'],drop_first=True)"
   ]
  },
  {
   "cell_type": "code",
   "execution_count": 206,
   "metadata": {},
   "outputs": [],
   "source": [
    "# creating list of potential utilities entries and codes to match up with them\n",
    "util_code = ['AllPub','NoSewr','NoSeWa','ELO']\n",
    "util_num = [5, 2, 1, 0]"
   ]
  },
  {
   "cell_type": "code",
   "execution_count": 207,
   "metadata": {
    "scrolled": true
   },
   "outputs": [],
   "source": [
    "# changint utilities column to these numbers \n",
    "make_ord(df,'utilities',util_code,util_num)"
   ]
  },
  {
   "cell_type": "code",
   "execution_count": 208,
   "metadata": {},
   "outputs": [],
   "source": [
    "# getting dummy columns for Lot Configuration - all options in both datasets\n",
    "df = pd.get_dummies(df, columns=['lot_config'],drop_first=True)"
   ]
  },
  {
   "cell_type": "code",
   "execution_count": 209,
   "metadata": {},
   "outputs": [],
   "source": [
    "# creating list of potential land_slope entries and codes to match up with them\n",
    "slope_code = ['Gtl','Mod','Sev']\n",
    "slope_num = [5, 3, 1]"
   ]
  },
  {
   "cell_type": "code",
   "execution_count": 210,
   "metadata": {
    "scrolled": true
   },
   "outputs": [],
   "source": [
    "# changint land_slope column to these numbers \n",
    "make_ord(df,'land_slope',slope_code,slope_num)"
   ]
  },
  {
   "cell_type": "code",
   "execution_count": 211,
   "metadata": {},
   "outputs": [],
   "source": [
    "# special case - not using function with 4 steps\n",
    "cities = 'Blueste Bluestem,BrDale Briardale,BrkSide Brookside,ClearCr Clear Creek,CollgCr College Creek,Crawfor Crawford,Edwards Edwards,Gilbert Gilbert,GrnHill green,IDOTRR Iowa DOT and Rail Road,Landmrk Landmark,MeadowV Meadow Village,Mitchel Mitchell,NAmes North Ames,NoRidge Northridge,NPkVill Northpark Villa,NridgHt Northridge Heights,NWAmes Northwest Ames,OldTown Old Town,SWISU South & West of Iowa State University,Sawyer Sawyer,SawyerW Sawyer West,Somerst Somerset,StoneBr Stone Brook,Timber Timberland,Veenker Veenker'\n",
    "city_list = cities.split(',')"
   ]
  },
  {
   "cell_type": "code",
   "execution_count": 212,
   "metadata": {
    "scrolled": true
   },
   "outputs": [],
   "source": [
    "# STEP 2: \n",
    "new_city_list = []\n",
    "for i, item in enumerate(city_list):\n",
    "    new_city_list.append('neighborhood_' + item.split(' ')[0])\n"
   ]
  },
  {
   "cell_type": "code",
   "execution_count": 213,
   "metadata": {},
   "outputs": [],
   "source": [
    "# STEP 3\n",
    "df = pd.get_dummies(df, columns=['neighborhood'],drop_first=True)"
   ]
  },
  {
   "cell_type": "code",
   "execution_count": 214,
   "metadata": {},
   "outputs": [],
   "source": [
    "# STEP 4\n",
    "for item in new_city_list:\n",
    "    if item not in df.columns:\n",
    "        df[item]=[0 for n in range(0,len(df['lot_area']))]"
   ]
  },
  {
   "cell_type": "code",
   "execution_count": 215,
   "metadata": {},
   "outputs": [],
   "source": [
    "# create column with dummy columns \n",
    "df = pd.get_dummies(df, columns=['condition_1'],drop_first=True)"
   ]
  },
  {
   "cell_type": "code",
   "execution_count": 216,
   "metadata": {},
   "outputs": [],
   "source": [
    "# use function to deal with issues\n",
    "values = 'Feedr,Norm,RRNn,RRAn,PosN,PosA,RRNe,RRAe'\n",
    "for item in deluxe_dummy(df,'condition_1',values):\n",
    "    if item not in df.columns:\n",
    "        df[item]=[0 for n in range(0,len(df['lot_area']))]"
   ]
  },
  {
   "cell_type": "code",
   "execution_count": 217,
   "metadata": {},
   "outputs": [],
   "source": [
    "# create column with dummy columns \n",
    "df = pd.get_dummies(df, columns=['condition_2'],drop_first=True)"
   ]
  },
  {
   "cell_type": "code",
   "execution_count": 218,
   "metadata": {},
   "outputs": [],
   "source": [
    "# use function to deal with issues\n",
    "values = 'Feedr,Norm,RRNn,RRAn,PosN,PosA,RRNe,RRAe'\n",
    "for item in deluxe_dummy(df,'condition_2',values):\n",
    "    if item not in df.columns:\n",
    "        df[item]=[0 for n in range(0,len(df['lot_area']))]"
   ]
  },
  {
   "cell_type": "code",
   "execution_count": 219,
   "metadata": {},
   "outputs": [],
   "source": [
    "# getting dummy columns for Building Type - all options in both datasets\n",
    "df = pd.get_dummies(df, columns=['bldg_type'],drop_first=True)"
   ]
  },
  {
   "cell_type": "code",
   "execution_count": 220,
   "metadata": {},
   "outputs": [],
   "source": [
    "# getting dummy columns for House Style - all options in both datasets\n",
    "df = pd.get_dummies(df, columns=['house_style'],drop_first=True)"
   ]
  },
  {
   "cell_type": "code",
   "execution_count": 221,
   "metadata": {},
   "outputs": [],
   "source": [
    "# getting dummy columns for Roof Style - all options in both datasets\n",
    "df = pd.get_dummies(df, columns=['roof_style'],drop_first=True)"
   ]
  },
  {
   "cell_type": "code",
   "execution_count": 222,
   "metadata": {},
   "outputs": [],
   "source": [
    "# create column with dummy columns \n",
    "df = pd.get_dummies(df, columns=['roof_matl'],drop_first=True)"
   ]
  },
  {
   "cell_type": "code",
   "execution_count": 223,
   "metadata": {},
   "outputs": [],
   "source": [
    "# use function to deal with issues\n",
    "values = 'CompShg,Membran,Metal,Roll,Tar&Grv,WdShake,WdShngl'\n",
    "for item in deluxe_dummy(df,'roof_matl',values):\n",
    "    if item not in df.columns:\n",
    "        df[item]=[0 for n in range(0,len(df['lot_area']))]"
   ]
  },
  {
   "cell_type": "code",
   "execution_count": 224,
   "metadata": {},
   "outputs": [],
   "source": [
    "# create column with dummy columns \n",
    "df = pd.get_dummies(df, columns=['exterior_1st'],drop_first=True)"
   ]
  },
  {
   "cell_type": "code",
   "execution_count": 225,
   "metadata": {},
   "outputs": [],
   "source": [
    "# use function to deal with issues\n",
    "values = 'AsphShn,BrkComm,BrkFace,CBlock,CemntBd,HdBoard,ImStucc,MetalSd,Other,Plywood,PreCast,Stone,Stucco,VinylSd,Wd Sdng,WdShing'\n",
    "for item in deluxe_dummy(df,'exterior_1st',values):\n",
    "    if item not in df.columns:\n",
    "        df[item]=[0 for n in range(0,len(df['lot_area']))]"
   ]
  },
  {
   "cell_type": "code",
   "execution_count": 226,
   "metadata": {},
   "outputs": [],
   "source": [
    "# create column with dummy columns \n",
    "df = pd.get_dummies(df, columns=['exterior_2nd'],drop_first=True)"
   ]
  },
  {
   "cell_type": "code",
   "execution_count": 227,
   "metadata": {},
   "outputs": [],
   "source": [
    "# use function to deal with issues\n",
    "values = 'AsphShn,BrkComm,BrkFace,CBlock,CemntBd,HdBoard,ImStucc,MetalSd,Other,Plywood,PreCast,Stone,Stucco,VinylSd,Wd Sdng,WdShing'\n",
    "for item in deluxe_dummy(df,'exterior_2nd',values):\n",
    "    if item not in df.columns:\n",
    "        df[item]=[0 for n in range(0,len(df['lot_area']))]"
   ]
  },
  {
   "cell_type": "code",
   "execution_count": 228,
   "metadata": {},
   "outputs": [],
   "source": [
    "# getting dummy columns for Street (Paved vs Gravel) - both options in both datasets\n",
    "df = pd.get_dummies(df, columns=['street'],drop_first=True)"
   ]
  },
  {
   "cell_type": "code",
   "execution_count": 229,
   "metadata": {},
   "outputs": [],
   "source": [
    "# getting dummy columns for Alley - all options in both datasets\n",
    "df = pd.get_dummies(df, columns=['alley'],drop_first=True)"
   ]
  },
  {
   "cell_type": "code",
   "execution_count": 230,
   "metadata": {},
   "outputs": [],
   "source": [
    "# create column with dummy columns \n",
    "df = pd.get_dummies(df, columns=['mas_vnr_type'],drop_first=True)"
   ]
  },
  {
   "cell_type": "code",
   "execution_count": 231,
   "metadata": {},
   "outputs": [],
   "source": [
    "# use function to deal with issues\n",
    "values = 'BrkFace,CBlock,None,Stone'\n",
    "for item in deluxe_dummy(df,'mas_vnr_type',values):\n",
    "    if item not in df.columns:\n",
    "        df[item]=[0 for n in range(0,len(df['lot_area']))]"
   ]
  },
  {
   "cell_type": "code",
   "execution_count": 232,
   "metadata": {},
   "outputs": [],
   "source": [
    "# Establishing code replacement scheme for several columns\n",
    "ex_poor_code = ['Ex','Gd','TA','Fa','Po', 'NA']\n",
    "ex_poor_num = [5, 4, 3, 2, 1, 0]"
   ]
  },
  {
   "cell_type": "code",
   "execution_count": 233,
   "metadata": {
    "scrolled": true
   },
   "outputs": [],
   "source": [
    "# Making ordinal\n",
    "make_ord(df,'exter_qual',ex_poor_code,ex_poor_num)"
   ]
  },
  {
   "cell_type": "code",
   "execution_count": 234,
   "metadata": {
    "scrolled": true
   },
   "outputs": [],
   "source": [
    "# Making ordinal\n",
    "make_ord(df,'exter_cond',ex_poor_code,ex_poor_num)"
   ]
  },
  {
   "cell_type": "code",
   "execution_count": 235,
   "metadata": {},
   "outputs": [],
   "source": [
    "# getting dummy columns for Foundation - all options in both datasets\n",
    "df = pd.get_dummies(df, columns=['foundation'],drop_first=True)"
   ]
  },
  {
   "cell_type": "code",
   "execution_count": 236,
   "metadata": {
    "scrolled": true
   },
   "outputs": [],
   "source": [
    "# Making ordinal\n",
    "make_ord(df,'bsmt_qual',ex_poor_code,ex_poor_num)"
   ]
  },
  {
   "cell_type": "code",
   "execution_count": 237,
   "metadata": {
    "scrolled": true
   },
   "outputs": [],
   "source": [
    "# Making ordinal\n",
    "make_ord(df,'bsmt_cond',ex_poor_code,ex_poor_num)"
   ]
  },
  {
   "cell_type": "code",
   "execution_count": 238,
   "metadata": {},
   "outputs": [],
   "source": [
    "# Establishing another code replacement scheme for another scale\n",
    "ex_poor_code2 = ['Gd','Av','Mn','No', 'NA']\n",
    "ex_poor_num2 = [4, 3, 2, 1, 0]"
   ]
  },
  {
   "cell_type": "code",
   "execution_count": 239,
   "metadata": {
    "scrolled": true
   },
   "outputs": [],
   "source": [
    "# Making ordinal\n",
    "make_ord(df,'bsmt_exposure',ex_poor_code2,ex_poor_num2)"
   ]
  },
  {
   "cell_type": "code",
   "execution_count": 240,
   "metadata": {},
   "outputs": [],
   "source": [
    "# Establishing yet another code replacement scheme for another scale\n",
    "ex_poor_code3 = ['GLQ','ALQ','BLQ','Rec', 'LwQ', 'Unf', 'NA']\n",
    "ex_poor_num3 = [6, 5, 4, 3, 2, 1, 0]"
   ]
  },
  {
   "cell_type": "code",
   "execution_count": 241,
   "metadata": {
    "scrolled": true
   },
   "outputs": [],
   "source": [
    "# Making ordinal\n",
    "make_ord(df,'bsmtfin_type_1',ex_poor_code3,ex_poor_num3)"
   ]
  },
  {
   "cell_type": "code",
   "execution_count": 242,
   "metadata": {
    "scrolled": true
   },
   "outputs": [],
   "source": [
    "# Making ordinal\n",
    "make_ord(df,'bsmtfin_type_2',ex_poor_code3,ex_poor_num3)"
   ]
  },
  {
   "cell_type": "code",
   "execution_count": 243,
   "metadata": {},
   "outputs": [],
   "source": [
    "# create column with dummy columns \n",
    "df = pd.get_dummies(df, columns=['heating'],drop_first=True)"
   ]
  },
  {
   "cell_type": "code",
   "execution_count": 244,
   "metadata": {},
   "outputs": [],
   "source": [
    "# use function to deal with issues\n",
    "values = 'GasA,GasW,Wall,Grav,OthW'\n",
    "for item in deluxe_dummy(df,'heating',values):\n",
    "    if item not in df.columns:\n",
    "        df[item]=[0 for n in range(0,len(df['lot_area']))]"
   ]
  },
  {
   "cell_type": "code",
   "execution_count": 245,
   "metadata": {
    "scrolled": true
   },
   "outputs": [],
   "source": [
    "# Making ordinal\n",
    "make_ord(df,'heating_qc',ex_poor_code,ex_poor_num)"
   ]
  },
  {
   "cell_type": "code",
   "execution_count": 246,
   "metadata": {},
   "outputs": [],
   "source": [
    "# getting dummy column for Central Air - all options in both datasets\n",
    "df = pd.get_dummies(df, columns=['central_air'],drop_first=True)"
   ]
  },
  {
   "cell_type": "code",
   "execution_count": 247,
   "metadata": {},
   "outputs": [],
   "source": [
    "# creating list of potential Electrical entries and codes to match up with them\n",
    "elec_code = ['SBrkr','FuseA','FuseF','FuseP','Mix']\n",
    "elec_num = [4, 2, 1, 0, 1.5]"
   ]
  },
  {
   "cell_type": "code",
   "execution_count": 248,
   "metadata": {
    "scrolled": true
   },
   "outputs": [],
   "source": [
    "# Making ordinal\n",
    "make_ord(df,'electrical',elec_code,elec_num)"
   ]
  },
  {
   "cell_type": "code",
   "execution_count": 249,
   "metadata": {
    "scrolled": true
   },
   "outputs": [],
   "source": [
    "# Making ordinal\n",
    "make_ord(df,'kitchen_qual',ex_poor_code,ex_poor_num)"
   ]
  },
  {
   "cell_type": "code",
   "execution_count": 250,
   "metadata": {},
   "outputs": [],
   "source": [
    "# functional scale\n",
    "functional_code = ['Typ','Min1','Min2','Mod', 'Maj1', 'Maj2', 'Sev', 'Sal']\n",
    "functional_num = [7, 6, 5, 4, 3, 2, 1, 0]"
   ]
  },
  {
   "cell_type": "code",
   "execution_count": 251,
   "metadata": {
    "scrolled": true
   },
   "outputs": [],
   "source": [
    "# Making ordinal\n",
    "make_ord(df,'functional',functional_code,functional_num)"
   ]
  },
  {
   "cell_type": "code",
   "execution_count": 252,
   "metadata": {
    "scrolled": true
   },
   "outputs": [],
   "source": [
    "# Making ordinal\n",
    "make_ord(df,'fireplace_qu',ex_poor_code,ex_poor_num)"
   ]
  },
  {
   "cell_type": "code",
   "execution_count": 253,
   "metadata": {},
   "outputs": [],
   "source": [
    "# getting dummy columns for garage type - all options in both datasets\n",
    "df = pd.get_dummies(df, columns=['garage_type'],drop_first=True)"
   ]
  },
  {
   "cell_type": "code",
   "execution_count": 254,
   "metadata": {
    "scrolled": true
   },
   "outputs": [],
   "source": [
    "garage_code = ['Fin','RFn','Unf','NA']\n",
    "garage_num = [3, 2, 1, 0]"
   ]
  },
  {
   "cell_type": "code",
   "execution_count": 255,
   "metadata": {
    "scrolled": true
   },
   "outputs": [],
   "source": [
    "# Making ordinal\n",
    "make_ord(df,'garage_finish',garage_code,garage_num)"
   ]
  },
  {
   "cell_type": "code",
   "execution_count": 256,
   "metadata": {
    "scrolled": true
   },
   "outputs": [],
   "source": [
    "# Making ordinal\n",
    "make_ord(df,'garage_qual',ex_poor_code,ex_poor_num)"
   ]
  },
  {
   "cell_type": "code",
   "execution_count": 257,
   "metadata": {
    "scrolled": true
   },
   "outputs": [],
   "source": [
    "# Making ordinal\n",
    "make_ord(df,'garage_cond',ex_poor_code,ex_poor_num)"
   ]
  },
  {
   "cell_type": "code",
   "execution_count": 258,
   "metadata": {},
   "outputs": [],
   "source": [
    "paving_code = ['Y','P','N']\n",
    "paving_num = [5, 3, 1]"
   ]
  },
  {
   "cell_type": "code",
   "execution_count": 259,
   "metadata": {
    "scrolled": true
   },
   "outputs": [],
   "source": [
    "# Making ordinal\n",
    "make_ord(df,'paved_drive',paving_code,paving_num)"
   ]
  },
  {
   "cell_type": "code",
   "execution_count": 260,
   "metadata": {
    "scrolled": true
   },
   "outputs": [],
   "source": [
    "# Making ordinal\n",
    "make_ord(df,'pool_qc',ex_poor_code,ex_poor_num)"
   ]
  },
  {
   "cell_type": "code",
   "execution_count": 261,
   "metadata": {
    "scrolled": true
   },
   "outputs": [],
   "source": [
    "fence_code = ['GdPrv','GdWo','MnPrv', 'MnWw', 'NA']\n",
    "fence_num = [4, 3, 2, 1, 0]"
   ]
  },
  {
   "cell_type": "code",
   "execution_count": 262,
   "metadata": {
    "scrolled": true
   },
   "outputs": [],
   "source": [
    "# Making ordinal\n",
    "make_ord(df,'fence',fence_code,fence_num)"
   ]
  },
  {
   "cell_type": "code",
   "execution_count": 263,
   "metadata": {},
   "outputs": [],
   "source": [
    "# create column with dummy columns \n",
    "df = pd.get_dummies(df, columns=['misc_feature'],drop_first=True)"
   ]
  },
  {
   "cell_type": "code",
   "execution_count": 264,
   "metadata": {},
   "outputs": [],
   "source": [
    "# use function to deal with issues\n",
    "values = 'Elev,Gar2,Othr,Shed,TenC'\n",
    "for item in deluxe_dummy(df,'misc_feature',values):\n",
    "    if item not in df.columns:\n",
    "        df[item]=[0 for n in range(0,len(df['lot_area']))]"
   ]
  },
  {
   "cell_type": "code",
   "execution_count": 265,
   "metadata": {},
   "outputs": [],
   "source": [
    "# create column with dummy columns \n",
    "df = pd.get_dummies(df, columns=['sale_type'],drop_first=True)"
   ]
  },
  {
   "cell_type": "code",
   "execution_count": 266,
   "metadata": {},
   "outputs": [],
   "source": [
    "# use function to deal with issues\n",
    "values = 'CWD,Con,ConLD,ConLI,ConLw,New,Oth,VWD,WD'\n",
    "for item in deluxe_dummy(df,'sale_type',values):\n",
    "    if item not in df.columns:\n",
    "        df[item]=[0 for n in range(0,len(df['lot_area']))]"
   ]
  },
  {
   "cell_type": "code",
   "execution_count": 267,
   "metadata": {},
   "outputs": [],
   "source": [
    "import statsmodels.api as sm"
   ]
  },
  {
   "cell_type": "code",
   "execution_count": 268,
   "metadata": {},
   "outputs": [],
   "source": [
    "X = df._get_numeric_data().drop(columns=['saleprice','saleprice_lg','Id'], axis =1)\n",
    "X = sm.add_constant(X)\n",
    "y = df[['saleprice_lg',]]"
   ]
  },
  {
   "cell_type": "code",
   "execution_count": 269,
   "metadata": {},
   "outputs": [],
   "source": [
    "model = sm.OLS(y, X).fit()"
   ]
  },
  {
   "cell_type": "code",
   "execution_count": 270,
   "metadata": {},
   "outputs": [
    {
     "data": {
      "text/html": [
       "<table class=\"simpletable\">\n",
       "<caption>OLS Regression Results</caption>\n",
       "<tr>\n",
       "  <th>Dep. Variable:</th>      <td>saleprice_lg</td>   <th>  R-squared:         </th> <td>   0.939</td>\n",
       "</tr>\n",
       "<tr>\n",
       "  <th>Model:</th>                   <td>OLS</td>       <th>  Adj. R-squared:    </th> <td>   0.932</td>\n",
       "</tr>\n",
       "<tr>\n",
       "  <th>Method:</th>             <td>Least Squares</td>  <th>  F-statistic:       </th> <td>   137.8</td>\n",
       "</tr>\n",
       "<tr>\n",
       "  <th>Date:</th>             <td>Fri, 10 Apr 2020</td> <th>  Prob (F-statistic):</th>  <td>  0.00</td> \n",
       "</tr>\n",
       "<tr>\n",
       "  <th>Time:</th>                 <td>17:23:14</td>     <th>  Log-Likelihood:    </th> <td>  1780.8</td>\n",
       "</tr>\n",
       "<tr>\n",
       "  <th>No. Observations:</th>      <td>  2051</td>      <th>  AIC:               </th> <td>  -3148.</td>\n",
       "</tr>\n",
       "<tr>\n",
       "  <th>Df Residuals:</th>          <td>  1844</td>      <th>  BIC:               </th> <td>  -1983.</td>\n",
       "</tr>\n",
       "<tr>\n",
       "  <th>Df Model:</th>              <td>   206</td>      <th>                     </th>     <td> </td>   \n",
       "</tr>\n",
       "<tr>\n",
       "  <th>Covariance Type:</th>      <td>nonrobust</td>    <th>                     </th>     <td> </td>   \n",
       "</tr>\n",
       "</table>\n",
       "<table class=\"simpletable\">\n",
       "<tr>\n",
       "            <td></td>              <th>coef</th>     <th>std err</th>      <th>t</th>      <th>P>|t|</th>  <th>[0.025</th>    <th>0.975]</th>  \n",
       "</tr>\n",
       "<tr>\n",
       "  <th>const</th>                <td> 3.069e-06</td> <td> 1.48e-07</td> <td>   20.784</td> <td> 0.000</td> <td> 2.78e-06</td> <td> 3.36e-06</td>\n",
       "</tr>\n",
       "<tr>\n",
       "  <th>lot_frontage</th>         <td>-2.819e-05</td> <td>    0.000</td> <td>   -0.186</td> <td> 0.852</td> <td>   -0.000</td> <td>    0.000</td>\n",
       "</tr>\n",
       "<tr>\n",
       "  <th>lot_area</th>             <td> 3.596e-06</td> <td> 7.24e-07</td> <td>    4.968</td> <td> 0.000</td> <td> 2.18e-06</td> <td> 5.02e-06</td>\n",
       "</tr>\n",
       "<tr>\n",
       "  <th>lot_shape</th>            <td>    0.0006</td> <td>    0.005</td> <td>    0.103</td> <td> 0.918</td> <td>   -0.010</td> <td>    0.011</td>\n",
       "</tr>\n",
       "<tr>\n",
       "  <th>utilities</th>            <td>    0.0648</td> <td>    0.032</td> <td>    2.033</td> <td> 0.042</td> <td>    0.002</td> <td>    0.127</td>\n",
       "</tr>\n",
       "<tr>\n",
       "  <th>land_slope</th>           <td>    0.0004</td> <td>    0.007</td> <td>    0.064</td> <td> 0.949</td> <td>   -0.013</td> <td>    0.014</td>\n",
       "</tr>\n",
       "<tr>\n",
       "  <th>overall_qual</th>         <td>    0.0486</td> <td>    0.004</td> <td>   12.562</td> <td> 0.000</td> <td>    0.041</td> <td>    0.056</td>\n",
       "</tr>\n",
       "<tr>\n",
       "  <th>overall_cond</th>         <td>    0.0413</td> <td>    0.003</td> <td>   12.430</td> <td> 0.000</td> <td>    0.035</td> <td>    0.048</td>\n",
       "</tr>\n",
       "<tr>\n",
       "  <th>mas_vnr_area</th>         <td> 4.107e-05</td> <td> 2.33e-05</td> <td>    1.763</td> <td> 0.078</td> <td>-4.63e-06</td> <td> 8.68e-05</td>\n",
       "</tr>\n",
       "<tr>\n",
       "  <th>exter_qual</th>           <td>    0.0165</td> <td>    0.008</td> <td>    2.032</td> <td> 0.042</td> <td>    0.001</td> <td>    0.032</td>\n",
       "</tr>\n",
       "<tr>\n",
       "  <th>exter_cond</th>           <td>   -0.0050</td> <td>    0.008</td> <td>   -0.643</td> <td> 0.520</td> <td>   -0.020</td> <td>    0.010</td>\n",
       "</tr>\n",
       "<tr>\n",
       "  <th>bsmt_qual</th>            <td>    0.0063</td> <td>    0.006</td> <td>    1.007</td> <td> 0.314</td> <td>   -0.006</td> <td>    0.019</td>\n",
       "</tr>\n",
       "<tr>\n",
       "  <th>bsmt_cond</th>            <td>    0.0019</td> <td>    0.008</td> <td>    0.255</td> <td> 0.799</td> <td>   -0.013</td> <td>    0.017</td>\n",
       "</tr>\n",
       "<tr>\n",
       "  <th>bsmt_exposure</th>        <td>    0.0118</td> <td>    0.003</td> <td>    3.623</td> <td> 0.000</td> <td>    0.005</td> <td>    0.018</td>\n",
       "</tr>\n",
       "<tr>\n",
       "  <th>bsmtfin_type_1</th>       <td>    0.0027</td> <td>    0.002</td> <td>    1.362</td> <td> 0.173</td> <td>   -0.001</td> <td>    0.007</td>\n",
       "</tr>\n",
       "<tr>\n",
       "  <th>bsmtfin_sf_1</th>         <td>   -0.0023</td> <td>    0.000</td> <td>  -20.345</td> <td> 0.000</td> <td>   -0.003</td> <td>   -0.002</td>\n",
       "</tr>\n",
       "<tr>\n",
       "  <th>bsmtfin_type_2</th>       <td>   -0.0036</td> <td>    0.004</td> <td>   -0.817</td> <td> 0.414</td> <td>   -0.012</td> <td>    0.005</td>\n",
       "</tr>\n",
       "<tr>\n",
       "  <th>bsmtfin_sf_2</th>         <td>    0.0008</td> <td> 4.21e-05</td> <td>   19.696</td> <td> 0.000</td> <td>    0.001</td> <td>    0.001</td>\n",
       "</tr>\n",
       "<tr>\n",
       "  <th>bsmt_unf_sf</th>          <td>    0.0008</td> <td> 3.87e-05</td> <td>   20.240</td> <td> 0.000</td> <td>    0.001</td> <td>    0.001</td>\n",
       "</tr>\n",
       "<tr>\n",
       "  <th>total_bsmt_sf</th>        <td>   -0.0007</td> <td> 4.15e-05</td> <td>  -17.533</td> <td> 0.000</td> <td>   -0.001</td> <td>   -0.001</td>\n",
       "</tr>\n",
       "<tr>\n",
       "  <th>heating_qc</th>           <td>    0.0120</td> <td>    0.004</td> <td>    3.309</td> <td> 0.001</td> <td>    0.005</td> <td>    0.019</td>\n",
       "</tr>\n",
       "<tr>\n",
       "  <th>electrical</th>           <td>   -0.0041</td> <td>    0.004</td> <td>   -0.925</td> <td> 0.355</td> <td>   -0.013</td> <td>    0.005</td>\n",
       "</tr>\n",
       "<tr>\n",
       "  <th>1st_flr_sf</th>           <td>    0.0001</td> <td>    2e-05</td> <td>    5.394</td> <td> 0.000</td> <td> 6.87e-05</td> <td>    0.000</td>\n",
       "</tr>\n",
       "<tr>\n",
       "  <th>2nd_flr_sf</th>           <td> 6.764e-05</td> <td> 1.81e-05</td> <td>    3.730</td> <td> 0.000</td> <td> 3.21e-05</td> <td>    0.000</td>\n",
       "</tr>\n",
       "<tr>\n",
       "  <th>low_qual_fin_sf</th>      <td>-1.235e-07</td> <td>  4.2e-05</td> <td>   -0.003</td> <td> 0.998</td> <td>-8.24e-05</td> <td> 8.22e-05</td>\n",
       "</tr>\n",
       "<tr>\n",
       "  <th>gr_liv_area</th>          <td>    0.0002</td> <td> 1.81e-05</td> <td>    9.680</td> <td> 0.000</td> <td>    0.000</td> <td>    0.000</td>\n",
       "</tr>\n",
       "<tr>\n",
       "  <th>bsmt_full_bath</th>       <td>    0.0272</td> <td>    0.007</td> <td>    3.712</td> <td> 0.000</td> <td>    0.013</td> <td>    0.042</td>\n",
       "</tr>\n",
       "<tr>\n",
       "  <th>bsmt_half_bath</th>       <td>    0.0048</td> <td>    0.011</td> <td>    0.439</td> <td> 0.661</td> <td>   -0.017</td> <td>    0.026</td>\n",
       "</tr>\n",
       "<tr>\n",
       "  <th>full_bath</th>            <td>    0.0181</td> <td>    0.008</td> <td>    2.242</td> <td> 0.025</td> <td>    0.002</td> <td>    0.034</td>\n",
       "</tr>\n",
       "<tr>\n",
       "  <th>half_bath</th>            <td>    0.0120</td> <td>    0.008</td> <td>    1.528</td> <td> 0.127</td> <td>   -0.003</td> <td>    0.027</td>\n",
       "</tr>\n",
       "<tr>\n",
       "  <th>bedroom_abvgr</th>        <td>   -0.0066</td> <td>    0.005</td> <td>   -1.302</td> <td> 0.193</td> <td>   -0.017</td> <td>    0.003</td>\n",
       "</tr>\n",
       "<tr>\n",
       "  <th>kitchen_abvgr</th>        <td>   -0.0147</td> <td>    0.025</td> <td>   -0.589</td> <td> 0.556</td> <td>   -0.064</td> <td>    0.034</td>\n",
       "</tr>\n",
       "<tr>\n",
       "  <th>kitchen_qual</th>         <td>    0.0191</td> <td>    0.006</td> <td>    3.047</td> <td> 0.002</td> <td>    0.007</td> <td>    0.031</td>\n",
       "</tr>\n",
       "<tr>\n",
       "  <th>totrms_abvgrd</th>        <td>    0.0081</td> <td>    0.004</td> <td>    2.292</td> <td> 0.022</td> <td>    0.001</td> <td>    0.015</td>\n",
       "</tr>\n",
       "<tr>\n",
       "  <th>functional</th>           <td>    0.0337</td> <td>    0.004</td> <td>    8.047</td> <td> 0.000</td> <td>    0.026</td> <td>    0.042</td>\n",
       "</tr>\n",
       "<tr>\n",
       "  <th>fireplaces</th>           <td>    0.0097</td> <td>    0.009</td> <td>    1.107</td> <td> 0.269</td> <td>   -0.007</td> <td>    0.027</td>\n",
       "</tr>\n",
       "<tr>\n",
       "  <th>fireplace_qu</th>         <td>    0.0033</td> <td>    0.003</td> <td>    1.080</td> <td> 0.280</td> <td>   -0.003</td> <td>    0.009</td>\n",
       "</tr>\n",
       "<tr>\n",
       "  <th>garage_finish</th>        <td>   -0.0004</td> <td>    0.005</td> <td>   -0.088</td> <td> 0.930</td> <td>   -0.009</td> <td>    0.009</td>\n",
       "</tr>\n",
       "<tr>\n",
       "  <th>garage_cars</th>          <td>    0.0289</td> <td>    0.009</td> <td>    3.278</td> <td> 0.001</td> <td>    0.012</td> <td>    0.046</td>\n",
       "</tr>\n",
       "<tr>\n",
       "  <th>garage_area</th>          <td> 7.829e-06</td> <td> 3.09e-05</td> <td>    0.253</td> <td> 0.800</td> <td>-5.29e-05</td> <td> 6.85e-05</td>\n",
       "</tr>\n",
       "<tr>\n",
       "  <th>garage_qual</th>          <td>    0.0263</td> <td>    0.013</td> <td>    1.984</td> <td> 0.047</td> <td>    0.000</td> <td>    0.052</td>\n",
       "</tr>\n",
       "<tr>\n",
       "  <th>garage_cond</th>          <td>    0.0362</td> <td>    0.014</td> <td>    2.607</td> <td> 0.009</td> <td>    0.009</td> <td>    0.063</td>\n",
       "</tr>\n",
       "<tr>\n",
       "  <th>paved_drive</th>          <td>    0.0123</td> <td>    0.003</td> <td>    3.996</td> <td> 0.000</td> <td>    0.006</td> <td>    0.018</td>\n",
       "</tr>\n",
       "<tr>\n",
       "  <th>wood_deck_sf</th>         <td> 5.679e-05</td> <td> 2.24e-05</td> <td>    2.537</td> <td> 0.011</td> <td> 1.29e-05</td> <td>    0.000</td>\n",
       "</tr>\n",
       "<tr>\n",
       "  <th>open_porch_sf</th>        <td> 5.644e-05</td> <td> 4.37e-05</td> <td>    1.292</td> <td> 0.196</td> <td>-2.92e-05</td> <td>    0.000</td>\n",
       "</tr>\n",
       "<tr>\n",
       "  <th>enclosed_porch</th>       <td>    0.0002</td> <td> 4.78e-05</td> <td>    3.141</td> <td> 0.002</td> <td> 5.64e-05</td> <td>    0.000</td>\n",
       "</tr>\n",
       "<tr>\n",
       "  <th>3ssn_porch</th>           <td>    0.0002</td> <td> 9.88e-05</td> <td>    1.770</td> <td> 0.077</td> <td>-1.89e-05</td> <td>    0.000</td>\n",
       "</tr>\n",
       "<tr>\n",
       "  <th>screen_porch</th>         <td>    0.0003</td> <td> 4.67e-05</td> <td>    6.754</td> <td> 0.000</td> <td>    0.000</td> <td>    0.000</td>\n",
       "</tr>\n",
       "<tr>\n",
       "  <th>pool_area</th>            <td>    0.0002</td> <td>    0.000</td> <td>    1.009</td> <td> 0.313</td> <td>   -0.000</td> <td>    0.000</td>\n",
       "</tr>\n",
       "<tr>\n",
       "  <th>pool_qc</th>              <td>   -0.0142</td> <td>    0.027</td> <td>   -0.521</td> <td> 0.602</td> <td>   -0.067</td> <td>    0.039</td>\n",
       "</tr>\n",
       "<tr>\n",
       "  <th>fence</th>                <td>   -0.0019</td> <td>    0.003</td> <td>   -0.743</td> <td> 0.457</td> <td>   -0.007</td> <td>    0.003</td>\n",
       "</tr>\n",
       "<tr>\n",
       "  <th>misc_val</th>             <td> 7.668e-06</td> <td> 1.16e-05</td> <td>    0.661</td> <td> 0.509</td> <td>-1.51e-05</td> <td> 3.04e-05</td>\n",
       "</tr>\n",
       "<tr>\n",
       "  <th>mo_sold</th>              <td>   -0.0002</td> <td>    0.001</td> <td>   -0.262</td> <td> 0.793</td> <td>   -0.002</td> <td>    0.002</td>\n",
       "</tr>\n",
       "<tr>\n",
       "  <th>total_fin_sf</th>         <td>    0.0032</td> <td>    0.000</td> <td>   21.085</td> <td> 0.000</td> <td>    0.003</td> <td>    0.003</td>\n",
       "</tr>\n",
       "<tr>\n",
       "  <th>age_of_home</th>          <td>   -0.0021</td> <td>    0.000</td> <td>   -6.559</td> <td> 0.000</td> <td>   -0.003</td> <td>   -0.001</td>\n",
       "</tr>\n",
       "<tr>\n",
       "  <th>age_of_garage</th>        <td>   -0.0002</td> <td>    0.000</td> <td>   -1.144</td> <td> 0.253</td> <td>   -0.001</td> <td>    0.000</td>\n",
       "</tr>\n",
       "<tr>\n",
       "  <th>age_remod/add</th>        <td>   -0.0005</td> <td>    0.000</td> <td>   -2.408</td> <td> 0.016</td> <td>   -0.001</td> <td>-9.62e-05</td>\n",
       "</tr>\n",
       "<tr>\n",
       "  <th>ms_subclass_30</th>       <td>   -0.0492</td> <td>    0.018</td> <td>   -2.801</td> <td> 0.005</td> <td>   -0.084</td> <td>   -0.015</td>\n",
       "</tr>\n",
       "<tr>\n",
       "  <th>ms_subclass_40</th>       <td>   -0.0163</td> <td>    0.059</td> <td>   -0.278</td> <td> 0.781</td> <td>   -0.132</td> <td>    0.099</td>\n",
       "</tr>\n",
       "<tr>\n",
       "  <th>ms_subclass_45</th>       <td>    0.1634</td> <td>    0.079</td> <td>    2.080</td> <td> 0.038</td> <td>    0.009</td> <td>    0.318</td>\n",
       "</tr>\n",
       "<tr>\n",
       "  <th>ms_subclass_50</th>       <td>    0.0457</td> <td>    0.035</td> <td>    1.299</td> <td> 0.194</td> <td>   -0.023</td> <td>    0.115</td>\n",
       "</tr>\n",
       "<tr>\n",
       "  <th>ms_subclass_60</th>       <td>   -0.0074</td> <td>    0.029</td> <td>   -0.259</td> <td> 0.796</td> <td>   -0.063</td> <td>    0.049</td>\n",
       "</tr>\n",
       "<tr>\n",
       "  <th>ms_subclass_70</th>       <td>    0.0573</td> <td>    0.031</td> <td>    1.839</td> <td> 0.066</td> <td>   -0.004</td> <td>    0.118</td>\n",
       "</tr>\n",
       "<tr>\n",
       "  <th>ms_subclass_75</th>       <td>    0.0587</td> <td>    0.060</td> <td>    0.984</td> <td> 0.325</td> <td>   -0.058</td> <td>    0.176</td>\n",
       "</tr>\n",
       "<tr>\n",
       "  <th>ms_subclass_80</th>       <td>   -0.0704</td> <td>    0.054</td> <td>   -1.306</td> <td> 0.192</td> <td>   -0.176</td> <td>    0.035</td>\n",
       "</tr>\n",
       "<tr>\n",
       "  <th>ms_subclass_85</th>       <td>    0.0053</td> <td>    0.041</td> <td>    0.131</td> <td> 0.896</td> <td>   -0.075</td> <td>    0.085</td>\n",
       "</tr>\n",
       "<tr>\n",
       "  <th>ms_subclass_90</th>       <td>   -0.0338</td> <td>    0.014</td> <td>   -2.369</td> <td> 0.018</td> <td>   -0.062</td> <td>   -0.006</td>\n",
       "</tr>\n",
       "<tr>\n",
       "  <th>ms_subclass_120</th>      <td>   -0.0710</td> <td>    0.057</td> <td>   -1.248</td> <td> 0.212</td> <td>   -0.182</td> <td>    0.041</td>\n",
       "</tr>\n",
       "<tr>\n",
       "  <th>ms_subclass_150</th>      <td>   -0.2913</td> <td>    0.137</td> <td>   -2.123</td> <td> 0.034</td> <td>   -0.561</td> <td>   -0.022</td>\n",
       "</tr>\n",
       "<tr>\n",
       "  <th>ms_subclass_160</th>      <td>   -0.1182</td> <td>    0.065</td> <td>   -1.830</td> <td> 0.067</td> <td>   -0.245</td> <td>    0.008</td>\n",
       "</tr>\n",
       "<tr>\n",
       "  <th>ms_subclass_180</th>      <td>   -0.1129</td> <td>    0.077</td> <td>   -1.466</td> <td> 0.143</td> <td>   -0.264</td> <td>    0.038</td>\n",
       "</tr>\n",
       "<tr>\n",
       "  <th>ms_subclass_190</th>      <td>   -0.0848</td> <td>    0.083</td> <td>   -1.021</td> <td> 0.307</td> <td>   -0.248</td> <td>    0.078</td>\n",
       "</tr>\n",
       "<tr>\n",
       "  <th>ms_zoning_C</th>          <td>    0.7697</td> <td>    0.120</td> <td>    6.433</td> <td> 0.000</td> <td>    0.535</td> <td>    1.004</td>\n",
       "</tr>\n",
       "<tr>\n",
       "  <th>ms_zoning_FV</th>         <td>    1.0258</td> <td>    0.119</td> <td>    8.626</td> <td> 0.000</td> <td>    0.793</td> <td>    1.259</td>\n",
       "</tr>\n",
       "<tr>\n",
       "  <th>ms_zoning_I</th>          <td>    1.1207</td> <td>    0.194</td> <td>    5.766</td> <td> 0.000</td> <td>    0.739</td> <td>    1.502</td>\n",
       "</tr>\n",
       "<tr>\n",
       "  <th>ms_zoning_RH</th>         <td>    1.0365</td> <td>    0.122</td> <td>    8.497</td> <td> 0.000</td> <td>    0.797</td> <td>    1.276</td>\n",
       "</tr>\n",
       "<tr>\n",
       "  <th>ms_zoning_RL</th>         <td>    0.9959</td> <td>    0.116</td> <td>    8.570</td> <td> 0.000</td> <td>    0.768</td> <td>    1.224</td>\n",
       "</tr>\n",
       "<tr>\n",
       "  <th>ms_zoning_RM</th>         <td>    0.9524</td> <td>    0.116</td> <td>    8.180</td> <td> 0.000</td> <td>    0.724</td> <td>    1.181</td>\n",
       "</tr>\n",
       "<tr>\n",
       "  <th>ms_zoning_RP</th>         <td> 1.127e-14</td> <td> 1.35e-15</td> <td>    8.355</td> <td> 0.000</td> <td> 8.63e-15</td> <td> 1.39e-14</td>\n",
       "</tr>\n",
       "<tr>\n",
       "  <th>land_contour_HLS</th>     <td>    0.0260</td> <td>    0.020</td> <td>    1.306</td> <td> 0.192</td> <td>   -0.013</td> <td>    0.065</td>\n",
       "</tr>\n",
       "<tr>\n",
       "  <th>land_contour_Low</th>     <td>   -0.0205</td> <td>    0.025</td> <td>   -0.817</td> <td> 0.414</td> <td>   -0.070</td> <td>    0.029</td>\n",
       "</tr>\n",
       "<tr>\n",
       "  <th>land_contour_Lvl</th>     <td>    0.0011</td> <td>    0.015</td> <td>    0.072</td> <td> 0.943</td> <td>   -0.028</td> <td>    0.030</td>\n",
       "</tr>\n",
       "<tr>\n",
       "  <th>lot_config_CulDSac</th>   <td>    0.0121</td> <td>    0.014</td> <td>    0.874</td> <td> 0.382</td> <td>   -0.015</td> <td>    0.039</td>\n",
       "</tr>\n",
       "<tr>\n",
       "  <th>lot_config_FR2</th>       <td>   -0.0184</td> <td>    0.017</td> <td>   -1.104</td> <td> 0.270</td> <td>   -0.051</td> <td>    0.014</td>\n",
       "</tr>\n",
       "<tr>\n",
       "  <th>lot_config_FR3</th>       <td>   -0.0166</td> <td>    0.040</td> <td>   -0.417</td> <td> 0.677</td> <td>   -0.095</td> <td>    0.062</td>\n",
       "</tr>\n",
       "<tr>\n",
       "  <th>lot_config_Inside</th>    <td>   -0.0021</td> <td>    0.007</td> <td>   -0.290</td> <td> 0.772</td> <td>   -0.016</td> <td>    0.012</td>\n",
       "</tr>\n",
       "<tr>\n",
       "  <th>neighborhood_Blueste</th> <td>    0.0673</td> <td>    0.057</td> <td>    1.189</td> <td> 0.235</td> <td>   -0.044</td> <td>    0.178</td>\n",
       "</tr>\n",
       "<tr>\n",
       "  <th>neighborhood_BrDale</th>  <td>    0.0208</td> <td>    0.046</td> <td>    0.447</td> <td> 0.655</td> <td>   -0.070</td> <td>    0.112</td>\n",
       "</tr>\n",
       "<tr>\n",
       "  <th>neighborhood_BrkSide</th> <td>    0.0289</td> <td>    0.036</td> <td>    0.792</td> <td> 0.428</td> <td>   -0.043</td> <td>    0.100</td>\n",
       "</tr>\n",
       "<tr>\n",
       "  <th>neighborhood_ClearCr</th> <td>    0.0348</td> <td>    0.038</td> <td>    0.906</td> <td> 0.365</td> <td>   -0.041</td> <td>    0.110</td>\n",
       "</tr>\n",
       "<tr>\n",
       "  <th>neighborhood_CollgCr</th> <td>   -0.0113</td> <td>    0.029</td> <td>   -0.395</td> <td> 0.693</td> <td>   -0.068</td> <td>    0.045</td>\n",
       "</tr>\n",
       "<tr>\n",
       "  <th>neighborhood_Crawfor</th> <td>    0.0757</td> <td>    0.033</td> <td>    2.284</td> <td> 0.022</td> <td>    0.011</td> <td>    0.141</td>\n",
       "</tr>\n",
       "<tr>\n",
       "  <th>neighborhood_Edwards</th> <td>   -0.0492</td> <td>    0.031</td> <td>   -1.579</td> <td> 0.115</td> <td>   -0.110</td> <td>    0.012</td>\n",
       "</tr>\n",
       "<tr>\n",
       "  <th>neighborhood_Gilbert</th> <td>   -0.0015</td> <td>    0.030</td> <td>   -0.049</td> <td> 0.961</td> <td>   -0.060</td> <td>    0.058</td>\n",
       "</tr>\n",
       "<tr>\n",
       "  <th>neighborhood_Greens</th>  <td>    0.0988</td> <td>    0.071</td> <td>    1.387</td> <td> 0.166</td> <td>   -0.041</td> <td>    0.239</td>\n",
       "</tr>\n",
       "<tr>\n",
       "  <th>neighborhood_GrnHill</th> <td>    0.5108</td> <td>    0.084</td> <td>    6.073</td> <td> 0.000</td> <td>    0.346</td> <td>    0.676</td>\n",
       "</tr>\n",
       "<tr>\n",
       "  <th>neighborhood_IDOTRR</th>  <td>   -0.0003</td> <td>    0.040</td> <td>   -0.006</td> <td> 0.995</td> <td>   -0.078</td> <td>    0.078</td>\n",
       "</tr>\n",
       "<tr>\n",
       "  <th>neighborhood_Landmrk</th> <td>    0.0026</td> <td>    0.119</td> <td>    0.022</td> <td> 0.982</td> <td>   -0.230</td> <td>    0.235</td>\n",
       "</tr>\n",
       "<tr>\n",
       "  <th>neighborhood_MeadowV</th> <td>   -0.0779</td> <td>    0.046</td> <td>   -1.693</td> <td> 0.091</td> <td>   -0.168</td> <td>    0.012</td>\n",
       "</tr>\n",
       "<tr>\n",
       "  <th>neighborhood_Mitchel</th> <td>    0.0049</td> <td>    0.031</td> <td>    0.155</td> <td> 0.877</td> <td>   -0.057</td> <td>    0.066</td>\n",
       "</tr>\n",
       "<tr>\n",
       "  <th>neighborhood_NAmes</th>   <td>   -0.0110</td> <td>    0.031</td> <td>   -0.359</td> <td> 0.720</td> <td>   -0.071</td> <td>    0.049</td>\n",
       "</tr>\n",
       "<tr>\n",
       "  <th>neighborhood_NPkVill</th> <td>   -0.0153</td> <td>    0.069</td> <td>   -0.221</td> <td> 0.825</td> <td>   -0.151</td> <td>    0.121</td>\n",
       "</tr>\n",
       "<tr>\n",
       "  <th>neighborhood_NWAmes</th>  <td>   -0.0271</td> <td>    0.032</td> <td>   -0.858</td> <td> 0.391</td> <td>   -0.089</td> <td>    0.035</td>\n",
       "</tr>\n",
       "<tr>\n",
       "  <th>neighborhood_NoRidge</th> <td>    0.0222</td> <td>    0.033</td> <td>    0.669</td> <td> 0.503</td> <td>   -0.043</td> <td>    0.087</td>\n",
       "</tr>\n",
       "<tr>\n",
       "  <th>neighborhood_NridgHt</th> <td>    0.0734</td> <td>    0.029</td> <td>    2.532</td> <td> 0.011</td> <td>    0.017</td> <td>    0.130</td>\n",
       "</tr>\n",
       "<tr>\n",
       "  <th>neighborhood_OldTown</th> <td>   -0.0264</td> <td>    0.037</td> <td>   -0.719</td> <td> 0.472</td> <td>   -0.098</td> <td>    0.046</td>\n",
       "</tr>\n",
       "<tr>\n",
       "  <th>neighborhood_SWISU</th>   <td>   -0.0360</td> <td>    0.038</td> <td>   -0.948</td> <td> 0.343</td> <td>   -0.110</td> <td>    0.038</td>\n",
       "</tr>\n",
       "<tr>\n",
       "  <th>neighborhood_Sawyer</th>  <td>   -0.0003</td> <td>    0.032</td> <td>   -0.008</td> <td> 0.993</td> <td>   -0.063</td> <td>    0.062</td>\n",
       "</tr>\n",
       "<tr>\n",
       "  <th>neighborhood_SawyerW</th> <td>   -0.0227</td> <td>    0.030</td> <td>   -0.750</td> <td> 0.453</td> <td>   -0.082</td> <td>    0.037</td>\n",
       "</tr>\n",
       "<tr>\n",
       "  <th>neighborhood_Somerst</th> <td>    0.0376</td> <td>    0.035</td> <td>    1.087</td> <td> 0.277</td> <td>   -0.030</td> <td>    0.105</td>\n",
       "</tr>\n",
       "<tr>\n",
       "  <th>neighborhood_StoneBr</th> <td>    0.0909</td> <td>    0.033</td> <td>    2.762</td> <td> 0.006</td> <td>    0.026</td> <td>    0.155</td>\n",
       "</tr>\n",
       "<tr>\n",
       "  <th>neighborhood_Timber</th>  <td>    0.0044</td> <td>    0.032</td> <td>    0.137</td> <td> 0.891</td> <td>   -0.058</td> <td>    0.067</td>\n",
       "</tr>\n",
       "<tr>\n",
       "  <th>neighborhood_Veenker</th> <td>   -0.0111</td> <td>    0.040</td> <td>   -0.280</td> <td> 0.779</td> <td>   -0.089</td> <td>    0.067</td>\n",
       "</tr>\n",
       "<tr>\n",
       "  <th>condition_1_Feedr</th>    <td>    0.0536</td> <td>    0.019</td> <td>    2.869</td> <td> 0.004</td> <td>    0.017</td> <td>    0.090</td>\n",
       "</tr>\n",
       "<tr>\n",
       "  <th>condition_1_Norm</th>     <td>    0.0723</td> <td>    0.015</td> <td>    4.841</td> <td> 0.000</td> <td>    0.043</td> <td>    0.102</td>\n",
       "</tr>\n",
       "<tr>\n",
       "  <th>condition_1_PosA</th>     <td>    0.1102</td> <td>    0.038</td> <td>    2.898</td> <td> 0.004</td> <td>    0.036</td> <td>    0.185</td>\n",
       "</tr>\n",
       "<tr>\n",
       "  <th>condition_1_PosN</th>     <td>    0.0961</td> <td>    0.027</td> <td>    3.514</td> <td> 0.000</td> <td>    0.042</td> <td>    0.150</td>\n",
       "</tr>\n",
       "<tr>\n",
       "  <th>condition_1_RRAe</th>     <td>   -0.0099</td> <td>    0.030</td> <td>   -0.333</td> <td> 0.739</td> <td>   -0.068</td> <td>    0.048</td>\n",
       "</tr>\n",
       "<tr>\n",
       "  <th>condition_1_RRAn</th>     <td>    0.0200</td> <td>    0.026</td> <td>    0.770</td> <td> 0.441</td> <td>   -0.031</td> <td>    0.071</td>\n",
       "</tr>\n",
       "<tr>\n",
       "  <th>condition_1_RRNe</th>     <td>    0.0806</td> <td>    0.069</td> <td>    1.173</td> <td> 0.241</td> <td>   -0.054</td> <td>    0.215</td>\n",
       "</tr>\n",
       "<tr>\n",
       "  <th>condition_1_RRNn</th>     <td>   -0.0081</td> <td>    0.049</td> <td>   -0.163</td> <td> 0.871</td> <td>   -0.105</td> <td>    0.089</td>\n",
       "</tr>\n",
       "<tr>\n",
       "  <th>condition_2_Feedr</th>    <td>    0.0192</td> <td>    0.064</td> <td>    0.300</td> <td> 0.764</td> <td>   -0.106</td> <td>    0.144</td>\n",
       "</tr>\n",
       "<tr>\n",
       "  <th>condition_2_Norm</th>     <td>    0.0468</td> <td>    0.054</td> <td>    0.863</td> <td> 0.388</td> <td>   -0.060</td> <td>    0.153</td>\n",
       "</tr>\n",
       "<tr>\n",
       "  <th>condition_2_PosA</th>     <td>    0.1160</td> <td>    0.089</td> <td>    1.310</td> <td> 0.190</td> <td>   -0.058</td> <td>    0.290</td>\n",
       "</tr>\n",
       "<tr>\n",
       "  <th>condition_2_PosN</th>     <td>    0.0016</td> <td>    0.087</td> <td>    0.018</td> <td> 0.986</td> <td>   -0.169</td> <td>    0.172</td>\n",
       "</tr>\n",
       "<tr>\n",
       "  <th>condition_2_RRAe</th>     <td>   -0.0684</td> <td>    0.168</td> <td>   -0.406</td> <td> 0.685</td> <td>   -0.398</td> <td>    0.262</td>\n",
       "</tr>\n",
       "<tr>\n",
       "  <th>condition_2_RRAn</th>     <td>   -0.0050</td> <td>    0.123</td> <td>   -0.040</td> <td> 0.968</td> <td>   -0.247</td> <td>    0.237</td>\n",
       "</tr>\n",
       "<tr>\n",
       "  <th>condition_2_RRNn</th>     <td>    0.0219</td> <td>    0.096</td> <td>    0.228</td> <td> 0.819</td> <td>   -0.166</td> <td>    0.209</td>\n",
       "</tr>\n",
       "<tr>\n",
       "  <th>condition_2_RRNe</th>     <td>-2.391e-15</td> <td> 3.34e-16</td> <td>   -7.151</td> <td> 0.000</td> <td>-3.05e-15</td> <td>-1.74e-15</td>\n",
       "</tr>\n",
       "<tr>\n",
       "  <th>bldg_type_2fmCon</th>     <td>    0.0859</td> <td>    0.083</td> <td>    1.034</td> <td> 0.301</td> <td>   -0.077</td> <td>    0.249</td>\n",
       "</tr>\n",
       "<tr>\n",
       "  <th>bldg_type_Duplex</th>     <td>   -0.0338</td> <td>    0.014</td> <td>   -2.369</td> <td> 0.018</td> <td>   -0.062</td> <td>   -0.006</td>\n",
       "</tr>\n",
       "<tr>\n",
       "  <th>bldg_type_Twnhs</th>      <td>   -0.0268</td> <td>    0.059</td> <td>   -0.452</td> <td> 0.651</td> <td>   -0.143</td> <td>    0.090</td>\n",
       "</tr>\n",
       "<tr>\n",
       "  <th>bldg_type_TwnhsE</th>     <td>    0.0160</td> <td>    0.056</td> <td>    0.283</td> <td> 0.777</td> <td>   -0.095</td> <td>    0.127</td>\n",
       "</tr>\n",
       "<tr>\n",
       "  <th>house_style_1.5Unf</th>   <td>   -0.1233</td> <td>    0.071</td> <td>   -1.740</td> <td> 0.082</td> <td>   -0.262</td> <td>    0.016</td>\n",
       "</tr>\n",
       "<tr>\n",
       "  <th>house_style_1Story</th>   <td>    0.0239</td> <td>    0.035</td> <td>    0.684</td> <td> 0.494</td> <td>   -0.045</td> <td>    0.093</td>\n",
       "</tr>\n",
       "<tr>\n",
       "  <th>house_style_2.5Fin</th>   <td>   -0.0832</td> <td>    0.071</td> <td>   -1.165</td> <td> 0.244</td> <td>   -0.223</td> <td>    0.057</td>\n",
       "</tr>\n",
       "<tr>\n",
       "  <th>house_style_2.5Unf</th>   <td>    0.0388</td> <td>    0.062</td> <td>    0.629</td> <td> 0.529</td> <td>   -0.082</td> <td>    0.160</td>\n",
       "</tr>\n",
       "<tr>\n",
       "  <th>house_style_2Story</th>   <td>    0.0116</td> <td>    0.034</td> <td>    0.344</td> <td> 0.731</td> <td>   -0.055</td> <td>    0.078</td>\n",
       "</tr>\n",
       "<tr>\n",
       "  <th>house_style_SFoyer</th>   <td>    0.0331</td> <td>    0.045</td> <td>    0.736</td> <td> 0.462</td> <td>   -0.055</td> <td>    0.122</td>\n",
       "</tr>\n",
       "<tr>\n",
       "  <th>house_style_SLvl</th>     <td>    0.0821</td> <td>    0.059</td> <td>    1.403</td> <td> 0.161</td> <td>   -0.033</td> <td>    0.197</td>\n",
       "</tr>\n",
       "<tr>\n",
       "  <th>roof_style_Gable</th>     <td>   -0.0035</td> <td>    0.059</td> <td>   -0.060</td> <td> 0.952</td> <td>   -0.119</td> <td>    0.112</td>\n",
       "</tr>\n",
       "<tr>\n",
       "  <th>roof_style_Gambrel</th>   <td>   -0.0913</td> <td>    0.068</td> <td>   -1.337</td> <td> 0.181</td> <td>   -0.225</td> <td>    0.043</td>\n",
       "</tr>\n",
       "<tr>\n",
       "  <th>roof_style_Hip</th>       <td>    0.0008</td> <td>    0.059</td> <td>    0.013</td> <td> 0.990</td> <td>   -0.116</td> <td>    0.117</td>\n",
       "</tr>\n",
       "<tr>\n",
       "  <th>roof_style_Mansard</th>   <td>   -0.1812</td> <td>    0.077</td> <td>   -2.354</td> <td> 0.019</td> <td>   -0.332</td> <td>   -0.030</td>\n",
       "</tr>\n",
       "<tr>\n",
       "  <th>roof_style_Shed</th>      <td>    0.0023</td> <td>    0.102</td> <td>    0.023</td> <td> 0.982</td> <td>   -0.198</td> <td>    0.202</td>\n",
       "</tr>\n",
       "<tr>\n",
       "  <th>roof_matl_CompShg</th>    <td>    2.6626</td> <td>    0.146</td> <td>   18.234</td> <td> 0.000</td> <td>    2.376</td> <td>    2.949</td>\n",
       "</tr>\n",
       "<tr>\n",
       "  <th>roof_matl_Membran</th>    <td>    2.8777</td> <td>    0.196</td> <td>   14.718</td> <td> 0.000</td> <td>    2.494</td> <td>    3.261</td>\n",
       "</tr>\n",
       "<tr>\n",
       "  <th>roof_matl_Tar&Grv</th>    <td>    2.6624</td> <td>    0.155</td> <td>   17.186</td> <td> 0.000</td> <td>    2.359</td> <td>    2.966</td>\n",
       "</tr>\n",
       "<tr>\n",
       "  <th>roof_matl_WdShake</th>    <td>    2.6890</td> <td>    0.160</td> <td>   16.773</td> <td> 0.000</td> <td>    2.375</td> <td>    3.003</td>\n",
       "</tr>\n",
       "<tr>\n",
       "  <th>roof_matl_WdShngl</th>    <td>    2.7479</td> <td>    0.157</td> <td>   17.500</td> <td> 0.000</td> <td>    2.440</td> <td>    3.056</td>\n",
       "</tr>\n",
       "<tr>\n",
       "  <th>roof_matl_Metal</th>      <td>-5.157e-16</td> <td> 1.42e-16</td> <td>   -3.619</td> <td> 0.000</td> <td>-7.95e-16</td> <td>-2.36e-16</td>\n",
       "</tr>\n",
       "<tr>\n",
       "  <th>roof_matl_Roll</th>       <td>-9.153e-16</td> <td> 2.73e-16</td> <td>   -3.356</td> <td> 0.001</td> <td>-1.45e-15</td> <td> -3.8e-16</td>\n",
       "</tr>\n",
       "<tr>\n",
       "  <th>exterior_1st_AsphShn</th> <td>   -0.1319</td> <td>    0.147</td> <td>   -0.895</td> <td> 0.371</td> <td>   -0.421</td> <td>    0.157</td>\n",
       "</tr>\n",
       "<tr>\n",
       "  <th>exterior_1st_BrkComm</th> <td>   -0.1716</td> <td>    0.104</td> <td>   -1.650</td> <td> 0.099</td> <td>   -0.376</td> <td>    0.032</td>\n",
       "</tr>\n",
       "<tr>\n",
       "  <th>exterior_1st_BrkFace</th> <td>    0.1548</td> <td>    0.043</td> <td>    3.635</td> <td> 0.000</td> <td>    0.071</td> <td>    0.238</td>\n",
       "</tr>\n",
       "<tr>\n",
       "  <th>exterior_1st_CBlock</th>  <td>    0.7952</td> <td>    0.122</td> <td>    6.507</td> <td> 0.000</td> <td>    0.556</td> <td>    1.035</td>\n",
       "</tr>\n",
       "<tr>\n",
       "  <th>exterior_1st_CemntBd</th> <td>   -0.0924</td> <td>    0.085</td> <td>   -1.090</td> <td> 0.276</td> <td>   -0.259</td> <td>    0.074</td>\n",
       "</tr>\n",
       "<tr>\n",
       "  <th>exterior_1st_HdBoard</th> <td>    0.0436</td> <td>    0.042</td> <td>    1.049</td> <td> 0.294</td> <td>   -0.038</td> <td>    0.125</td>\n",
       "</tr>\n",
       "<tr>\n",
       "  <th>exterior_1st_ImStucc</th> <td>    0.0506</td> <td>    0.121</td> <td>    0.417</td> <td> 0.677</td> <td>   -0.187</td> <td>    0.289</td>\n",
       "</tr>\n",
       "<tr>\n",
       "  <th>exterior_1st_MetalSd</th> <td>    0.0931</td> <td>    0.050</td> <td>    1.859</td> <td> 0.063</td> <td>   -0.005</td> <td>    0.191</td>\n",
       "</tr>\n",
       "<tr>\n",
       "  <th>exterior_1st_Plywood</th> <td>    0.0420</td> <td>    0.041</td> <td>    1.029</td> <td> 0.304</td> <td>   -0.038</td> <td>    0.122</td>\n",
       "</tr>\n",
       "<tr>\n",
       "  <th>exterior_1st_Stone</th>   <td>   -0.0476</td> <td>    0.100</td> <td>   -0.474</td> <td> 0.636</td> <td>   -0.245</td> <td>    0.149</td>\n",
       "</tr>\n",
       "<tr>\n",
       "  <th>exterior_1st_Stucco</th>  <td>    0.0807</td> <td>    0.048</td> <td>    1.683</td> <td> 0.093</td> <td>   -0.013</td> <td>    0.175</td>\n",
       "</tr>\n",
       "<tr>\n",
       "  <th>exterior_1st_VinylSd</th> <td>    0.0422</td> <td>    0.046</td> <td>    0.922</td> <td> 0.357</td> <td>   -0.048</td> <td>    0.132</td>\n",
       "</tr>\n",
       "<tr>\n",
       "  <th>exterior_1st_Wd Sdng</th> <td>    0.0253</td> <td>    0.040</td> <td>    0.632</td> <td> 0.527</td> <td>   -0.053</td> <td>    0.104</td>\n",
       "</tr>\n",
       "<tr>\n",
       "  <th>exterior_1st_WdShing</th> <td>    0.0809</td> <td>    0.044</td> <td>    1.843</td> <td> 0.066</td> <td>   -0.005</td> <td>    0.167</td>\n",
       "</tr>\n",
       "<tr>\n",
       "  <th>exterior_1st_Other</th>   <td>-2.032e-16</td> <td> 1.41e-16</td> <td>   -1.440</td> <td> 0.150</td> <td> -4.8e-16</td> <td> 7.35e-17</td>\n",
       "</tr>\n",
       "<tr>\n",
       "  <th>exterior_1st_PreCast</th> <td>-3.796e-17</td> <td>  1.6e-16</td> <td>   -0.237</td> <td> 0.813</td> <td>-3.52e-16</td> <td> 2.76e-16</td>\n",
       "</tr>\n",
       "<tr>\n",
       "  <th>exterior_2nd_AsphShn</th> <td>    0.2111</td> <td>    0.094</td> <td>    2.239</td> <td> 0.025</td> <td>    0.026</td> <td>    0.396</td>\n",
       "</tr>\n",
       "<tr>\n",
       "  <th>exterior_2nd_Brk Cmn</th> <td>    0.1234</td> <td>    0.083</td> <td>    1.494</td> <td> 0.135</td> <td>   -0.039</td> <td>    0.285</td>\n",
       "</tr>\n",
       "<tr>\n",
       "  <th>exterior_2nd_BrkFace</th> <td>   -0.0178</td> <td>    0.048</td> <td>   -0.371</td> <td> 0.711</td> <td>   -0.112</td> <td>    0.076</td>\n",
       "</tr>\n",
       "<tr>\n",
       "  <th>exterior_2nd_CBlock</th>  <td>   -0.4908</td> <td>    0.113</td> <td>   -4.332</td> <td> 0.000</td> <td>   -0.713</td> <td>   -0.269</td>\n",
       "</tr>\n",
       "<tr>\n",
       "  <th>exterior_2nd_CmentBd</th> <td>    0.1971</td> <td>    0.086</td> <td>    2.294</td> <td> 0.022</td> <td>    0.029</td> <td>    0.366</td>\n",
       "</tr>\n",
       "<tr>\n",
       "  <th>exterior_2nd_HdBoard</th> <td>    0.0428</td> <td>    0.044</td> <td>    0.980</td> <td> 0.327</td> <td>   -0.043</td> <td>    0.129</td>\n",
       "</tr>\n",
       "<tr>\n",
       "  <th>exterior_2nd_ImStucc</th> <td>    0.0376</td> <td>    0.054</td> <td>    0.694</td> <td> 0.488</td> <td>   -0.069</td> <td>    0.144</td>\n",
       "</tr>\n",
       "<tr>\n",
       "  <th>exterior_2nd_MetalSd</th> <td>    0.0190</td> <td>    0.052</td> <td>    0.363</td> <td> 0.716</td> <td>   -0.083</td> <td>    0.121</td>\n",
       "</tr>\n",
       "<tr>\n",
       "  <th>exterior_2nd_Plywood</th> <td>    0.0499</td> <td>    0.042</td> <td>    1.188</td> <td> 0.235</td> <td>   -0.032</td> <td>    0.132</td>\n",
       "</tr>\n",
       "<tr>\n",
       "  <th>exterior_2nd_Stone</th>   <td>    0.0272</td> <td>    0.068</td> <td>    0.401</td> <td> 0.688</td> <td>   -0.106</td> <td>    0.160</td>\n",
       "</tr>\n",
       "<tr>\n",
       "  <th>exterior_2nd_Stucco</th>  <td>    0.0432</td> <td>    0.049</td> <td>    0.881</td> <td> 0.378</td> <td>   -0.053</td> <td>    0.140</td>\n",
       "</tr>\n",
       "<tr>\n",
       "  <th>exterior_2nd_VinylSd</th> <td>    0.0530</td> <td>    0.047</td> <td>    1.116</td> <td> 0.265</td> <td>   -0.040</td> <td>    0.146</td>\n",
       "</tr>\n",
       "<tr>\n",
       "  <th>exterior_2nd_Wd Sdng</th> <td>    0.0630</td> <td>    0.042</td> <td>    1.483</td> <td> 0.138</td> <td>   -0.020</td> <td>    0.146</td>\n",
       "</tr>\n",
       "<tr>\n",
       "  <th>exterior_2nd_Wd Shng</th> <td>    0.0319</td> <td>    0.045</td> <td>    0.718</td> <td> 0.473</td> <td>   -0.055</td> <td>    0.119</td>\n",
       "</tr>\n",
       "<tr>\n",
       "  <th>exterior_2nd_BrkComm</th> <td>-1.045e-16</td> <td> 8.47e-17</td> <td>   -1.234</td> <td> 0.217</td> <td>-2.71e-16</td> <td> 6.16e-17</td>\n",
       "</tr>\n",
       "<tr>\n",
       "  <th>exterior_2nd_CemntBd</th> <td>-1.869e-17</td> <td> 9.65e-17</td> <td>   -0.194</td> <td> 0.846</td> <td>-2.08e-16</td> <td> 1.71e-16</td>\n",
       "</tr>\n",
       "<tr>\n",
       "  <th>exterior_2nd_Other</th>   <td>-5.814e-17</td> <td> 1.02e-16</td> <td>   -0.572</td> <td> 0.567</td> <td>-2.57e-16</td> <td> 1.41e-16</td>\n",
       "</tr>\n",
       "<tr>\n",
       "  <th>exterior_2nd_PreCast</th> <td>-4.647e-17</td> <td> 5.25e-17</td> <td>   -0.885</td> <td> 0.376</td> <td>-1.49e-16</td> <td> 5.65e-17</td>\n",
       "</tr>\n",
       "<tr>\n",
       "  <th>exterior_2nd_WdShing</th> <td> 9.838e-17</td> <td> 6.88e-17</td> <td>    1.431</td> <td> 0.153</td> <td>-3.65e-17</td> <td> 2.33e-16</td>\n",
       "</tr>\n",
       "<tr>\n",
       "  <th>street_Pave</th>          <td>    0.0788</td> <td>    0.050</td> <td>    1.586</td> <td> 0.113</td> <td>   -0.019</td> <td>    0.176</td>\n",
       "</tr>\n",
       "<tr>\n",
       "  <th>alley_No_Alley</th>       <td>   -0.0082</td> <td>    0.015</td> <td>   -0.540</td> <td> 0.590</td> <td>   -0.038</td> <td>    0.021</td>\n",
       "</tr>\n",
       "<tr>\n",
       "  <th>alley_Pave</th>           <td>   -0.0214</td> <td>    0.023</td> <td>   -0.917</td> <td> 0.359</td> <td>   -0.067</td> <td>    0.024</td>\n",
       "</tr>\n",
       "<tr>\n",
       "  <th>mas_vnr_type_BrkFace</th> <td>    0.0883</td> <td>    0.032</td> <td>    2.743</td> <td> 0.006</td> <td>    0.025</td> <td>    0.151</td>\n",
       "</tr>\n",
       "<tr>\n",
       "  <th>mas_vnr_type_None</th>    <td>    0.0901</td> <td>    0.032</td> <td>    2.796</td> <td> 0.005</td> <td>    0.027</td> <td>    0.153</td>\n",
       "</tr>\n",
       "<tr>\n",
       "  <th>mas_vnr_type_Stone</th>   <td>    0.1136</td> <td>    0.033</td> <td>    3.407</td> <td> 0.001</td> <td>    0.048</td> <td>    0.179</td>\n",
       "</tr>\n",
       "<tr>\n",
       "  <th>mas_vnr_type_CBlock</th>  <td> 1.394e-16</td> <td> 6.74e-17</td> <td>    2.068</td> <td> 0.039</td> <td> 7.21e-18</td> <td> 2.72e-16</td>\n",
       "</tr>\n",
       "<tr>\n",
       "  <th>foundation_CBlock</th>    <td>   -0.0066</td> <td>    0.012</td> <td>   -0.542</td> <td> 0.588</td> <td>   -0.031</td> <td>    0.017</td>\n",
       "</tr>\n",
       "<tr>\n",
       "  <th>foundation_PConc</th>     <td>    0.0179</td> <td>    0.013</td> <td>    1.351</td> <td> 0.177</td> <td>   -0.008</td> <td>    0.044</td>\n",
       "</tr>\n",
       "<tr>\n",
       "  <th>foundation_Slab</th>      <td>   -0.0064</td> <td>    0.033</td> <td>   -0.196</td> <td> 0.845</td> <td>   -0.071</td> <td>    0.058</td>\n",
       "</tr>\n",
       "<tr>\n",
       "  <th>foundation_Stone</th>     <td>    0.0711</td> <td>    0.053</td> <td>    1.351</td> <td> 0.177</td> <td>   -0.032</td> <td>    0.174</td>\n",
       "</tr>\n",
       "<tr>\n",
       "  <th>foundation_Wood</th>      <td>    0.0615</td> <td>    0.081</td> <td>    0.757</td> <td> 0.449</td> <td>   -0.098</td> <td>    0.221</td>\n",
       "</tr>\n",
       "<tr>\n",
       "  <th>heating_GasW</th>         <td>    0.0315</td> <td>    0.028</td> <td>    1.135</td> <td> 0.256</td> <td>   -0.023</td> <td>    0.086</td>\n",
       "</tr>\n",
       "<tr>\n",
       "  <th>heating_Grav</th>         <td>   -0.3053</td> <td>    0.052</td> <td>   -5.891</td> <td> 0.000</td> <td>   -0.407</td> <td>   -0.204</td>\n",
       "</tr>\n",
       "<tr>\n",
       "  <th>heating_OthW</th>         <td>   -0.0559</td> <td>    0.082</td> <td>   -0.681</td> <td> 0.496</td> <td>   -0.217</td> <td>    0.105</td>\n",
       "</tr>\n",
       "<tr>\n",
       "  <th>heating_Wall</th>         <td>   -0.0299</td> <td>    0.059</td> <td>   -0.510</td> <td> 0.610</td> <td>   -0.145</td> <td>    0.085</td>\n",
       "</tr>\n",
       "<tr>\n",
       "  <th>heating_GasA</th>         <td>-4.033e-17</td> <td> 2.05e-17</td> <td>   -1.963</td> <td> 0.050</td> <td>-8.06e-17</td> <td>-4.61e-20</td>\n",
       "</tr>\n",
       "<tr>\n",
       "  <th>central_air_Y</th>        <td>    0.0321</td> <td>    0.013</td> <td>    2.395</td> <td> 0.017</td> <td>    0.006</td> <td>    0.058</td>\n",
       "</tr>\n",
       "<tr>\n",
       "  <th>garage_type_Attchd</th>   <td>    0.0477</td> <td>    0.028</td> <td>    1.680</td> <td> 0.093</td> <td>   -0.008</td> <td>    0.103</td>\n",
       "</tr>\n",
       "<tr>\n",
       "  <th>garage_type_Basment</th>  <td>    0.0523</td> <td>    0.037</td> <td>    1.399</td> <td> 0.162</td> <td>   -0.021</td> <td>    0.126</td>\n",
       "</tr>\n",
       "<tr>\n",
       "  <th>garage_type_BuiltIn</th>  <td>    0.0442</td> <td>    0.031</td> <td>    1.427</td> <td> 0.154</td> <td>   -0.017</td> <td>    0.105</td>\n",
       "</tr>\n",
       "<tr>\n",
       "  <th>garage_type_CarPort</th>  <td>   -0.0024</td> <td>    0.045</td> <td>   -0.055</td> <td> 0.956</td> <td>   -0.090</td> <td>    0.085</td>\n",
       "</tr>\n",
       "<tr>\n",
       "  <th>garage_type_Detchd</th>   <td>    0.0426</td> <td>    0.028</td> <td>    1.511</td> <td> 0.131</td> <td>   -0.013</td> <td>    0.098</td>\n",
       "</tr>\n",
       "<tr>\n",
       "  <th>garage_type_NA</th>       <td>    0.2339</td> <td>    0.051</td> <td>    4.594</td> <td> 0.000</td> <td>    0.134</td> <td>    0.334</td>\n",
       "</tr>\n",
       "<tr>\n",
       "  <th>misc_feature_Elev</th>    <td>   -2.3503</td> <td>    0.233</td> <td>  -10.099</td> <td> 0.000</td> <td>   -2.807</td> <td>   -1.894</td>\n",
       "</tr>\n",
       "<tr>\n",
       "  <th>misc_feature_Gar2</th>    <td>   -0.0090</td> <td>    0.100</td> <td>   -0.090</td> <td> 0.929</td> <td>   -0.206</td> <td>    0.188</td>\n",
       "</tr>\n",
       "<tr>\n",
       "  <th>misc_feature_Othr</th>    <td>   -0.0127</td> <td>    0.083</td> <td>   -0.153</td> <td> 0.879</td> <td>   -0.176</td> <td>    0.150</td>\n",
       "</tr>\n",
       "<tr>\n",
       "  <th>misc_feature_Shed</th>    <td>   -0.0180</td> <td>    0.018</td> <td>   -0.993</td> <td> 0.321</td> <td>   -0.054</td> <td>    0.018</td>\n",
       "</tr>\n",
       "<tr>\n",
       "  <th>misc_feature_TenC</th>    <td>   -0.2501</td> <td>    0.124</td> <td>   -2.022</td> <td> 0.043</td> <td>   -0.493</td> <td>   -0.008</td>\n",
       "</tr>\n",
       "<tr>\n",
       "  <th>sale_type_CWD</th>        <td>    0.0570</td> <td>    0.038</td> <td>    1.492</td> <td> 0.136</td> <td>   -0.018</td> <td>    0.132</td>\n",
       "</tr>\n",
       "<tr>\n",
       "  <th>sale_type_Con</th>        <td>    0.1568</td> <td>    0.057</td> <td>    2.751</td> <td> 0.006</td> <td>    0.045</td> <td>    0.269</td>\n",
       "</tr>\n",
       "<tr>\n",
       "  <th>sale_type_ConLD</th>      <td>    0.0878</td> <td>    0.033</td> <td>    2.649</td> <td> 0.008</td> <td>    0.023</td> <td>    0.153</td>\n",
       "</tr>\n",
       "<tr>\n",
       "  <th>sale_type_ConLI</th>      <td>    0.0019</td> <td>    0.044</td> <td>    0.043</td> <td> 0.965</td> <td>   -0.085</td> <td>    0.089</td>\n",
       "</tr>\n",
       "<tr>\n",
       "  <th>sale_type_ConLw</th>      <td>    0.0081</td> <td>    0.052</td> <td>    0.155</td> <td> 0.877</td> <td>   -0.094</td> <td>    0.110</td>\n",
       "</tr>\n",
       "<tr>\n",
       "  <th>sale_type_New</th>        <td>    0.0721</td> <td>    0.018</td> <td>    3.932</td> <td> 0.000</td> <td>    0.036</td> <td>    0.108</td>\n",
       "</tr>\n",
       "<tr>\n",
       "  <th>sale_type_Oth</th>        <td>    0.1501</td> <td>    0.057</td> <td>    2.640</td> <td> 0.008</td> <td>    0.039</td> <td>    0.262</td>\n",
       "</tr>\n",
       "<tr>\n",
       "  <th>sale_type_WD</th>         <td>    0.0369</td> <td>    0.015</td> <td>    2.473</td> <td> 0.013</td> <td>    0.008</td> <td>    0.066</td>\n",
       "</tr>\n",
       "<tr>\n",
       "  <th>sale_type_VWD</th>        <td>         0</td> <td>        0</td> <td>      nan</td> <td>   nan</td> <td>        0</td> <td>        0</td>\n",
       "</tr>\n",
       "</table>\n",
       "<table class=\"simpletable\">\n",
       "<tr>\n",
       "  <th>Omnibus:</th>       <td>1171.223</td> <th>  Durbin-Watson:     </th> <td>   1.992</td> \n",
       "</tr>\n",
       "<tr>\n",
       "  <th>Prob(Omnibus):</th>  <td> 0.000</td>  <th>  Jarque-Bera (JB):  </th> <td>49759.042</td>\n",
       "</tr>\n",
       "<tr>\n",
       "  <th>Skew:</th>           <td>-2.021</td>  <th>  Prob(JB):          </th> <td>    0.00</td> \n",
       "</tr>\n",
       "<tr>\n",
       "  <th>Kurtosis:</th>       <td>26.789</td>  <th>  Cond. No.          </th> <td>1.04e+19</td> \n",
       "</tr>\n",
       "</table><br/><br/>Warnings:<br/>[1] Standard Errors assume that the covariance matrix of the errors is correctly specified.<br/>[2] The smallest eigenvalue is 2.94e-27. This might indicate that there are<br/>strong multicollinearity problems or that the design matrix is singular."
      ],
      "text/plain": [
       "<class 'statsmodels.iolib.summary.Summary'>\n",
       "\"\"\"\n",
       "                            OLS Regression Results                            \n",
       "==============================================================================\n",
       "Dep. Variable:           saleprice_lg   R-squared:                       0.939\n",
       "Model:                            OLS   Adj. R-squared:                  0.932\n",
       "Method:                 Least Squares   F-statistic:                     137.8\n",
       "Date:                Fri, 10 Apr 2020   Prob (F-statistic):               0.00\n",
       "Time:                        17:23:14   Log-Likelihood:                 1780.8\n",
       "No. Observations:                2051   AIC:                            -3148.\n",
       "Df Residuals:                    1844   BIC:                            -1983.\n",
       "Df Model:                         206                                         \n",
       "Covariance Type:            nonrobust                                         \n",
       "========================================================================================\n",
       "                           coef    std err          t      P>|t|      [0.025      0.975]\n",
       "----------------------------------------------------------------------------------------\n",
       "const                 3.069e-06   1.48e-07     20.784      0.000    2.78e-06    3.36e-06\n",
       "lot_frontage         -2.819e-05      0.000     -0.186      0.852      -0.000       0.000\n",
       "lot_area              3.596e-06   7.24e-07      4.968      0.000    2.18e-06    5.02e-06\n",
       "lot_shape                0.0006      0.005      0.103      0.918      -0.010       0.011\n",
       "utilities                0.0648      0.032      2.033      0.042       0.002       0.127\n",
       "land_slope               0.0004      0.007      0.064      0.949      -0.013       0.014\n",
       "overall_qual             0.0486      0.004     12.562      0.000       0.041       0.056\n",
       "overall_cond             0.0413      0.003     12.430      0.000       0.035       0.048\n",
       "mas_vnr_area          4.107e-05   2.33e-05      1.763      0.078   -4.63e-06    8.68e-05\n",
       "exter_qual               0.0165      0.008      2.032      0.042       0.001       0.032\n",
       "exter_cond              -0.0050      0.008     -0.643      0.520      -0.020       0.010\n",
       "bsmt_qual                0.0063      0.006      1.007      0.314      -0.006       0.019\n",
       "bsmt_cond                0.0019      0.008      0.255      0.799      -0.013       0.017\n",
       "bsmt_exposure            0.0118      0.003      3.623      0.000       0.005       0.018\n",
       "bsmtfin_type_1           0.0027      0.002      1.362      0.173      -0.001       0.007\n",
       "bsmtfin_sf_1            -0.0023      0.000    -20.345      0.000      -0.003      -0.002\n",
       "bsmtfin_type_2          -0.0036      0.004     -0.817      0.414      -0.012       0.005\n",
       "bsmtfin_sf_2             0.0008   4.21e-05     19.696      0.000       0.001       0.001\n",
       "bsmt_unf_sf              0.0008   3.87e-05     20.240      0.000       0.001       0.001\n",
       "total_bsmt_sf           -0.0007   4.15e-05    -17.533      0.000      -0.001      -0.001\n",
       "heating_qc               0.0120      0.004      3.309      0.001       0.005       0.019\n",
       "electrical              -0.0041      0.004     -0.925      0.355      -0.013       0.005\n",
       "1st_flr_sf               0.0001      2e-05      5.394      0.000    6.87e-05       0.000\n",
       "2nd_flr_sf            6.764e-05   1.81e-05      3.730      0.000    3.21e-05       0.000\n",
       "low_qual_fin_sf      -1.235e-07    4.2e-05     -0.003      0.998   -8.24e-05    8.22e-05\n",
       "gr_liv_area              0.0002   1.81e-05      9.680      0.000       0.000       0.000\n",
       "bsmt_full_bath           0.0272      0.007      3.712      0.000       0.013       0.042\n",
       "bsmt_half_bath           0.0048      0.011      0.439      0.661      -0.017       0.026\n",
       "full_bath                0.0181      0.008      2.242      0.025       0.002       0.034\n",
       "half_bath                0.0120      0.008      1.528      0.127      -0.003       0.027\n",
       "bedroom_abvgr           -0.0066      0.005     -1.302      0.193      -0.017       0.003\n",
       "kitchen_abvgr           -0.0147      0.025     -0.589      0.556      -0.064       0.034\n",
       "kitchen_qual             0.0191      0.006      3.047      0.002       0.007       0.031\n",
       "totrms_abvgrd            0.0081      0.004      2.292      0.022       0.001       0.015\n",
       "functional               0.0337      0.004      8.047      0.000       0.026       0.042\n",
       "fireplaces               0.0097      0.009      1.107      0.269      -0.007       0.027\n",
       "fireplace_qu             0.0033      0.003      1.080      0.280      -0.003       0.009\n",
       "garage_finish           -0.0004      0.005     -0.088      0.930      -0.009       0.009\n",
       "garage_cars              0.0289      0.009      3.278      0.001       0.012       0.046\n",
       "garage_area           7.829e-06   3.09e-05      0.253      0.800   -5.29e-05    6.85e-05\n",
       "garage_qual              0.0263      0.013      1.984      0.047       0.000       0.052\n",
       "garage_cond              0.0362      0.014      2.607      0.009       0.009       0.063\n",
       "paved_drive              0.0123      0.003      3.996      0.000       0.006       0.018\n",
       "wood_deck_sf          5.679e-05   2.24e-05      2.537      0.011    1.29e-05       0.000\n",
       "open_porch_sf         5.644e-05   4.37e-05      1.292      0.196   -2.92e-05       0.000\n",
       "enclosed_porch           0.0002   4.78e-05      3.141      0.002    5.64e-05       0.000\n",
       "3ssn_porch               0.0002   9.88e-05      1.770      0.077   -1.89e-05       0.000\n",
       "screen_porch             0.0003   4.67e-05      6.754      0.000       0.000       0.000\n",
       "pool_area                0.0002      0.000      1.009      0.313      -0.000       0.000\n",
       "pool_qc                 -0.0142      0.027     -0.521      0.602      -0.067       0.039\n",
       "fence                   -0.0019      0.003     -0.743      0.457      -0.007       0.003\n",
       "misc_val              7.668e-06   1.16e-05      0.661      0.509   -1.51e-05    3.04e-05\n",
       "mo_sold                 -0.0002      0.001     -0.262      0.793      -0.002       0.002\n",
       "total_fin_sf             0.0032      0.000     21.085      0.000       0.003       0.003\n",
       "age_of_home             -0.0021      0.000     -6.559      0.000      -0.003      -0.001\n",
       "age_of_garage           -0.0002      0.000     -1.144      0.253      -0.001       0.000\n",
       "age_remod/add           -0.0005      0.000     -2.408      0.016      -0.001   -9.62e-05\n",
       "ms_subclass_30          -0.0492      0.018     -2.801      0.005      -0.084      -0.015\n",
       "ms_subclass_40          -0.0163      0.059     -0.278      0.781      -0.132       0.099\n",
       "ms_subclass_45           0.1634      0.079      2.080      0.038       0.009       0.318\n",
       "ms_subclass_50           0.0457      0.035      1.299      0.194      -0.023       0.115\n",
       "ms_subclass_60          -0.0074      0.029     -0.259      0.796      -0.063       0.049\n",
       "ms_subclass_70           0.0573      0.031      1.839      0.066      -0.004       0.118\n",
       "ms_subclass_75           0.0587      0.060      0.984      0.325      -0.058       0.176\n",
       "ms_subclass_80          -0.0704      0.054     -1.306      0.192      -0.176       0.035\n",
       "ms_subclass_85           0.0053      0.041      0.131      0.896      -0.075       0.085\n",
       "ms_subclass_90          -0.0338      0.014     -2.369      0.018      -0.062      -0.006\n",
       "ms_subclass_120         -0.0710      0.057     -1.248      0.212      -0.182       0.041\n",
       "ms_subclass_150         -0.2913      0.137     -2.123      0.034      -0.561      -0.022\n",
       "ms_subclass_160         -0.1182      0.065     -1.830      0.067      -0.245       0.008\n",
       "ms_subclass_180         -0.1129      0.077     -1.466      0.143      -0.264       0.038\n",
       "ms_subclass_190         -0.0848      0.083     -1.021      0.307      -0.248       0.078\n",
       "ms_zoning_C              0.7697      0.120      6.433      0.000       0.535       1.004\n",
       "ms_zoning_FV             1.0258      0.119      8.626      0.000       0.793       1.259\n",
       "ms_zoning_I              1.1207      0.194      5.766      0.000       0.739       1.502\n",
       "ms_zoning_RH             1.0365      0.122      8.497      0.000       0.797       1.276\n",
       "ms_zoning_RL             0.9959      0.116      8.570      0.000       0.768       1.224\n",
       "ms_zoning_RM             0.9524      0.116      8.180      0.000       0.724       1.181\n",
       "ms_zoning_RP          1.127e-14   1.35e-15      8.355      0.000    8.63e-15    1.39e-14\n",
       "land_contour_HLS         0.0260      0.020      1.306      0.192      -0.013       0.065\n",
       "land_contour_Low        -0.0205      0.025     -0.817      0.414      -0.070       0.029\n",
       "land_contour_Lvl         0.0011      0.015      0.072      0.943      -0.028       0.030\n",
       "lot_config_CulDSac       0.0121      0.014      0.874      0.382      -0.015       0.039\n",
       "lot_config_FR2          -0.0184      0.017     -1.104      0.270      -0.051       0.014\n",
       "lot_config_FR3          -0.0166      0.040     -0.417      0.677      -0.095       0.062\n",
       "lot_config_Inside       -0.0021      0.007     -0.290      0.772      -0.016       0.012\n",
       "neighborhood_Blueste     0.0673      0.057      1.189      0.235      -0.044       0.178\n",
       "neighborhood_BrDale      0.0208      0.046      0.447      0.655      -0.070       0.112\n",
       "neighborhood_BrkSide     0.0289      0.036      0.792      0.428      -0.043       0.100\n",
       "neighborhood_ClearCr     0.0348      0.038      0.906      0.365      -0.041       0.110\n",
       "neighborhood_CollgCr    -0.0113      0.029     -0.395      0.693      -0.068       0.045\n",
       "neighborhood_Crawfor     0.0757      0.033      2.284      0.022       0.011       0.141\n",
       "neighborhood_Edwards    -0.0492      0.031     -1.579      0.115      -0.110       0.012\n",
       "neighborhood_Gilbert    -0.0015      0.030     -0.049      0.961      -0.060       0.058\n",
       "neighborhood_Greens      0.0988      0.071      1.387      0.166      -0.041       0.239\n",
       "neighborhood_GrnHill     0.5108      0.084      6.073      0.000       0.346       0.676\n",
       "neighborhood_IDOTRR     -0.0003      0.040     -0.006      0.995      -0.078       0.078\n",
       "neighborhood_Landmrk     0.0026      0.119      0.022      0.982      -0.230       0.235\n",
       "neighborhood_MeadowV    -0.0779      0.046     -1.693      0.091      -0.168       0.012\n",
       "neighborhood_Mitchel     0.0049      0.031      0.155      0.877      -0.057       0.066\n",
       "neighborhood_NAmes      -0.0110      0.031     -0.359      0.720      -0.071       0.049\n",
       "neighborhood_NPkVill    -0.0153      0.069     -0.221      0.825      -0.151       0.121\n",
       "neighborhood_NWAmes     -0.0271      0.032     -0.858      0.391      -0.089       0.035\n",
       "neighborhood_NoRidge     0.0222      0.033      0.669      0.503      -0.043       0.087\n",
       "neighborhood_NridgHt     0.0734      0.029      2.532      0.011       0.017       0.130\n",
       "neighborhood_OldTown    -0.0264      0.037     -0.719      0.472      -0.098       0.046\n",
       "neighborhood_SWISU      -0.0360      0.038     -0.948      0.343      -0.110       0.038\n",
       "neighborhood_Sawyer     -0.0003      0.032     -0.008      0.993      -0.063       0.062\n",
       "neighborhood_SawyerW    -0.0227      0.030     -0.750      0.453      -0.082       0.037\n",
       "neighborhood_Somerst     0.0376      0.035      1.087      0.277      -0.030       0.105\n",
       "neighborhood_StoneBr     0.0909      0.033      2.762      0.006       0.026       0.155\n",
       "neighborhood_Timber      0.0044      0.032      0.137      0.891      -0.058       0.067\n",
       "neighborhood_Veenker    -0.0111      0.040     -0.280      0.779      -0.089       0.067\n",
       "condition_1_Feedr        0.0536      0.019      2.869      0.004       0.017       0.090\n",
       "condition_1_Norm         0.0723      0.015      4.841      0.000       0.043       0.102\n",
       "condition_1_PosA         0.1102      0.038      2.898      0.004       0.036       0.185\n",
       "condition_1_PosN         0.0961      0.027      3.514      0.000       0.042       0.150\n",
       "condition_1_RRAe        -0.0099      0.030     -0.333      0.739      -0.068       0.048\n",
       "condition_1_RRAn         0.0200      0.026      0.770      0.441      -0.031       0.071\n",
       "condition_1_RRNe         0.0806      0.069      1.173      0.241      -0.054       0.215\n",
       "condition_1_RRNn        -0.0081      0.049     -0.163      0.871      -0.105       0.089\n",
       "condition_2_Feedr        0.0192      0.064      0.300      0.764      -0.106       0.144\n",
       "condition_2_Norm         0.0468      0.054      0.863      0.388      -0.060       0.153\n",
       "condition_2_PosA         0.1160      0.089      1.310      0.190      -0.058       0.290\n",
       "condition_2_PosN         0.0016      0.087      0.018      0.986      -0.169       0.172\n",
       "condition_2_RRAe        -0.0684      0.168     -0.406      0.685      -0.398       0.262\n",
       "condition_2_RRAn        -0.0050      0.123     -0.040      0.968      -0.247       0.237\n",
       "condition_2_RRNn         0.0219      0.096      0.228      0.819      -0.166       0.209\n",
       "condition_2_RRNe     -2.391e-15   3.34e-16     -7.151      0.000   -3.05e-15   -1.74e-15\n",
       "bldg_type_2fmCon         0.0859      0.083      1.034      0.301      -0.077       0.249\n",
       "bldg_type_Duplex        -0.0338      0.014     -2.369      0.018      -0.062      -0.006\n",
       "bldg_type_Twnhs         -0.0268      0.059     -0.452      0.651      -0.143       0.090\n",
       "bldg_type_TwnhsE         0.0160      0.056      0.283      0.777      -0.095       0.127\n",
       "house_style_1.5Unf      -0.1233      0.071     -1.740      0.082      -0.262       0.016\n",
       "house_style_1Story       0.0239      0.035      0.684      0.494      -0.045       0.093\n",
       "house_style_2.5Fin      -0.0832      0.071     -1.165      0.244      -0.223       0.057\n",
       "house_style_2.5Unf       0.0388      0.062      0.629      0.529      -0.082       0.160\n",
       "house_style_2Story       0.0116      0.034      0.344      0.731      -0.055       0.078\n",
       "house_style_SFoyer       0.0331      0.045      0.736      0.462      -0.055       0.122\n",
       "house_style_SLvl         0.0821      0.059      1.403      0.161      -0.033       0.197\n",
       "roof_style_Gable        -0.0035      0.059     -0.060      0.952      -0.119       0.112\n",
       "roof_style_Gambrel      -0.0913      0.068     -1.337      0.181      -0.225       0.043\n",
       "roof_style_Hip           0.0008      0.059      0.013      0.990      -0.116       0.117\n",
       "roof_style_Mansard      -0.1812      0.077     -2.354      0.019      -0.332      -0.030\n",
       "roof_style_Shed          0.0023      0.102      0.023      0.982      -0.198       0.202\n",
       "roof_matl_CompShg        2.6626      0.146     18.234      0.000       2.376       2.949\n",
       "roof_matl_Membran        2.8777      0.196     14.718      0.000       2.494       3.261\n",
       "roof_matl_Tar&Grv        2.6624      0.155     17.186      0.000       2.359       2.966\n",
       "roof_matl_WdShake        2.6890      0.160     16.773      0.000       2.375       3.003\n",
       "roof_matl_WdShngl        2.7479      0.157     17.500      0.000       2.440       3.056\n",
       "roof_matl_Metal      -5.157e-16   1.42e-16     -3.619      0.000   -7.95e-16   -2.36e-16\n",
       "roof_matl_Roll       -9.153e-16   2.73e-16     -3.356      0.001   -1.45e-15    -3.8e-16\n",
       "exterior_1st_AsphShn    -0.1319      0.147     -0.895      0.371      -0.421       0.157\n",
       "exterior_1st_BrkComm    -0.1716      0.104     -1.650      0.099      -0.376       0.032\n",
       "exterior_1st_BrkFace     0.1548      0.043      3.635      0.000       0.071       0.238\n",
       "exterior_1st_CBlock      0.7952      0.122      6.507      0.000       0.556       1.035\n",
       "exterior_1st_CemntBd    -0.0924      0.085     -1.090      0.276      -0.259       0.074\n",
       "exterior_1st_HdBoard     0.0436      0.042      1.049      0.294      -0.038       0.125\n",
       "exterior_1st_ImStucc     0.0506      0.121      0.417      0.677      -0.187       0.289\n",
       "exterior_1st_MetalSd     0.0931      0.050      1.859      0.063      -0.005       0.191\n",
       "exterior_1st_Plywood     0.0420      0.041      1.029      0.304      -0.038       0.122\n",
       "exterior_1st_Stone      -0.0476      0.100     -0.474      0.636      -0.245       0.149\n",
       "exterior_1st_Stucco      0.0807      0.048      1.683      0.093      -0.013       0.175\n",
       "exterior_1st_VinylSd     0.0422      0.046      0.922      0.357      -0.048       0.132\n",
       "exterior_1st_Wd Sdng     0.0253      0.040      0.632      0.527      -0.053       0.104\n",
       "exterior_1st_WdShing     0.0809      0.044      1.843      0.066      -0.005       0.167\n",
       "exterior_1st_Other   -2.032e-16   1.41e-16     -1.440      0.150    -4.8e-16    7.35e-17\n",
       "exterior_1st_PreCast -3.796e-17    1.6e-16     -0.237      0.813   -3.52e-16    2.76e-16\n",
       "exterior_2nd_AsphShn     0.2111      0.094      2.239      0.025       0.026       0.396\n",
       "exterior_2nd_Brk Cmn     0.1234      0.083      1.494      0.135      -0.039       0.285\n",
       "exterior_2nd_BrkFace    -0.0178      0.048     -0.371      0.711      -0.112       0.076\n",
       "exterior_2nd_CBlock     -0.4908      0.113     -4.332      0.000      -0.713      -0.269\n",
       "exterior_2nd_CmentBd     0.1971      0.086      2.294      0.022       0.029       0.366\n",
       "exterior_2nd_HdBoard     0.0428      0.044      0.980      0.327      -0.043       0.129\n",
       "exterior_2nd_ImStucc     0.0376      0.054      0.694      0.488      -0.069       0.144\n",
       "exterior_2nd_MetalSd     0.0190      0.052      0.363      0.716      -0.083       0.121\n",
       "exterior_2nd_Plywood     0.0499      0.042      1.188      0.235      -0.032       0.132\n",
       "exterior_2nd_Stone       0.0272      0.068      0.401      0.688      -0.106       0.160\n",
       "exterior_2nd_Stucco      0.0432      0.049      0.881      0.378      -0.053       0.140\n",
       "exterior_2nd_VinylSd     0.0530      0.047      1.116      0.265      -0.040       0.146\n",
       "exterior_2nd_Wd Sdng     0.0630      0.042      1.483      0.138      -0.020       0.146\n",
       "exterior_2nd_Wd Shng     0.0319      0.045      0.718      0.473      -0.055       0.119\n",
       "exterior_2nd_BrkComm -1.045e-16   8.47e-17     -1.234      0.217   -2.71e-16    6.16e-17\n",
       "exterior_2nd_CemntBd -1.869e-17   9.65e-17     -0.194      0.846   -2.08e-16    1.71e-16\n",
       "exterior_2nd_Other   -5.814e-17   1.02e-16     -0.572      0.567   -2.57e-16    1.41e-16\n",
       "exterior_2nd_PreCast -4.647e-17   5.25e-17     -0.885      0.376   -1.49e-16    5.65e-17\n",
       "exterior_2nd_WdShing  9.838e-17   6.88e-17      1.431      0.153   -3.65e-17    2.33e-16\n",
       "street_Pave              0.0788      0.050      1.586      0.113      -0.019       0.176\n",
       "alley_No_Alley          -0.0082      0.015     -0.540      0.590      -0.038       0.021\n",
       "alley_Pave              -0.0214      0.023     -0.917      0.359      -0.067       0.024\n",
       "mas_vnr_type_BrkFace     0.0883      0.032      2.743      0.006       0.025       0.151\n",
       "mas_vnr_type_None        0.0901      0.032      2.796      0.005       0.027       0.153\n",
       "mas_vnr_type_Stone       0.1136      0.033      3.407      0.001       0.048       0.179\n",
       "mas_vnr_type_CBlock   1.394e-16   6.74e-17      2.068      0.039    7.21e-18    2.72e-16\n",
       "foundation_CBlock       -0.0066      0.012     -0.542      0.588      -0.031       0.017\n",
       "foundation_PConc         0.0179      0.013      1.351      0.177      -0.008       0.044\n",
       "foundation_Slab         -0.0064      0.033     -0.196      0.845      -0.071       0.058\n",
       "foundation_Stone         0.0711      0.053      1.351      0.177      -0.032       0.174\n",
       "foundation_Wood          0.0615      0.081      0.757      0.449      -0.098       0.221\n",
       "heating_GasW             0.0315      0.028      1.135      0.256      -0.023       0.086\n",
       "heating_Grav            -0.3053      0.052     -5.891      0.000      -0.407      -0.204\n",
       "heating_OthW            -0.0559      0.082     -0.681      0.496      -0.217       0.105\n",
       "heating_Wall            -0.0299      0.059     -0.510      0.610      -0.145       0.085\n",
       "heating_GasA         -4.033e-17   2.05e-17     -1.963      0.050   -8.06e-17   -4.61e-20\n",
       "central_air_Y            0.0321      0.013      2.395      0.017       0.006       0.058\n",
       "garage_type_Attchd       0.0477      0.028      1.680      0.093      -0.008       0.103\n",
       "garage_type_Basment      0.0523      0.037      1.399      0.162      -0.021       0.126\n",
       "garage_type_BuiltIn      0.0442      0.031      1.427      0.154      -0.017       0.105\n",
       "garage_type_CarPort     -0.0024      0.045     -0.055      0.956      -0.090       0.085\n",
       "garage_type_Detchd       0.0426      0.028      1.511      0.131      -0.013       0.098\n",
       "garage_type_NA           0.2339      0.051      4.594      0.000       0.134       0.334\n",
       "misc_feature_Elev       -2.3503      0.233    -10.099      0.000      -2.807      -1.894\n",
       "misc_feature_Gar2       -0.0090      0.100     -0.090      0.929      -0.206       0.188\n",
       "misc_feature_Othr       -0.0127      0.083     -0.153      0.879      -0.176       0.150\n",
       "misc_feature_Shed       -0.0180      0.018     -0.993      0.321      -0.054       0.018\n",
       "misc_feature_TenC       -0.2501      0.124     -2.022      0.043      -0.493      -0.008\n",
       "sale_type_CWD            0.0570      0.038      1.492      0.136      -0.018       0.132\n",
       "sale_type_Con            0.1568      0.057      2.751      0.006       0.045       0.269\n",
       "sale_type_ConLD          0.0878      0.033      2.649      0.008       0.023       0.153\n",
       "sale_type_ConLI          0.0019      0.044      0.043      0.965      -0.085       0.089\n",
       "sale_type_ConLw          0.0081      0.052      0.155      0.877      -0.094       0.110\n",
       "sale_type_New            0.0721      0.018      3.932      0.000       0.036       0.108\n",
       "sale_type_Oth            0.1501      0.057      2.640      0.008       0.039       0.262\n",
       "sale_type_WD             0.0369      0.015      2.473      0.013       0.008       0.066\n",
       "sale_type_VWD                 0          0        nan        nan           0           0\n",
       "==============================================================================\n",
       "Omnibus:                     1171.223   Durbin-Watson:                   1.992\n",
       "Prob(Omnibus):                  0.000   Jarque-Bera (JB):            49759.042\n",
       "Skew:                          -2.021   Prob(JB):                         0.00\n",
       "Kurtosis:                      26.789   Cond. No.                     1.04e+19\n",
       "==============================================================================\n",
       "\n",
       "Warnings:\n",
       "[1] Standard Errors assume that the covariance matrix of the errors is correctly specified.\n",
       "[2] The smallest eigenvalue is 2.94e-27. This might indicate that there are\n",
       "strong multicollinearity problems or that the design matrix is singular.\n",
       "\"\"\""
      ]
     },
     "execution_count": 270,
     "metadata": {},
     "output_type": "execute_result"
    }
   ],
   "source": [
    "model.summary()"
   ]
  },
  {
   "cell_type": "markdown",
   "metadata": {},
   "source": [
    "**Key findings from our StatsModel:**\n",
    "\n",
    "1. The model has a strong R-Squared value of .939\n",
    "1. The p-values from this model enable us to use hypothesis testing to gauge significance our variables\n",
    "    - The highest p-values we see (above 0.3) are as follows - when we model our regressions, I will test removing these to gauge the effect.\n",
    "        * low_qual_fin_sf (0.996)\n",
    "        * land_slope (0.949)\n",
    "        * garage_finish (0.93)\n",
    "        * lot_shape (0.918)\n",
    "        * lot_frontage (0.852)\n",
    "        * bsmt_cond (0.799)\n",
    "        * garage_area (0.8)\n",
    "        * mo_sold (0.793)\n",
    "        * bsmt_half_bath (0.661)\n",
    "        * pool_qc (0.602)\n",
    "        * bsmtfin_type_1 (0.573)\n",
    "        * exter_condition (0.52)\n",
    "        * misc_value (0.509)\n",
    "        * fence (0.457)\n",
    "        * bsmtfin_type_2 (0.414)\n",
    "        * electrical (0.355)\n",
    "        * pool_area (0.313) \n",
    "        * bsmt_qual (0.314)\n",
    "    - Low p-values only indicate significance in hypothesis testing but the coef numbers for some of these are very small so takes large change to greatly affect price.\n",
    "    - Finally, it is important to note that I have not taken out any of the columns created by the get_dummies method at this point. They would have to be removed in groups as they are dependent on the rest of the group.\n"
   ]
  },
  {
   "cell_type": "code",
   "execution_count": 271,
   "metadata": {},
   "outputs": [],
   "source": [
    "# Creating a variable equal to the index of columns\n",
    "column_names = df.columns"
   ]
  },
  {
   "cell_type": "code",
   "execution_count": 272,
   "metadata": {},
   "outputs": [],
   "source": [
    "# resaving that index as a list\n",
    "column_names = column_names.tolist()"
   ]
  },
  {
   "cell_type": "code",
   "execution_count": 273,
   "metadata": {},
   "outputs": [],
   "source": [
    "# moving sale price column to the end of the list\n",
    "column_names.pop(52)\n",
    "column_names.append('saleprice')"
   ]
  },
  {
   "cell_type": "code",
   "execution_count": 274,
   "metadata": {},
   "outputs": [],
   "source": [
    "# reindexing columns based on this list\n",
    "df = df.reindex(columns=column_names)"
   ]
  },
  {
   "cell_type": "code",
   "execution_count": 275,
   "metadata": {},
   "outputs": [],
   "source": [
    "# setting X and y, removing 'saleprice','saleprice_lg' and 'Id' X and setting y = to sales price\n",
    "X = df._get_numeric_data().drop(columns=['saleprice','saleprice_lg','Id'])\n",
    "y = df['saleprice']\n"
   ]
  },
  {
   "cell_type": "markdown",
   "metadata": {},
   "source": [
    "## Modeling\n",
    "\n",
    "### Baseline Modeling\n",
    "\n",
    "#### - Linear Regression"
   ]
  },
  {
   "cell_type": "markdown",
   "metadata": {},
   "source": [
    "We started by setting a baseline model where we predicted the mean sales price for every prediction."
   ]
  },
  {
   "cell_type": "code",
   "execution_count": 276,
   "metadata": {},
   "outputs": [],
   "source": [
    "from sklearn.metrics import r2_score"
   ]
  },
  {
   "cell_type": "code",
   "execution_count": 277,
   "metadata": {},
   "outputs": [],
   "source": [
    "X_train, X_test, y_train, y_test = train_test_split(X, y, random_state=56)"
   ]
  },
  {
   "cell_type": "code",
   "execution_count": 278,
   "metadata": {},
   "outputs": [
    {
     "data": {
      "text/plain": [
       "181343.69700910273"
      ]
     },
     "execution_count": 278,
     "metadata": {},
     "output_type": "execute_result"
    }
   ],
   "source": [
    "y_train.mean()"
   ]
  },
  {
   "cell_type": "code",
   "execution_count": 279,
   "metadata": {},
   "outputs": [
    {
     "data": {
      "text/plain": [
       "(513,)"
      ]
     },
     "execution_count": 279,
     "metadata": {},
     "output_type": "execute_result"
    }
   ],
   "source": [
    "y_test.shape"
   ]
  },
  {
   "cell_type": "code",
   "execution_count": 280,
   "metadata": {},
   "outputs": [],
   "source": [
    "y_hat = [y_train.mean() for n in range(0,len(y_test))]"
   ]
  },
  {
   "cell_type": "code",
   "execution_count": 281,
   "metadata": {},
   "outputs": [
    {
     "data": {
      "text/plain": [
       "-4.6247291015433234e-05"
      ]
     },
     "execution_count": 281,
     "metadata": {},
     "output_type": "execute_result"
    }
   ],
   "source": [
    "r2_score(y_test,y_hat)"
   ]
  },
  {
   "cell_type": "markdown",
   "metadata": {},
   "source": [
    "The R-squared score for our baseline model is actually slightly negative so it is probable, given what we saw in the StatsModel above, that we will far exceed the baseline."
   ]
  },
  {
   "cell_type": "markdown",
   "metadata": {},
   "source": [
    "\n",
    "#### - Linear Regression"
   ]
  },
  {
   "cell_type": "code",
   "execution_count": 282,
   "metadata": {},
   "outputs": [],
   "source": [
    "# Building function to do linear regression and return Train Score, Test Score and Cross-Value Score\n",
    "def df_regress_lr(df,X,y,r_state):\n",
    "    X_train, X_test, y_train, y_test = train_test_split(X, y, random_state=r_state)\n",
    "\n",
    "# instantiate\n",
    "    lr = LinearRegression()\n",
    "# fit\n",
    "    lr.fit(X_train, y_train)\n",
    "    \n",
    "    print('train: ' + str(lr.score(X_train,y_train))) #training score)}\n",
    "    print('test: ' + str(lr.score(X_test,y_test))) #testing score)}\n",
    "    print('cross_val: ' + str(cross_val_score(lr, X, y, cv=5).mean())) #cv score)}\n",
    "    "
   ]
  },
  {
   "cell_type": "markdown",
   "metadata": {},
   "source": [
    "Original scores from the linear regression (using a random state of 42) showed a wide difference between Test Score and Cross-Val Score. We used the cell below to find one that produced a Test Score that was close to the Cross-Val Score. We will be using 56 as our random number for all future tests so that we can test apples to apples."
   ]
  },
  {
   "cell_type": "code",
   "execution_count": 283,
   "metadata": {},
   "outputs": [],
   "source": [
    "# cv_list = []\n",
    "# for i in range(1,150):\n",
    "#     cv_list.append(df_regress_lr(df,X,y,i))\n",
    "# list2 = []\n",
    "# for item in cv_list:\n",
    "#     list2.append(np.abs(.852 - item[1]))\n",
    "\n",
    "# rand_num = 10\n",
    "# random_list = []\n",
    "# for n, num in enumerate(list2):\n",
    "#     if num < rand_num:\n",
    "#         rand_num = num\n",
    "#         random_list.append((num, n))\n",
    "      \n",
    "# random_list"
   ]
  },
  {
   "cell_type": "code",
   "execution_count": 284,
   "metadata": {
    "scrolled": true
   },
   "outputs": [
    {
     "name": "stdout",
     "output_type": "stream",
     "text": [
      "train: 0.9407637024775093\n",
      "test: 0.8678380378228598\n",
      "cross_val: 0.8524060240333974\n"
     ]
    }
   ],
   "source": [
    "# Our R2 scores for our first X/y data model with the random number set to 56. \n",
    "df_regress_lr(df,X,y,56)"
   ]
  },
  {
   "cell_type": "code",
   "execution_count": 285,
   "metadata": {},
   "outputs": [],
   "source": [
    "# We will now use this version of the linear regression model as we only need to look at Train Scores and\n",
    "# Test scores moving forward.\n",
    "def df_regress(df,X,y,r_state):\n",
    "    X_train, X_test, y_train, y_test = train_test_split(X, y, random_state=r_state)\n",
    "\n",
    "# instantiate\n",
    "    lr = LinearRegression()\n",
    "# fit\n",
    "    lr.fit(X_train, y_train)\n",
    "    \n",
    "    return [lr.score(X_train,y_train),lr.score(X_test,y_test)]\n",
    "    "
   ]
  },
  {
   "cell_type": "markdown",
   "metadata": {},
   "source": [
    "#### - Ridge Regression"
   ]
  },
  {
   "cell_type": "code",
   "execution_count": 286,
   "metadata": {},
   "outputs": [],
   "source": [
    "# importing items needed for the Ridge Model\n",
    "from sklearn.preprocessing import StandardScaler\n",
    "from sklearn.linear_model import Ridge\n",
    "from sklearn.linear_model import RidgeCV"
   ]
  },
  {
   "cell_type": "code",
   "execution_count": 287,
   "metadata": {},
   "outputs": [],
   "source": [
    "# Creating a function to run the Ridge model (based on the one seen in GA class)\n",
    "def df_ridge(df,X,y,r_state):\n",
    "    X_train, X_test, y_train, y_test = train_test_split(\n",
    "    X,\n",
    "    y,\n",
    "    test_size=0.7,\n",
    "    random_state=r_state\n",
    "    )\n",
    "    # Scale our data.\n",
    "# Relabeling scaled data as \"Z\" is common.\n",
    "    sc = StandardScaler()\n",
    "    Z_train = sc.fit_transform(X_train)\n",
    "    Z_test = sc.transform(X_test)\n",
    "# instantiate\n",
    "    r_alphas = np.logspace(0, 3, 100)\n",
    "\n",
    "# Cross-validate over our list of ridge alphas to find the best alpha\n",
    "    ridge_cv = RidgeCV(\n",
    "        alphas = r_alphas,\n",
    "        scoring='r2',\n",
    "        cv=5)\n",
    "    ridge_cv.fit(Z_train, y_train)\n",
    "# Use that alpha to set up the model\n",
    "    ridge = Ridge(ridge_cv.alpha_)\n",
    "# Fit.\n",
    "    ridge.fit(Z_train, y_train)\n",
    "    # Evaluate model using R2.\n",
    "    return [ridge.score(Z_train, y_train), ridge.score(Z_test, y_test)]\n"
   ]
  },
  {
   "cell_type": "code",
   "execution_count": 288,
   "metadata": {},
   "outputs": [
    {
     "data": {
      "text/plain": [
       "[0.94799872228123, 0.8220970337020483]"
      ]
     },
     "execution_count": 288,
     "metadata": {},
     "output_type": "execute_result"
    }
   ],
   "source": [
    "# testing function\n",
    "df_ridge(df,X,y,56)"
   ]
  },
  {
   "cell_type": "markdown",
   "metadata": {},
   "source": [
    "#### - LASSO Regression"
   ]
  },
  {
   "cell_type": "code",
   "execution_count": 289,
   "metadata": {},
   "outputs": [],
   "source": [
    "# importing items needed for the LASSO Model\n",
    "from sklearn.linear_model import Lasso, LassoCV"
   ]
  },
  {
   "cell_type": "code",
   "execution_count": 290,
   "metadata": {},
   "outputs": [],
   "source": [
    "# Creating a function to run the Ridge model (based on the one seen in GA class)\n",
    "def df_lasso(df,X,y,r_state):\n",
    "    X_train, X_test, y_train, y_test = train_test_split(\n",
    "    X,\n",
    "    y,\n",
    "    test_size=0.7,\n",
    "    random_state=r_state\n",
    "    )\n",
    "    # Scale our data.\n",
    "# Relabeling scaled data as \"Z\" is common.\n",
    "    sc = StandardScaler()\n",
    "    Z_train = sc.fit_transform(X_train)\n",
    "    Z_test = sc.transform(X_test)\n",
    "# instantiate\n",
    "# Set up a list of Lasso alphas to check.\n",
    "    l_alphas = np.logspace(1, 4, 100)\n",
    "# Cross-validate over our list of Lasso alphas.\n",
    "    lasso_cv = LassoCV(\n",
    "        alphas=l_alphas,\n",
    "        cv=5\n",
    "    )\n",
    "# Fit model using best lasso alpha!\n",
    "    lasso_cv.fit(Z_train, y_train)\n",
    "\n",
    "# Use that alpha to set up the model\n",
    "    lasso = Lasso(lasso_cv.alpha_)\n",
    "# Fit.\n",
    "    lasso.fit(Z_train, y_train)\n",
    "    # Evaluate model using R2.\n",
    "    return [lasso.score(Z_train, y_train), lasso.score(Z_test, y_test)]\n",
    "    print(lasso.score(Z_train, y_train))\n",
    "    print(lasso.score(Z_test, y_test))\n",
    "\n"
   ]
  },
  {
   "cell_type": "code",
   "execution_count": 291,
   "metadata": {},
   "outputs": [
    {
     "data": {
      "text/plain": [
       "[0.9421100869058776, 0.8189484966718619]"
      ]
     },
     "execution_count": 291,
     "metadata": {},
     "output_type": "execute_result"
    }
   ],
   "source": [
    "# testing function\n",
    "df_lasso(df,X,y,56)"
   ]
  },
  {
   "cell_type": "markdown",
   "metadata": {},
   "source": [
    "## Model Selection"
   ]
  },
  {
   "cell_type": "code",
   "execution_count": 292,
   "metadata": {},
   "outputs": [],
   "source": [
    "# Creating a function to return train and test scores for all three models in one spot\n",
    "def all_scores(df,X,y,r_state):\n",
    "    print('Linear Regression train score: ' + str(df_regress(df,X,y,r_state)[0]))\n",
    "    print('Linear Regression test score: ' + str(df_regress(df,X,y,r_state)[1]))\n",
    "    print('Ridge Regression train score: ' + str(df_ridge(df,X,y,r_state)[0]))\n",
    "    print('Ridge Regression test score: ' + str(df_ridge(df,X,y,r_state)[1]))\n",
    "    print('LASSO Regression train score: ' + str(df_lasso(df,X,y,r_state)[0]))\n",
    "    print('LASSO Regression test score: ' + str(df_lasso(df,X,y,r_state)[1]))"
   ]
  },
  {
   "cell_type": "code",
   "execution_count": 293,
   "metadata": {},
   "outputs": [
    {
     "name": "stdout",
     "output_type": "stream",
     "text": [
      "Linear Regression train score: 0.9407637024775093\n",
      "Linear Regression test score: 0.8678380378228598\n",
      "Ridge Regression train score: 0.94799872228123\n",
      "Ridge Regression test score: 0.8220970337020483\n",
      "LASSO Regression train score: 0.9421100869058776\n",
      "LASSO Regression test score: 0.8189484966718619\n"
     ]
    }
   ],
   "source": [
    "# Calling function above\n",
    "all_scores(df,X,y,56)"
   ]
  },
  {
   "cell_type": "markdown",
   "metadata": {},
   "source": [
    "The key observations on the numbers above: \n",
    "1. The Linear Regression model has the worst train score of the three models but it is only .7% lower than the highest score (from the Ridge model)\n",
    "1. The Linear Regression model has the lowest variance of the three models\n",
    "    - This model's Train Score is 8.4% greater than it's Test Score\n",
    "    - The Ridge model's Train Score is 15.3% greater than it's Test Score\n",
    "    - The LASSO model's Train Score is 15.0% greater than it's Test Score\n",
    "    \n",
    "We will use Linear Regression moving forward"
   ]
  },
  {
   "cell_type": "markdown",
   "metadata": {},
   "source": [
    "## Model Tuning"
   ]
  },
  {
   "cell_type": "code",
   "execution_count": 294,
   "metadata": {},
   "outputs": [],
   "source": [
    "# Changing y to log of saleprice instead of saleprice\n",
    "X2 = df._get_numeric_data().drop(columns=['saleprice','saleprice_lg','Id'])\n",
    "y2 = df['saleprice_lg']"
   ]
  },
  {
   "cell_type": "code",
   "execution_count": 295,
   "metadata": {},
   "outputs": [
    {
     "name": "stdout",
     "output_type": "stream",
     "text": [
      "Linear Regression train score: 0.9450549145691044\n",
      "Linear Regression test score: 0.8296050261592827\n",
      "Ridge Regression train score: 0.9440962108283996\n",
      "Ridge Regression test score: 0.8529259756206604\n",
      "LASSO Regression train score: 0.0\n",
      "LASSO Regression test score: -0.0013386063975346918\n"
     ]
    }
   ],
   "source": [
    "all_scores(df,X2,y2,56)"
   ]
  },
  {
   "cell_type": "markdown",
   "metadata": {},
   "source": [
    "First we tried replacing the our y variable with the log of y. While our train score went up by 0.5%, our test score went down by 4.4%. "
   ]
  },
  {
   "cell_type": "code",
   "execution_count": 296,
   "metadata": {},
   "outputs": [],
   "source": [
    "# Removing all columns discussed in StatsModel discussion\n",
    "X3 = df._get_numeric_data().drop(columns=['saleprice',\n",
    "                                          'saleprice_lg',\n",
    "                                          'Id',\n",
    "                                          'low_qual_fin_sf',\n",
    "                                          'land_slope',\n",
    "                                          'garage_finish',\n",
    "                                          'lot_shape',\n",
    "                                          'lot_frontage',\n",
    "                                          'bsmt_cond',\n",
    "                                          'garage_area',\n",
    "                                          'mo_sold',\n",
    "                                          'bsmt_half_bath',\n",
    "                                          'pool_qc',\n",
    "                                          'bsmtfin_type_1',\n",
    "                                          'exter_cond',\n",
    "                                          'misc_val',\n",
    "                                          'fence',\n",
    "                                          'bsmtfin_type_2',\n",
    "                                          'electrical',\n",
    "                                          'pool_area',\n",
    "                                          'bsmt_qual'])\n"
   ]
  },
  {
   "cell_type": "code",
   "execution_count": 297,
   "metadata": {},
   "outputs": [
    {
     "name": "stdout",
     "output_type": "stream",
     "text": [
      "Linear Regression train score: 0.9393565360748813\n",
      "Linear Regression test score: 0.872820048582065\n",
      "Ridge Regression train score: 0.9455019279943976\n",
      "Ridge Regression test score: 0.8244963728517143\n",
      "LASSO Regression train score: 0.9380377836370162\n",
      "LASSO Regression test score: 0.8181409061495117\n"
     ]
    }
   ],
   "source": [
    "all_scores(df,X3,y,56)"
   ]
  },
  {
   "cell_type": "markdown",
   "metadata": {},
   "source": [
    "Returning to our original y variable, we now tried dropping all of the columns which had high p-values in the StatsModel exercise above. While our train score went down by 0.15%, our test score went up by 0.57%. "
   ]
  },
  {
   "cell_type": "code",
   "execution_count": 298,
   "metadata": {},
   "outputs": [],
   "source": [
    "# Removing all dummy columns created from the MS Zoning data\n",
    "X4 = df._get_numeric_data().drop(columns=['saleprice',\n",
    "                                          'saleprice_lg',\n",
    "                                          'Id',\n",
    "                                          'low_qual_fin_sf',\n",
    "                                          'land_slope',\n",
    "                                          'garage_finish',\n",
    "                                          'lot_shape',\n",
    "                                          'lot_frontage',\n",
    "                                          'bsmt_cond',\n",
    "                                          'garage_area',\n",
    "                                          'mo_sold',\n",
    "                                          'bsmt_half_bath',\n",
    "                                          'pool_qc',\n",
    "                                          'bsmtfin_type_1',\n",
    "                                          'exter_cond',\n",
    "                                          'misc_val',\n",
    "                                          'fence',\n",
    "                                          'bsmtfin_type_2',\n",
    "                                          'electrical',\n",
    "                                          'pool_area',\n",
    "                                          'bsmt_qual',\n",
    "                                             'ms_zoning_C', \n",
    "    'ms_zoning_FV', \n",
    "    'ms_zoning_I', \n",
    "    'ms_zoning_RH', \n",
    "    'ms_zoning_RL',\n",
    "    'ms_zoning_RM', \n",
    "    'ms_zoning_RP',])\n"
   ]
  },
  {
   "cell_type": "code",
   "execution_count": 299,
   "metadata": {},
   "outputs": [
    {
     "name": "stdout",
     "output_type": "stream",
     "text": [
      "Linear Regression train score: 0.9389471377733143\n",
      "Linear Regression test score: 0.8729270750211364\n",
      "Ridge Regression train score: 0.9457942174538311\n",
      "Ridge Regression test score: 0.8236069799838495\n",
      "LASSO Regression train score: 0.9389947260692579\n",
      "LASSO Regression test score: 0.8186167585339217\n"
     ]
    }
   ],
   "source": [
    "all_scores(df,X4,y,56)"
   ]
  },
  {
   "cell_type": "markdown",
   "metadata": {},
   "source": [
    "This test was unsuccessful as our train score loss exceded our test score gain"
   ]
  },
  {
   "cell_type": "code",
   "execution_count": 300,
   "metadata": {},
   "outputs": [],
   "source": [
    "# Removing all columns that scored between 0.1 and 0.3 in StatsModel above\n",
    "X5 = df._get_numeric_data().drop(columns=['saleprice',\n",
    "                                          'saleprice_lg',\n",
    "                                          'Id',\n",
    "                                          'low_qual_fin_sf',\n",
    "                                          'land_slope',\n",
    "                                          'garage_finish',\n",
    "                                          'lot_shape',\n",
    "                                          'lot_frontage',\n",
    "                                          'bsmt_cond',\n",
    "                                          'garage_area',\n",
    "                                          'mo_sold',\n",
    "                                          'bsmt_half_bath',\n",
    "                                          'pool_qc',\n",
    "                                          'bsmtfin_type_1',\n",
    "                                          'exter_cond',\n",
    "                                          'misc_val',\n",
    "                                          'fence',\n",
    "                                          'bsmtfin_type_2',\n",
    "                                          'electrical',\n",
    "                                          'pool_area',\n",
    "                                          'bsmt_qual',\n",
    "                                          'bsmtfin_type_1',\n",
    "                                          'half_bath',\n",
    "                                          'bedroom_abvgr',\n",
    "                                          'fireplaces',\n",
    "                                          'fireplace_qu',\n",
    "                                          'open_porch_sf',\n",
    "                                          'age_of_garage'])\n"
   ]
  },
  {
   "cell_type": "code",
   "execution_count": 301,
   "metadata": {},
   "outputs": [
    {
     "name": "stdout",
     "output_type": "stream",
     "text": [
      "Linear Regression train score: 0.9384354618628068\n",
      "Linear Regression test score: 0.8700782226741511\n",
      "Ridge Regression train score: 0.9461095291655968\n",
      "Ridge Regression test score: 0.8204567657272739\n",
      "LASSO Regression train score: 0.9387334247761959\n",
      "LASSO Regression test score: 0.8159636268868765\n"
     ]
    }
   ],
   "source": [
    "all_scores(df,X5,y,56)"
   ]
  },
  {
   "cell_type": "markdown",
   "metadata": {},
   "source": [
    "This test was also unsuccessful as both of our scores went down. We will use X3 as our final model."
   ]
  },
  {
   "cell_type": "markdown",
   "metadata": {},
   "source": [
    "## Model Evaluation"
   ]
  },
  {
   "cell_type": "markdown",
   "metadata": {},
   "source": [
    "Our modeling above has delivered excellent R2 scores for both trial and test data but we still want to examine our residuals and see that they have a more or less consistent variance."
   ]
  },
  {
   "cell_type": "code",
   "execution_count": 302,
   "metadata": {},
   "outputs": [
    {
     "data": {
      "text/plain": [
       "LinearRegression(copy_X=True, fit_intercept=True, n_jobs=None, normalize=False)"
      ]
     },
     "execution_count": 302,
     "metadata": {},
     "output_type": "execute_result"
    }
   ],
   "source": [
    "X_train, X_test, y_train, y_test = train_test_split(X3, y, random_state=56)\n",
    "df2 = LinearRegression()\n",
    "df2.fit(X_train,y_train)"
   ]
  },
  {
   "cell_type": "code",
   "execution_count": 303,
   "metadata": {},
   "outputs": [],
   "source": [
    "y_preds = df2.predict(X_train)"
   ]
  },
  {
   "cell_type": "code",
   "execution_count": 304,
   "metadata": {},
   "outputs": [
    {
     "data": {
      "image/png": "[encoded data removed]",
      "text/plain": [
       "<Figure size 864x648 with 1 Axes>"
      ]
     },
     "metadata": {
      "needs_background": "light"
     },
     "output_type": "display_data"
    }
   ],
   "source": [
    "# And then we can use the y_preds output to plot residuals vs y\n",
    "# taken from GA Linear Regression session\n",
    "plt.figure(figsize=(12,9))\n",
    "\n",
    "# Generate a scatterplot of predicted values versus actual values.\n",
    "plt.scatter(y_preds, y_train, s=5, color='skyblue', alpha = 0.5)\n",
    "\n",
    "# Plot a line.\n",
    "plt.plot([0, np.max(y)],\n",
    "         [0, np.max(y)],\n",
    "         color = 'black')\n",
    "\n",
    "# Tweak title and axis labels.\n",
    "plt.xlabel(\"Predicted Values: $\\hat{y}$\", fontsize = 20)\n",
    "plt.ylabel(\"Actual Values: $y$\", fontsize = 20)\n",
    "plt.title('Predicted Values vs. Actual Values', fontsize = 24);"
   ]
  },
  {
   "cell_type": "code",
   "execution_count": 305,
   "metadata": {},
   "outputs": [],
   "source": [
    "y_preds = df2.predict(X_test)\n",
    "    "
   ]
  },
  {
   "cell_type": "code",
   "execution_count": 306,
   "metadata": {},
   "outputs": [
    {
     "data": {
      "image/png": "[encoded data removed]",
      "text/plain": [
       "<Figure size 864x648 with 1 Axes>"
      ]
     },
     "metadata": {
      "needs_background": "light"
     },
     "output_type": "display_data"
    }
   ],
   "source": [
    "# And then we can use the y_preds output to plot residuals vs y\n",
    "# taken from GA Linear Regression session\n",
    "plt.figure(figsize=(12,9))\n",
    "\n",
    "# Generate a scatterplot of predicted values versus actual values.\n",
    "plt.scatter(y_preds, y_test, s=5, color='skyblue', alpha = 0.5)\n",
    "\n",
    "# Plot a line.\n",
    "plt.plot([0, np.max(y)],\n",
    "         [0, np.max(y)],\n",
    "         color = 'black')\n",
    "\n",
    "# Tweak title and axis labels.\n",
    "plt.xlabel(\"Predicted Values: $\\hat{y}$\", fontsize = 20)\n",
    "plt.ylabel(\"Actual Values: $y$\", fontsize = 20)\n",
    "plt.title('Predicted Values vs. Actual Values', fontsize = 24);"
   ]
  },
  {
   "cell_type": "markdown",
   "metadata": {},
   "source": [
    "## Conclusion"
   ]
  },
  {
   "cell_type": "markdown",
   "metadata": {},
   "source": [
    "Regression helps us to see if our data can accurately predict outcomes and, in this case, we can say that our data explains nearly 95% of the variation in home prices in the Ames area. Now that we know that we have a solid model, there is much here to be mined for our members. A few sample learnings include:\n",
    "\n",
    "- Lot area is a significant variable but not it’s shape or slope or street frontage\n",
    "- Wood decks and screened porches are significant factors\n",
    "- Most miscellaneous features are not statistically significant, but elevators and tennis courts, while very rare in Ames, are significant to the model\n",
    "- Overall condition, which had a very small negative correlation, is a significant variable\n"
   ]
  },
  {
   "cell_type": "markdown",
   "metadata": {},
   "source": [
    "## Recommendations"
   ]
  },
  {
   "cell_type": "markdown",
   "metadata": {},
   "source": [
    "The Ames Chamber of Commerce is made up of small and medium sized business owners who look to us for advice on their businesses and their personal/financial well-being.\n",
    "\n",
    "Nearly 800 homes are sold in Ames each year and our members (and their employees) are:\n",
    "- Buyers\n",
    "- Sellers\n",
    "\n",
    "We recommended the following tactics:\n",
    "- We would like to use this data to create a member-exclusive online resource which can be accessed for smart buying and selling\n",
    "- Sample data can be used to create posts, blogs and emails to drive member awareness of this resource and drive additional membership as well\n",
    "\n"
   ]
  },
  {
   "cell_type": "markdown",
   "metadata": {},
   "source": [
    "## References"
   ]
  },
  {
   "cell_type": "code",
   "execution_count": null,
   "metadata": {},
   "outputs": [],
   "source": []
  },
  {
   "cell_type": "markdown",
   "metadata": {},
   "source": [
    "# Kaggle Submission\n",
    "\n",
    "WHATEVER you did to the first dataset, you must do to the validation/hold-out set"
   ]
  },
  {
   "cell_type": "code",
   "execution_count": 307,
   "metadata": {},
   "outputs": [],
   "source": [
    "#Lode validation set\n",
    "val = pd.read_csv('../datasets/test.csv')"
   ]
  },
  {
   "cell_type": "code",
   "execution_count": 308,
   "metadata": {},
   "outputs": [],
   "source": [
    "# Convert all columns to lowercase and replace spaces in column names.\n",
    "val.columns = val.columns.str.lower().str.replace(' ', '_')"
   ]
  },
  {
   "cell_type": "code",
   "execution_count": 309,
   "metadata": {},
   "outputs": [],
   "source": [
    "# changing name of column back to Id because that is what Kaggle requires\n",
    "val['Id'] = val['id']"
   ]
  },
  {
   "cell_type": "code",
   "execution_count": 310,
   "metadata": {},
   "outputs": [],
   "source": [
    "# dropping 'id' column that I no longer need\n",
    "val.drop(columns='id', inplace=True)"
   ]
  },
  {
   "cell_type": "code",
   "execution_count": 311,
   "metadata": {},
   "outputs": [
    {
     "ename": "KeyError",
     "evalue": "\"['neighborhood_CollgCr', 'sale_type_VWD', 'roof_style_Hip', 'exterior_2nd_ImStucc', 'sale_type_ConLD', 'exterior_1st_WdShing', 'alley_Pave', 'sale_type_New', 'misc_feature_Elev', 'foundation_Wood', 'foundation_Stone', 'condition_1_PosN', 'exterior_1st_CemntBd', 'exterior_2nd_CmentBd', 'ms_subclass_60', 'roof_style_Gambrel', 'exterior_2nd_MetalSd', 'house_style_SLvl', 'exterior_2nd_WdShing', 'neighborhood_BrkSide', 'garage_type_Attchd', 'exterior_2nd_Brk Cmn', 'heating_GasW', 'exterior_1st_Wd Sdng', 'bldg_type_2fmCon', 'ms_subclass_85', 'ms_zoning_RP', 'roof_style_Gable', 'foundation_Slab', 'neighborhood_Greens', 'ms_subclass_30', 'neighborhood_Blueste', 'exterior_1st_Stucco', 'exterior_2nd_Wd Sdng', 'age_of_garage', 'condition_2_RRNn', 'neighborhood_Somerst', 'neighborhood_Sawyer', 'exterior_1st_BrkFace', 'condition_2_Feedr', 'exterior_2nd_Stone', 'sale_type_Con', 'neighborhood_Gilbert', 'condition_2_PosN', 'house_style_1.5Unf', 'ms_subclass_40', 'ms_subclass_150', 'neighborhood_NAmes', 'ms_subclass_45', 'sale_type_WD', 'house_style_2.5Fin', 'neighborhood_NridgHt', 'exterior_1st_Other', 'exterior_2nd_VinylSd', 'sale_type_Oth', 'exterior_1st_Plywood', 'exterior_2nd_CBlock', 'mas_vnr_type_CBlock', 'bldg_type_Twnhs', 'lot_config_FR2', 'heating_GasA', 'bldg_type_Duplex', 'foundation_CBlock', 'neighborhood_MeadowV', 'condition_1_RRNe', 'garage_type_BuiltIn', 'house_style_SFoyer', 'exterior_2nd_Wd Shng', 'ms_zoning_FV', 'garage_type_Detchd', 'condition_1_Norm', 'exterior_2nd_PreCast', 'mas_vnr_type_BrkFace', 'garage_type_NA', 'neighborhood_Crawfor', 'garage_type_Basment', 'neighborhood_SWISU', 'misc_feature_TenC', 'neighborhood_IDOTRR', 'mas_vnr_type_None', 'age_of_home', 'condition_2_PosA', 'condition_2_RRAn', 'roof_matl_Roll', 'condition_1_PosA', 'exterior_2nd_Plywood', 'ms_zoning_C', 'condition_1_Feedr', 'ms_zoning_RM', 'ms_zoning_RL', 'land_contour_HLS', 'condition_2_Norm', 'neighborhood_Landmrk', 'roof_matl_Tar&Grv', 'exterior_2nd_BrkComm', 'condition_1_RRNn', 'exterior_2nd_BrkFace', 'ms_zoning_I', 'heating_Wall', 'sale_type_CWD', 'neighborhood_OldTown', 'exterior_2nd_HdBoard', 'land_contour_Low', 'roof_matl_CompShg', 'neighborhood_Edwards', 'neighborhood_BrDale', 'exterior_1st_BrkComm', 'total_fin_sf', 'roof_matl_WdShake', 'neighborhood_ClearCr', 'ms_subclass_75', 'bldg_type_TwnhsE', 'lot_config_FR3', 'ms_subclass_70', 'condition_1_RRAn', 'exterior_1st_Stone', 'ms_subclass_120', 'exterior_1st_HdBoard', 'central_air_Y', 'house_style_2Story', 'land_contour_Lvl', 'roof_style_Shed', 'misc_feature_Gar2', 'roof_matl_WdShngl', 'age_remod/add', 'lot_config_Inside', 'exterior_1st_PreCast', 'misc_feature_Shed', 'condition_1_RRAe', 'ms_subclass_50', 'condition_2_RRAe', 'house_style_1Story', 'condition_2_RRNe', 'sale_type_ConLI', 'heating_Grav', 'alley_No_Alley', 'roof_matl_Membran', 'heating_OthW', 'mas_vnr_type_Stone', 'neighborhood_Mitchel', 'neighborhood_GrnHill', 'ms_subclass_160', 'exterior_1st_MetalSd', 'sale_type_ConLw', 'neighborhood_Timber', 'neighborhood_SawyerW', 'exterior_2nd_CemntBd', 'exterior_2nd_AsphShn', 'ms_subclass_80', 'ms_subclass_90', 'street_Pave', 'neighborhood_NPkVill', 'garage_type_CarPort', 'lot_config_CulDSac', 'house_style_2.5Unf', 'neighborhood_NoRidge', 'ms_zoning_RH', 'roof_style_Mansard', 'roof_matl_Metal', 'misc_feature_Othr', 'neighborhood_Veenker', 'ms_subclass_190', 'ms_subclass_180', 'foundation_PConc', 'exterior_2nd_Other', 'exterior_1st_AsphShn', 'exterior_2nd_Stucco', 'neighborhood_StoneBr', 'neighborhood_NWAmes', 'exterior_1st_CBlock', 'exterior_1st_VinylSd', 'exterior_1st_ImStucc'] not in index\"",
     "output_type": "error",
     "traceback": [
      "\u001b[0;31m---------------------------------------------------------------------------\u001b[0m",
      "\u001b[0;31mKeyError\u001b[0m                                  Traceback (most recent call last)",
      "\u001b[0;32m<ipython-input-311-e93d7d736180>\u001b[0m in \u001b[0;36m<module>\u001b[0;34m\u001b[0m\n\u001b[0;32m----> 1\u001b[0;31m \u001b[0mval\u001b[0m\u001b[0;34m[\u001b[0m\u001b[0mX3\u001b[0m\u001b[0;34m.\u001b[0m\u001b[0mcolumns\u001b[0m\u001b[0;34m]\u001b[0m\u001b[0;34m\u001b[0m\u001b[0;34m\u001b[0m\u001b[0m\n\u001b[0m",
      "\u001b[0;32m~/opt/anaconda3/lib/python3.7/site-packages/pandas/core/frame.py\u001b[0m in \u001b[0;36m__getitem__\u001b[0;34m(self, key)\u001b[0m\n\u001b[1;32m   2984\u001b[0m             \u001b[0;32mif\u001b[0m \u001b[0mis_iterator\u001b[0m\u001b[0;34m(\u001b[0m\u001b[0mkey\u001b[0m\u001b[0;34m)\u001b[0m\u001b[0;34m:\u001b[0m\u001b[0;34m\u001b[0m\u001b[0;34m\u001b[0m\u001b[0m\n\u001b[1;32m   2985\u001b[0m                 \u001b[0mkey\u001b[0m \u001b[0;34m=\u001b[0m \u001b[0mlist\u001b[0m\u001b[0;34m(\u001b[0m\u001b[0mkey\u001b[0m\u001b[0;34m)\u001b[0m\u001b[0;34m\u001b[0m\u001b[0;34m\u001b[0m\u001b[0m\n\u001b[0;32m-> 2986\u001b[0;31m             \u001b[0mindexer\u001b[0m \u001b[0;34m=\u001b[0m \u001b[0mself\u001b[0m\u001b[0;34m.\u001b[0m\u001b[0mloc\u001b[0m\u001b[0;34m.\u001b[0m\u001b[0m_convert_to_indexer\u001b[0m\u001b[0;34m(\u001b[0m\u001b[0mkey\u001b[0m\u001b[0;34m,\u001b[0m \u001b[0maxis\u001b[0m\u001b[0;34m=\u001b[0m\u001b[0;36m1\u001b[0m\u001b[0;34m,\u001b[0m \u001b[0mraise_missing\u001b[0m\u001b[0;34m=\u001b[0m\u001b[0;32mTrue\u001b[0m\u001b[0;34m)\u001b[0m\u001b[0;34m\u001b[0m\u001b[0;34m\u001b[0m\u001b[0m\n\u001b[0m\u001b[1;32m   2987\u001b[0m \u001b[0;34m\u001b[0m\u001b[0m\n\u001b[1;32m   2988\u001b[0m         \u001b[0;31m# take() does not accept boolean indexers\u001b[0m\u001b[0;34m\u001b[0m\u001b[0;34m\u001b[0m\u001b[0;34m\u001b[0m\u001b[0m\n",
      "\u001b[0;32m~/opt/anaconda3/lib/python3.7/site-packages/pandas/core/indexing.py\u001b[0m in \u001b[0;36m_convert_to_indexer\u001b[0;34m(self, obj, axis, is_setter, raise_missing)\u001b[0m\n\u001b[1;32m   1283\u001b[0m                 \u001b[0;31m# When setting, missing keys are not allowed, even with .loc:\u001b[0m\u001b[0;34m\u001b[0m\u001b[0;34m\u001b[0m\u001b[0;34m\u001b[0m\u001b[0m\n\u001b[1;32m   1284\u001b[0m                 \u001b[0mkwargs\u001b[0m \u001b[0;34m=\u001b[0m \u001b[0;34m{\u001b[0m\u001b[0;34m\"raise_missing\"\u001b[0m\u001b[0;34m:\u001b[0m \u001b[0;32mTrue\u001b[0m \u001b[0;32mif\u001b[0m \u001b[0mis_setter\u001b[0m \u001b[0;32melse\u001b[0m \u001b[0mraise_missing\u001b[0m\u001b[0;34m}\u001b[0m\u001b[0;34m\u001b[0m\u001b[0;34m\u001b[0m\u001b[0m\n\u001b[0;32m-> 1285\u001b[0;31m                 \u001b[0;32mreturn\u001b[0m \u001b[0mself\u001b[0m\u001b[0;34m.\u001b[0m\u001b[0m_get_listlike_indexer\u001b[0m\u001b[0;34m(\u001b[0m\u001b[0mobj\u001b[0m\u001b[0;34m,\u001b[0m \u001b[0maxis\u001b[0m\u001b[0;34m,\u001b[0m \u001b[0;34m**\u001b[0m\u001b[0mkwargs\u001b[0m\u001b[0;34m)\u001b[0m\u001b[0;34m[\u001b[0m\u001b[0;36m1\u001b[0m\u001b[0;34m]\u001b[0m\u001b[0;34m\u001b[0m\u001b[0;34m\u001b[0m\u001b[0m\n\u001b[0m\u001b[1;32m   1286\u001b[0m         \u001b[0;32melse\u001b[0m\u001b[0;34m:\u001b[0m\u001b[0;34m\u001b[0m\u001b[0;34m\u001b[0m\u001b[0m\n\u001b[1;32m   1287\u001b[0m             \u001b[0;32mtry\u001b[0m\u001b[0;34m:\u001b[0m\u001b[0;34m\u001b[0m\u001b[0;34m\u001b[0m\u001b[0m\n",
      "\u001b[0;32m~/opt/anaconda3/lib/python3.7/site-packages/pandas/core/indexing.py\u001b[0m in \u001b[0;36m_get_listlike_indexer\u001b[0;34m(self, key, axis, raise_missing)\u001b[0m\n\u001b[1;32m   1090\u001b[0m \u001b[0;34m\u001b[0m\u001b[0m\n\u001b[1;32m   1091\u001b[0m         self._validate_read_indexer(\n\u001b[0;32m-> 1092\u001b[0;31m             \u001b[0mkeyarr\u001b[0m\u001b[0;34m,\u001b[0m \u001b[0mindexer\u001b[0m\u001b[0;34m,\u001b[0m \u001b[0mo\u001b[0m\u001b[0;34m.\u001b[0m\u001b[0m_get_axis_number\u001b[0m\u001b[0;34m(\u001b[0m\u001b[0maxis\u001b[0m\u001b[0;34m)\u001b[0m\u001b[0;34m,\u001b[0m \u001b[0mraise_missing\u001b[0m\u001b[0;34m=\u001b[0m\u001b[0mraise_missing\u001b[0m\u001b[0;34m\u001b[0m\u001b[0;34m\u001b[0m\u001b[0m\n\u001b[0m\u001b[1;32m   1093\u001b[0m         )\n\u001b[1;32m   1094\u001b[0m         \u001b[0;32mreturn\u001b[0m \u001b[0mkeyarr\u001b[0m\u001b[0;34m,\u001b[0m \u001b[0mindexer\u001b[0m\u001b[0;34m\u001b[0m\u001b[0;34m\u001b[0m\u001b[0m\n",
      "\u001b[0;32m~/opt/anaconda3/lib/python3.7/site-packages/pandas/core/indexing.py\u001b[0m in \u001b[0;36m_validate_read_indexer\u001b[0;34m(self, key, indexer, axis, raise_missing)\u001b[0m\n\u001b[1;32m   1183\u001b[0m             \u001b[0;32mif\u001b[0m \u001b[0;32mnot\u001b[0m \u001b[0;34m(\u001b[0m\u001b[0mself\u001b[0m\u001b[0;34m.\u001b[0m\u001b[0mname\u001b[0m \u001b[0;34m==\u001b[0m \u001b[0;34m\"loc\"\u001b[0m \u001b[0;32mand\u001b[0m \u001b[0;32mnot\u001b[0m \u001b[0mraise_missing\u001b[0m\u001b[0;34m)\u001b[0m\u001b[0;34m:\u001b[0m\u001b[0;34m\u001b[0m\u001b[0;34m\u001b[0m\u001b[0m\n\u001b[1;32m   1184\u001b[0m                 \u001b[0mnot_found\u001b[0m \u001b[0;34m=\u001b[0m \u001b[0mlist\u001b[0m\u001b[0;34m(\u001b[0m\u001b[0mset\u001b[0m\u001b[0;34m(\u001b[0m\u001b[0mkey\u001b[0m\u001b[0;34m)\u001b[0m \u001b[0;34m-\u001b[0m \u001b[0mset\u001b[0m\u001b[0;34m(\u001b[0m\u001b[0max\u001b[0m\u001b[0;34m)\u001b[0m\u001b[0;34m)\u001b[0m\u001b[0;34m\u001b[0m\u001b[0;34m\u001b[0m\u001b[0m\n\u001b[0;32m-> 1185\u001b[0;31m                 \u001b[0;32mraise\u001b[0m \u001b[0mKeyError\u001b[0m\u001b[0;34m(\u001b[0m\u001b[0;34m\"{} not in index\"\u001b[0m\u001b[0;34m.\u001b[0m\u001b[0mformat\u001b[0m\u001b[0;34m(\u001b[0m\u001b[0mnot_found\u001b[0m\u001b[0;34m)\u001b[0m\u001b[0;34m)\u001b[0m\u001b[0;34m\u001b[0m\u001b[0;34m\u001b[0m\u001b[0m\n\u001b[0m\u001b[1;32m   1186\u001b[0m \u001b[0;34m\u001b[0m\u001b[0m\n\u001b[1;32m   1187\u001b[0m             \u001b[0;31m# we skip the warning on Categorical/Interval\u001b[0m\u001b[0;34m\u001b[0m\u001b[0;34m\u001b[0m\u001b[0;34m\u001b[0m\u001b[0m\n",
      "\u001b[0;31mKeyError\u001b[0m: \"['neighborhood_CollgCr', 'sale_type_VWD', 'roof_style_Hip', 'exterior_2nd_ImStucc', 'sale_type_ConLD', 'exterior_1st_WdShing', 'alley_Pave', 'sale_type_New', 'misc_feature_Elev', 'foundation_Wood', 'foundation_Stone', 'condition_1_PosN', 'exterior_1st_CemntBd', 'exterior_2nd_CmentBd', 'ms_subclass_60', 'roof_style_Gambrel', 'exterior_2nd_MetalSd', 'house_style_SLvl', 'exterior_2nd_WdShing', 'neighborhood_BrkSide', 'garage_type_Attchd', 'exterior_2nd_Brk Cmn', 'heating_GasW', 'exterior_1st_Wd Sdng', 'bldg_type_2fmCon', 'ms_subclass_85', 'ms_zoning_RP', 'roof_style_Gable', 'foundation_Slab', 'neighborhood_Greens', 'ms_subclass_30', 'neighborhood_Blueste', 'exterior_1st_Stucco', 'exterior_2nd_Wd Sdng', 'age_of_garage', 'condition_2_RRNn', 'neighborhood_Somerst', 'neighborhood_Sawyer', 'exterior_1st_BrkFace', 'condition_2_Feedr', 'exterior_2nd_Stone', 'sale_type_Con', 'neighborhood_Gilbert', 'condition_2_PosN', 'house_style_1.5Unf', 'ms_subclass_40', 'ms_subclass_150', 'neighborhood_NAmes', 'ms_subclass_45', 'sale_type_WD', 'house_style_2.5Fin', 'neighborhood_NridgHt', 'exterior_1st_Other', 'exterior_2nd_VinylSd', 'sale_type_Oth', 'exterior_1st_Plywood', 'exterior_2nd_CBlock', 'mas_vnr_type_CBlock', 'bldg_type_Twnhs', 'lot_config_FR2', 'heating_GasA', 'bldg_type_Duplex', 'foundation_CBlock', 'neighborhood_MeadowV', 'condition_1_RRNe', 'garage_type_BuiltIn', 'house_style_SFoyer', 'exterior_2nd_Wd Shng', 'ms_zoning_FV', 'garage_type_Detchd', 'condition_1_Norm', 'exterior_2nd_PreCast', 'mas_vnr_type_BrkFace', 'garage_type_NA', 'neighborhood_Crawfor', 'garage_type_Basment', 'neighborhood_SWISU', 'misc_feature_TenC', 'neighborhood_IDOTRR', 'mas_vnr_type_None', 'age_of_home', 'condition_2_PosA', 'condition_2_RRAn', 'roof_matl_Roll', 'condition_1_PosA', 'exterior_2nd_Plywood', 'ms_zoning_C', 'condition_1_Feedr', 'ms_zoning_RM', 'ms_zoning_RL', 'land_contour_HLS', 'condition_2_Norm', 'neighborhood_Landmrk', 'roof_matl_Tar&Grv', 'exterior_2nd_BrkComm', 'condition_1_RRNn', 'exterior_2nd_BrkFace', 'ms_zoning_I', 'heating_Wall', 'sale_type_CWD', 'neighborhood_OldTown', 'exterior_2nd_HdBoard', 'land_contour_Low', 'roof_matl_CompShg', 'neighborhood_Edwards', 'neighborhood_BrDale', 'exterior_1st_BrkComm', 'total_fin_sf', 'roof_matl_WdShake', 'neighborhood_ClearCr', 'ms_subclass_75', 'bldg_type_TwnhsE', 'lot_config_FR3', 'ms_subclass_70', 'condition_1_RRAn', 'exterior_1st_Stone', 'ms_subclass_120', 'exterior_1st_HdBoard', 'central_air_Y', 'house_style_2Story', 'land_contour_Lvl', 'roof_style_Shed', 'misc_feature_Gar2', 'roof_matl_WdShngl', 'age_remod/add', 'lot_config_Inside', 'exterior_1st_PreCast', 'misc_feature_Shed', 'condition_1_RRAe', 'ms_subclass_50', 'condition_2_RRAe', 'house_style_1Story', 'condition_2_RRNe', 'sale_type_ConLI', 'heating_Grav', 'alley_No_Alley', 'roof_matl_Membran', 'heating_OthW', 'mas_vnr_type_Stone', 'neighborhood_Mitchel', 'neighborhood_GrnHill', 'ms_subclass_160', 'exterior_1st_MetalSd', 'sale_type_ConLw', 'neighborhood_Timber', 'neighborhood_SawyerW', 'exterior_2nd_CemntBd', 'exterior_2nd_AsphShn', 'ms_subclass_80', 'ms_subclass_90', 'street_Pave', 'neighborhood_NPkVill', 'garage_type_CarPort', 'lot_config_CulDSac', 'house_style_2.5Unf', 'neighborhood_NoRidge', 'ms_zoning_RH', 'roof_style_Mansard', 'roof_matl_Metal', 'misc_feature_Othr', 'neighborhood_Veenker', 'ms_subclass_190', 'ms_subclass_180', 'foundation_PConc', 'exterior_2nd_Other', 'exterior_1st_AsphShn', 'exterior_2nd_Stucco', 'neighborhood_StoneBr', 'neighborhood_NWAmes', 'exterior_1st_CBlock', 'exterior_1st_VinylSd', 'exterior_1st_ImStucc'] not in index\""
     ]
    }
   ],
   "source": [
    "val[X3.columns]"
   ]
  },
  {
   "cell_type": "code",
   "execution_count": 145,
   "metadata": {},
   "outputs": [
    {
     "data": {
      "text/html": [
       "<div>\n",
       "<style scoped>\n",
       "    .dataframe tbody tr th:only-of-type {\n",
       "        vertical-align: middle;\n",
       "    }\n",
       "\n",
       "    .dataframe tbody tr th {\n",
       "        vertical-align: top;\n",
       "    }\n",
       "\n",
       "    .dataframe thead th {\n",
       "        text-align: right;\n",
       "    }\n",
       "</style>\n",
       "<table border=\"1\" class=\"dataframe\">\n",
       "  <thead>\n",
       "    <tr style=\"text-align: right;\">\n",
       "      <th></th>\n",
       "      <th>pid</th>\n",
       "      <th>ms_subclass</th>\n",
       "      <th>ms_zoning</th>\n",
       "      <th>lot_frontage</th>\n",
       "      <th>lot_area</th>\n",
       "      <th>street</th>\n",
       "      <th>alley</th>\n",
       "      <th>lot_shape</th>\n",
       "      <th>land_contour</th>\n",
       "      <th>utilities</th>\n",
       "      <th>lot_config</th>\n",
       "      <th>land_slope</th>\n",
       "      <th>neighborhood</th>\n",
       "      <th>condition_1</th>\n",
       "      <th>condition_2</th>\n",
       "      <th>bldg_type</th>\n",
       "      <th>house_style</th>\n",
       "      <th>overall_qual</th>\n",
       "      <th>overall_cond</th>\n",
       "      <th>year_built</th>\n",
       "      <th>year_remod/add</th>\n",
       "      <th>roof_style</th>\n",
       "      <th>roof_matl</th>\n",
       "      <th>exterior_1st</th>\n",
       "      <th>exterior_2nd</th>\n",
       "      <th>mas_vnr_type</th>\n",
       "      <th>mas_vnr_area</th>\n",
       "      <th>exter_qual</th>\n",
       "      <th>exter_cond</th>\n",
       "      <th>foundation</th>\n",
       "      <th>bsmt_qual</th>\n",
       "      <th>bsmt_cond</th>\n",
       "      <th>bsmt_exposure</th>\n",
       "      <th>bsmtfin_type_1</th>\n",
       "      <th>bsmtfin_sf_1</th>\n",
       "      <th>bsmtfin_type_2</th>\n",
       "      <th>bsmtfin_sf_2</th>\n",
       "      <th>bsmt_unf_sf</th>\n",
       "      <th>total_bsmt_sf</th>\n",
       "      <th>heating</th>\n",
       "      <th>heating_qc</th>\n",
       "      <th>central_air</th>\n",
       "      <th>electrical</th>\n",
       "      <th>1st_flr_sf</th>\n",
       "      <th>2nd_flr_sf</th>\n",
       "      <th>low_qual_fin_sf</th>\n",
       "      <th>gr_liv_area</th>\n",
       "      <th>bsmt_full_bath</th>\n",
       "      <th>bsmt_half_bath</th>\n",
       "      <th>full_bath</th>\n",
       "      <th>half_bath</th>\n",
       "      <th>bedroom_abvgr</th>\n",
       "      <th>kitchen_abvgr</th>\n",
       "      <th>kitchen_qual</th>\n",
       "      <th>totrms_abvgrd</th>\n",
       "      <th>functional</th>\n",
       "      <th>fireplaces</th>\n",
       "      <th>fireplace_qu</th>\n",
       "      <th>garage_type</th>\n",
       "      <th>garage_yr_blt</th>\n",
       "      <th>garage_finish</th>\n",
       "      <th>garage_cars</th>\n",
       "      <th>garage_area</th>\n",
       "      <th>garage_qual</th>\n",
       "      <th>garage_cond</th>\n",
       "      <th>paved_drive</th>\n",
       "      <th>wood_deck_sf</th>\n",
       "      <th>open_porch_sf</th>\n",
       "      <th>enclosed_porch</th>\n",
       "      <th>3ssn_porch</th>\n",
       "      <th>screen_porch</th>\n",
       "      <th>pool_area</th>\n",
       "      <th>pool_qc</th>\n",
       "      <th>fence</th>\n",
       "      <th>misc_feature</th>\n",
       "      <th>misc_val</th>\n",
       "      <th>mo_sold</th>\n",
       "      <th>yr_sold</th>\n",
       "      <th>sale_type</th>\n",
       "      <th>saleprice</th>\n",
       "      <th>Id</th>\n",
       "    </tr>\n",
       "  </thead>\n",
       "  <tbody>\n",
       "  </tbody>\n",
       "</table>\n",
       "</div>"
      ],
      "text/plain": [
       "Empty DataFrame\n",
       "Columns: [pid, ms_subclass, ms_zoning, lot_frontage, lot_area, street, alley, lot_shape, land_contour, utilities, lot_config, land_slope, neighborhood, condition_1, condition_2, bldg_type, house_style, overall_qual, overall_cond, year_built, year_remod/add, roof_style, roof_matl, exterior_1st, exterior_2nd, mas_vnr_type, mas_vnr_area, exter_qual, exter_cond, foundation, bsmt_qual, bsmt_cond, bsmt_exposure, bsmtfin_type_1, bsmtfin_sf_1, bsmtfin_type_2, bsmtfin_sf_2, bsmt_unf_sf, total_bsmt_sf, heating, heating_qc, central_air, electrical, 1st_flr_sf, 2nd_flr_sf, low_qual_fin_sf, gr_liv_area, bsmt_full_bath, bsmt_half_bath, full_bath, half_bath, bedroom_abvgr, kitchen_abvgr, kitchen_qual, totrms_abvgrd, functional, fireplaces, fireplace_qu, garage_type, garage_yr_blt, garage_finish, garage_cars, garage_area, garage_qual, garage_cond, paved_drive, wood_deck_sf, open_porch_sf, enclosed_porch, 3ssn_porch, screen_porch, pool_area, pool_qc, fence, misc_feature, misc_val, mo_sold, yr_sold, sale_type, saleprice, Id]\n",
       "Index: []"
      ]
     },
     "execution_count": 145,
     "metadata": {},
     "output_type": "execute_result"
    }
   ],
   "source": [
    "# no duplicated columns\n",
    "df[df.duplicated()]"
   ]
  },
  {
   "cell_type": "code",
   "execution_count": 146,
   "metadata": {},
   "outputs": [],
   "source": [
    "# For MS Zoning, changing those entries to just read C, A and I in the data. If they are already \n",
    "# listed that way they will be left alone\n",
    "for i, item in enumerate(df['ms_zoning']):\n",
    "    if item == 'C (all)':\n",
    "        df['ms_zoning'][i] = 'C'\n",
    "    elif item == 'A (agr)':\n",
    "        df['ms_zoning'][i] = 'A'\n",
    "    elif item == 'I (all)':\n",
    "        df['ms_zoning'][i] = 'I'\n"
   ]
  },
  {
   "cell_type": "code",
   "execution_count": 147,
   "metadata": {},
   "outputs": [],
   "source": [
    "# To impute values for Lot Frontage, my first thought was to look at the using \n",
    "# Lot Frontage / Lot Area since frontage is one of the compenents of the area\n",
    "# (sometimes two)\n",
    "df['lot_frontage/lot_area'] = df['lot_frontage'] / df['lot_area']"
   ]
  },
  {
   "cell_type": "code",
   "execution_count": 148,
   "metadata": {
    "scrolled": true
   },
   "outputs": [
    {
     "data": {
      "text/plain": [
       "count    1721.000000\n",
       "mean        0.007918\n",
       "std         0.002431\n",
       "min         0.000876\n",
       "25%         0.006626\n",
       "50%         0.007727\n",
       "75%         0.008701\n",
       "max         0.037154\n",
       "Name: lot_frontage/lot_area, dtype: float64"
      ]
     },
     "execution_count": 148,
     "metadata": {},
     "output_type": "execute_result"
    }
   ],
   "source": [
    "# We see that the mean of this relationship is .007918 with a std of .002431\n",
    "df['lot_frontage/lot_area'].describe()"
   ]
  },
  {
   "cell_type": "code",
   "execution_count": 149,
   "metadata": {},
   "outputs": [
    {
     "data": {
      "text/plain": [
       "lot_shape  lot_config\n",
       "IR1        Corner        0.003470\n",
       "           CulDSac       0.002249\n",
       "           FR2           0.002378\n",
       "           FR3           0.004719\n",
       "           Inside        0.002194\n",
       "IR2        Corner             NaN\n",
       "           CulDSac       0.001251\n",
       "           FR2           0.001159\n",
       "           Inside        0.003610\n",
       "IR3        Corner        0.004294\n",
       "           Inside        0.001428\n",
       "Reg        Corner        0.002107\n",
       "           CulDSac            NaN\n",
       "           FR2           0.001577\n",
       "           FR3           0.001017\n",
       "           Inside        0.002188\n",
       "Name: lot_frontage/lot_area, dtype: float64"
      ]
     },
     "execution_count": 149,
     "metadata": {},
     "output_type": "execute_result"
    }
   ],
   "source": [
    "# To try to lower the average standard deviation, I looked at the standard deviations\n",
    "# for the various combinations of Lot Shape and Lot Configuration\n",
    "# the average standard deviation was lower for these combinations\n",
    "lshape = df['lot_shape']\n",
    "lconfig = df['lot_config']\n",
    "df.groupby([lshape, lconfig])['lot_frontage/lot_area'].std()"
   ]
  },
  {
   "cell_type": "code",
   "execution_count": 150,
   "metadata": {},
   "outputs": [],
   "source": [
    "# creating a dictionary of lot shape/config combinations and means for lot frontage/area\n",
    "lot_frontage_dict = {}\n",
    "for shape in df['lot_shape'].unique():\n",
    "    for config in df['lot_config'].unique():\n",
    "        lshape = df['lot_shape'] == shape\n",
    "        lconfig = df['lot_config'] == config\n",
    "        lot_frontage_dict[(shape,config)] = df.groupby([lshape,lconfig])['lot_frontage/lot_area'].mean()"
   ]
  },
  {
   "cell_type": "code",
   "execution_count": 151,
   "metadata": {},
   "outputs": [],
   "source": [
    "# building a list of frontages with current values and, for Nan's, filling in with \n",
    "# the lot area times the mean figure for that row's shape/config combination\n",
    "lot_frontage_list = []\n",
    "for i, item in enumerate(df['lot_frontage']):\n",
    "    if item > 0:\n",
    "        lot_frontage_list.append(item)\n",
    "    else:\n",
    "        new_item = df['lot_area'][i] * lot_frontage_dict[(df['lot_shape'][i],df['lot_config'][i])][True][True]\n",
    "        lot_frontage_list.append(new_item)"
   ]
  },
  {
   "cell_type": "code",
   "execution_count": 152,
   "metadata": {},
   "outputs": [],
   "source": [
    "# replacing Lot Frontage with the elements from the list\n",
    "df['lot_frontage'] = lot_frontage_list"
   ]
  },
  {
   "cell_type": "code",
   "execution_count": 153,
   "metadata": {},
   "outputs": [],
   "source": [
    "df.drop(columns='lot_frontage/lot_area', inplace=True)"
   ]
  },
  {
   "cell_type": "code",
   "execution_count": 154,
   "metadata": {},
   "outputs": [],
   "source": [
    "# Filling Nan cells with No_Alley\n",
    "df['alley'].fillna('No_Alley',inplace=True)"
   ]
  },
  {
   "cell_type": "code",
   "execution_count": 155,
   "metadata": {},
   "outputs": [],
   "source": [
    "# fill in Nan's with 'None' since that is what they meant to input\n",
    "df['mas_vnr_type'].fillna('None',inplace=True)"
   ]
  },
  {
   "cell_type": "code",
   "execution_count": 156,
   "metadata": {},
   "outputs": [],
   "source": [
    "# fill in Nan's with 0 since that is what they meant to input\n",
    "df['mas_vnr_area'].fillna(0,inplace=True)"
   ]
  },
  {
   "cell_type": "code",
   "execution_count": 157,
   "metadata": {},
   "outputs": [],
   "source": [
    "# fill in Nan's with 'NA' since that is what they meant to input\n",
    "df['bsmt_qual'].fillna('NA',inplace=True)"
   ]
  },
  {
   "cell_type": "code",
   "execution_count": 158,
   "metadata": {},
   "outputs": [],
   "source": [
    "# fill in Nan's with 'NA' since that is what they meant to input\n",
    "df['bsmt_cond'].fillna('NA',inplace=True)"
   ]
  },
  {
   "cell_type": "code",
   "execution_count": 159,
   "metadata": {},
   "outputs": [],
   "source": [
    "df['bsmt_exposure'].fillna('NA',inplace=True)"
   ]
  },
  {
   "cell_type": "code",
   "execution_count": 160,
   "metadata": {},
   "outputs": [],
   "source": [
    "df['bsmtfin_type_1'].fillna('NA',inplace=True)"
   ]
  },
  {
   "cell_type": "code",
   "execution_count": 161,
   "metadata": {},
   "outputs": [],
   "source": [
    "df['bsmtfin_sf_1'].fillna(0,inplace=True)"
   ]
  },
  {
   "cell_type": "code",
   "execution_count": 162,
   "metadata": {},
   "outputs": [],
   "source": [
    "df['bsmtfin_type_2'].fillna('NA',inplace=True)"
   ]
  },
  {
   "cell_type": "code",
   "execution_count": 163,
   "metadata": {},
   "outputs": [],
   "source": [
    "df['bsmtfin_sf_2'].fillna(0,inplace=True)"
   ]
  },
  {
   "cell_type": "code",
   "execution_count": 164,
   "metadata": {},
   "outputs": [],
   "source": [
    "df['bsmt_unf_sf'].fillna(0,inplace=True)"
   ]
  },
  {
   "cell_type": "code",
   "execution_count": 165,
   "metadata": {},
   "outputs": [],
   "source": [
    "df['total_bsmt_sf'].fillna(0,inplace=True)"
   ]
  },
  {
   "cell_type": "code",
   "execution_count": 166,
   "metadata": {},
   "outputs": [],
   "source": [
    "df['bsmt_full_bath'].fillna(0,inplace=True)"
   ]
  },
  {
   "cell_type": "code",
   "execution_count": 167,
   "metadata": {},
   "outputs": [],
   "source": [
    "df['bsmt_half_bath'].fillna(0,inplace=True)"
   ]
  },
  {
   "cell_type": "code",
   "execution_count": 168,
   "metadata": {},
   "outputs": [],
   "source": [
    "df['fireplace_qu'].fillna('NA',inplace=True)"
   ]
  },
  {
   "cell_type": "code",
   "execution_count": 169,
   "metadata": {},
   "outputs": [],
   "source": [
    "df['garage_type'].fillna('NA',inplace=True)"
   ]
  },
  {
   "cell_type": "code",
   "execution_count": 170,
   "metadata": {},
   "outputs": [],
   "source": [
    "# creating a list of garage yr blt - year house built for each row\n",
    "garage_vs_home = [df['garage_yr_blt'][i] - df['year_built'][i] for i, n in enumerate(df['year_built'])]"
   ]
  },
  {
   "cell_type": "code",
   "execution_count": 171,
   "metadata": {},
   "outputs": [
    {
     "name": "stdout",
     "output_type": "stream",
     "text": [
      "0.8074341765616934\n"
     ]
    }
   ],
   "source": [
    "count = 0\n",
    "for item in garage_vs_home:\n",
    "    if item == 0:\n",
    "        count += 1\n",
    "print(count/(len(garage_vs_home)-114))"
   ]
  },
  {
   "cell_type": "markdown",
   "metadata": {},
   "source": [
    "Given that 81% of rows that list a garage yr blt list the same year as the year home built, it is reasonable to say that this column is about two things: \n",
    "1. Understanding if a garage was added on at a later date\n",
    "2. Learning how recently it was added on\n",
    "\n",
    "Since NA for the garage yr blt column is about people who have no garages at all, it seems logical to have their cells give the year home built value since there was no garage added later and we have other cells that convey that the house has no garage"
   ]
  },
  {
   "cell_type": "code",
   "execution_count": 172,
   "metadata": {},
   "outputs": [],
   "source": [
    "# creating list to replace garage yr blt info with Nan's filled in\n",
    "garage_yr_list = []\n",
    "for i, item in enumerate(df['garage_yr_blt']):\n",
    "    if item > 0:\n",
    "        garage_yr_list.append(df['garage_yr_blt'][i])\n",
    "    else:\n",
    "        garage_yr_list.append(df['year_built'][i])\n"
   ]
  },
  {
   "cell_type": "code",
   "execution_count": 173,
   "metadata": {},
   "outputs": [],
   "source": [
    "# replacing data\n",
    "df['garage_yr_blt'] = garage_yr_list"
   ]
  },
  {
   "cell_type": "code",
   "execution_count": 174,
   "metadata": {},
   "outputs": [],
   "source": [
    "# Assuming should be 0 as they have no garage\n",
    "df['garage_finish'].fillna('NA',inplace=True)"
   ]
  },
  {
   "cell_type": "code",
   "execution_count": 175,
   "metadata": {},
   "outputs": [
    {
     "data": {
      "text/html": [
       "<div>\n",
       "<style scoped>\n",
       "    .dataframe tbody tr th:only-of-type {\n",
       "        vertical-align: middle;\n",
       "    }\n",
       "\n",
       "    .dataframe tbody tr th {\n",
       "        vertical-align: top;\n",
       "    }\n",
       "\n",
       "    .dataframe thead th {\n",
       "        text-align: right;\n",
       "    }\n",
       "</style>\n",
       "<table border=\"1\" class=\"dataframe\">\n",
       "  <thead>\n",
       "    <tr style=\"text-align: right;\">\n",
       "      <th></th>\n",
       "      <th>pid</th>\n",
       "      <th>ms_subclass</th>\n",
       "      <th>ms_zoning</th>\n",
       "      <th>lot_frontage</th>\n",
       "      <th>lot_area</th>\n",
       "      <th>street</th>\n",
       "      <th>alley</th>\n",
       "      <th>lot_shape</th>\n",
       "      <th>land_contour</th>\n",
       "      <th>utilities</th>\n",
       "      <th>lot_config</th>\n",
       "      <th>land_slope</th>\n",
       "      <th>neighborhood</th>\n",
       "      <th>condition_1</th>\n",
       "      <th>condition_2</th>\n",
       "      <th>bldg_type</th>\n",
       "      <th>house_style</th>\n",
       "      <th>overall_qual</th>\n",
       "      <th>overall_cond</th>\n",
       "      <th>year_built</th>\n",
       "      <th>year_remod/add</th>\n",
       "      <th>roof_style</th>\n",
       "      <th>roof_matl</th>\n",
       "      <th>exterior_1st</th>\n",
       "      <th>exterior_2nd</th>\n",
       "      <th>mas_vnr_type</th>\n",
       "      <th>mas_vnr_area</th>\n",
       "      <th>exter_qual</th>\n",
       "      <th>exter_cond</th>\n",
       "      <th>foundation</th>\n",
       "      <th>bsmt_qual</th>\n",
       "      <th>bsmt_cond</th>\n",
       "      <th>bsmt_exposure</th>\n",
       "      <th>bsmtfin_type_1</th>\n",
       "      <th>bsmtfin_sf_1</th>\n",
       "      <th>bsmtfin_type_2</th>\n",
       "      <th>bsmtfin_sf_2</th>\n",
       "      <th>bsmt_unf_sf</th>\n",
       "      <th>total_bsmt_sf</th>\n",
       "      <th>heating</th>\n",
       "      <th>heating_qc</th>\n",
       "      <th>central_air</th>\n",
       "      <th>electrical</th>\n",
       "      <th>1st_flr_sf</th>\n",
       "      <th>2nd_flr_sf</th>\n",
       "      <th>low_qual_fin_sf</th>\n",
       "      <th>gr_liv_area</th>\n",
       "      <th>bsmt_full_bath</th>\n",
       "      <th>bsmt_half_bath</th>\n",
       "      <th>full_bath</th>\n",
       "      <th>half_bath</th>\n",
       "      <th>bedroom_abvgr</th>\n",
       "      <th>kitchen_abvgr</th>\n",
       "      <th>kitchen_qual</th>\n",
       "      <th>totrms_abvgrd</th>\n",
       "      <th>functional</th>\n",
       "      <th>fireplaces</th>\n",
       "      <th>fireplace_qu</th>\n",
       "      <th>garage_type</th>\n",
       "      <th>garage_yr_blt</th>\n",
       "      <th>garage_finish</th>\n",
       "      <th>garage_cars</th>\n",
       "      <th>garage_area</th>\n",
       "      <th>garage_qual</th>\n",
       "      <th>garage_cond</th>\n",
       "      <th>paved_drive</th>\n",
       "      <th>wood_deck_sf</th>\n",
       "      <th>open_porch_sf</th>\n",
       "      <th>enclosed_porch</th>\n",
       "      <th>3ssn_porch</th>\n",
       "      <th>screen_porch</th>\n",
       "      <th>pool_area</th>\n",
       "      <th>pool_qc</th>\n",
       "      <th>fence</th>\n",
       "      <th>misc_feature</th>\n",
       "      <th>misc_val</th>\n",
       "      <th>mo_sold</th>\n",
       "      <th>yr_sold</th>\n",
       "      <th>sale_type</th>\n",
       "      <th>saleprice</th>\n",
       "      <th>Id</th>\n",
       "    </tr>\n",
       "  </thead>\n",
       "  <tbody>\n",
       "    <tr>\n",
       "      <td>289</td>\n",
       "      <td>923202015</td>\n",
       "      <td>90</td>\n",
       "      <td>RM</td>\n",
       "      <td>78.000000</td>\n",
       "      <td>7060</td>\n",
       "      <td>Pave</td>\n",
       "      <td>No_Alley</td>\n",
       "      <td>Reg</td>\n",
       "      <td>Lvl</td>\n",
       "      <td>AllPub</td>\n",
       "      <td>Inside</td>\n",
       "      <td>Gtl</td>\n",
       "      <td>Mitchel</td>\n",
       "      <td>Norm</td>\n",
       "      <td>Norm</td>\n",
       "      <td>Duplex</td>\n",
       "      <td>SFoyer</td>\n",
       "      <td>7</td>\n",
       "      <td>5</td>\n",
       "      <td>1997</td>\n",
       "      <td>1998</td>\n",
       "      <td>Gable</td>\n",
       "      <td>CompShg</td>\n",
       "      <td>VinylSd</td>\n",
       "      <td>VinylSd</td>\n",
       "      <td>BrkFace</td>\n",
       "      <td>200.0</td>\n",
       "      <td>TA</td>\n",
       "      <td>Gd</td>\n",
       "      <td>PConc</td>\n",
       "      <td>Gd</td>\n",
       "      <td>Gd</td>\n",
       "      <td>Gd</td>\n",
       "      <td>GLQ</td>\n",
       "      <td>1309.0</td>\n",
       "      <td>Unf</td>\n",
       "      <td>0.0</td>\n",
       "      <td>35.0</td>\n",
       "      <td>1344.0</td>\n",
       "      <td>GasA</td>\n",
       "      <td>Ex</td>\n",
       "      <td>Y</td>\n",
       "      <td>SBrkr</td>\n",
       "      <td>1344</td>\n",
       "      <td>0</td>\n",
       "      <td>0</td>\n",
       "      <td>1344</td>\n",
       "      <td>2.0</td>\n",
       "      <td>0.0</td>\n",
       "      <td>2</td>\n",
       "      <td>0</td>\n",
       "      <td>2</td>\n",
       "      <td>2</td>\n",
       "      <td>TA</td>\n",
       "      <td>8</td>\n",
       "      <td>Typ</td>\n",
       "      <td>0</td>\n",
       "      <td>NA</td>\n",
       "      <td>Attchd</td>\n",
       "      <td>1997.0</td>\n",
       "      <td>Fin</td>\n",
       "      <td>4.0</td>\n",
       "      <td>784.0</td>\n",
       "      <td>TA</td>\n",
       "      <td>TA</td>\n",
       "      <td>Y</td>\n",
       "      <td>0</td>\n",
       "      <td>0</td>\n",
       "      <td>0</td>\n",
       "      <td>0</td>\n",
       "      <td>0</td>\n",
       "      <td>0</td>\n",
       "      <td>NaN</td>\n",
       "      <td>NaN</td>\n",
       "      <td>NaN</td>\n",
       "      <td>0</td>\n",
       "      <td>11</td>\n",
       "      <td>2008</td>\n",
       "      <td>WD</td>\n",
       "      <td>206300</td>\n",
       "      <td>1590</td>\n",
       "    </tr>\n",
       "    <tr>\n",
       "      <td>332</td>\n",
       "      <td>528118090</td>\n",
       "      <td>60</td>\n",
       "      <td>RL</td>\n",
       "      <td>96.000000</td>\n",
       "      <td>12539</td>\n",
       "      <td>Pave</td>\n",
       "      <td>No_Alley</td>\n",
       "      <td>Reg</td>\n",
       "      <td>Lvl</td>\n",
       "      <td>AllPub</td>\n",
       "      <td>Inside</td>\n",
       "      <td>Gtl</td>\n",
       "      <td>NridgHt</td>\n",
       "      <td>PosN</td>\n",
       "      <td>Norm</td>\n",
       "      <td>1Fam</td>\n",
       "      <td>2Story</td>\n",
       "      <td>10</td>\n",
       "      <td>5</td>\n",
       "      <td>2005</td>\n",
       "      <td>2006</td>\n",
       "      <td>Hip</td>\n",
       "      <td>CompShg</td>\n",
       "      <td>CemntBd</td>\n",
       "      <td>CmentBd</td>\n",
       "      <td>BrkFace</td>\n",
       "      <td>468.0</td>\n",
       "      <td>Ex</td>\n",
       "      <td>TA</td>\n",
       "      <td>PConc</td>\n",
       "      <td>Ex</td>\n",
       "      <td>TA</td>\n",
       "      <td>Gd</td>\n",
       "      <td>GLQ</td>\n",
       "      <td>1082.0</td>\n",
       "      <td>Unf</td>\n",
       "      <td>0.0</td>\n",
       "      <td>538.0</td>\n",
       "      <td>1620.0</td>\n",
       "      <td>GasA</td>\n",
       "      <td>Ex</td>\n",
       "      <td>Y</td>\n",
       "      <td>SBrkr</td>\n",
       "      <td>1632</td>\n",
       "      <td>1158</td>\n",
       "      <td>0</td>\n",
       "      <td>2790</td>\n",
       "      <td>1.0</td>\n",
       "      <td>0.0</td>\n",
       "      <td>2</td>\n",
       "      <td>1</td>\n",
       "      <td>4</td>\n",
       "      <td>1</td>\n",
       "      <td>Ex</td>\n",
       "      <td>10</td>\n",
       "      <td>Typ</td>\n",
       "      <td>1</td>\n",
       "      <td>Ex</td>\n",
       "      <td>BuiltIn</td>\n",
       "      <td>2005.0</td>\n",
       "      <td>Fin</td>\n",
       "      <td>4.0</td>\n",
       "      <td>1150.0</td>\n",
       "      <td>TA</td>\n",
       "      <td>TA</td>\n",
       "      <td>Y</td>\n",
       "      <td>30</td>\n",
       "      <td>200</td>\n",
       "      <td>0</td>\n",
       "      <td>0</td>\n",
       "      <td>192</td>\n",
       "      <td>0</td>\n",
       "      <td>NaN</td>\n",
       "      <td>NaN</td>\n",
       "      <td>NaN</td>\n",
       "      <td>0</td>\n",
       "      <td>6</td>\n",
       "      <td>2008</td>\n",
       "      <td>WD</td>\n",
       "      <td>460000</td>\n",
       "      <td>1060</td>\n",
       "    </tr>\n",
       "    <tr>\n",
       "      <td>337</td>\n",
       "      <td>923205025</td>\n",
       "      <td>190</td>\n",
       "      <td>RL</td>\n",
       "      <td>266.196373</td>\n",
       "      <td>32463</td>\n",
       "      <td>Pave</td>\n",
       "      <td>No_Alley</td>\n",
       "      <td>Reg</td>\n",
       "      <td>Low</td>\n",
       "      <td>AllPub</td>\n",
       "      <td>Inside</td>\n",
       "      <td>Mod</td>\n",
       "      <td>Mitchel</td>\n",
       "      <td>Norm</td>\n",
       "      <td>Norm</td>\n",
       "      <td>2fmCon</td>\n",
       "      <td>1Story</td>\n",
       "      <td>4</td>\n",
       "      <td>4</td>\n",
       "      <td>1961</td>\n",
       "      <td>1975</td>\n",
       "      <td>Gable</td>\n",
       "      <td>CompShg</td>\n",
       "      <td>MetalSd</td>\n",
       "      <td>MetalSd</td>\n",
       "      <td>Stone</td>\n",
       "      <td>149.0</td>\n",
       "      <td>TA</td>\n",
       "      <td>Gd</td>\n",
       "      <td>CBlock</td>\n",
       "      <td>TA</td>\n",
       "      <td>TA</td>\n",
       "      <td>Av</td>\n",
       "      <td>BLQ</td>\n",
       "      <td>1159.0</td>\n",
       "      <td>Unf</td>\n",
       "      <td>0.0</td>\n",
       "      <td>90.0</td>\n",
       "      <td>1249.0</td>\n",
       "      <td>GasA</td>\n",
       "      <td>Ex</td>\n",
       "      <td>Y</td>\n",
       "      <td>SBrkr</td>\n",
       "      <td>1622</td>\n",
       "      <td>0</td>\n",
       "      <td>0</td>\n",
       "      <td>1622</td>\n",
       "      <td>1.0</td>\n",
       "      <td>0.0</td>\n",
       "      <td>1</td>\n",
       "      <td>0</td>\n",
       "      <td>3</td>\n",
       "      <td>1</td>\n",
       "      <td>TA</td>\n",
       "      <td>7</td>\n",
       "      <td>Typ</td>\n",
       "      <td>1</td>\n",
       "      <td>TA</td>\n",
       "      <td>2Types</td>\n",
       "      <td>1975.0</td>\n",
       "      <td>Fin</td>\n",
       "      <td>4.0</td>\n",
       "      <td>1356.0</td>\n",
       "      <td>TA</td>\n",
       "      <td>TA</td>\n",
       "      <td>Y</td>\n",
       "      <td>439</td>\n",
       "      <td>0</td>\n",
       "      <td>0</td>\n",
       "      <td>0</td>\n",
       "      <td>0</td>\n",
       "      <td>0</td>\n",
       "      <td>NaN</td>\n",
       "      <td>NaN</td>\n",
       "      <td>NaN</td>\n",
       "      <td>0</td>\n",
       "      <td>3</td>\n",
       "      <td>2007</td>\n",
       "      <td>WD</td>\n",
       "      <td>168000</td>\n",
       "      <td>2283</td>\n",
       "    </tr>\n",
       "    <tr>\n",
       "      <td>925</td>\n",
       "      <td>903236040</td>\n",
       "      <td>30</td>\n",
       "      <td>RM</td>\n",
       "      <td>50.000000</td>\n",
       "      <td>8635</td>\n",
       "      <td>Pave</td>\n",
       "      <td>No_Alley</td>\n",
       "      <td>Reg</td>\n",
       "      <td>Lvl</td>\n",
       "      <td>AllPub</td>\n",
       "      <td>Inside</td>\n",
       "      <td>Gtl</td>\n",
       "      <td>BrkSide</td>\n",
       "      <td>Norm</td>\n",
       "      <td>Norm</td>\n",
       "      <td>1Fam</td>\n",
       "      <td>1Story</td>\n",
       "      <td>5</td>\n",
       "      <td>5</td>\n",
       "      <td>1925</td>\n",
       "      <td>1950</td>\n",
       "      <td>Hip</td>\n",
       "      <td>CompShg</td>\n",
       "      <td>Wd Sdng</td>\n",
       "      <td>Wd Sdng</td>\n",
       "      <td>None</td>\n",
       "      <td>0.0</td>\n",
       "      <td>TA</td>\n",
       "      <td>Fa</td>\n",
       "      <td>BrkTil</td>\n",
       "      <td>TA</td>\n",
       "      <td>TA</td>\n",
       "      <td>No</td>\n",
       "      <td>LwQ</td>\n",
       "      <td>134.0</td>\n",
       "      <td>Unf</td>\n",
       "      <td>0.0</td>\n",
       "      <td>938.0</td>\n",
       "      <td>1072.0</td>\n",
       "      <td>GasA</td>\n",
       "      <td>TA</td>\n",
       "      <td>Y</td>\n",
       "      <td>SBrkr</td>\n",
       "      <td>1072</td>\n",
       "      <td>0</td>\n",
       "      <td>0</td>\n",
       "      <td>1072</td>\n",
       "      <td>1.0</td>\n",
       "      <td>0.0</td>\n",
       "      <td>1</td>\n",
       "      <td>0</td>\n",
       "      <td>2</td>\n",
       "      <td>1</td>\n",
       "      <td>TA</td>\n",
       "      <td>5</td>\n",
       "      <td>Typ</td>\n",
       "      <td>0</td>\n",
       "      <td>NA</td>\n",
       "      <td>Detchd</td>\n",
       "      <td>1982.0</td>\n",
       "      <td>Unf</td>\n",
       "      <td>5.0</td>\n",
       "      <td>1184.0</td>\n",
       "      <td>Fa</td>\n",
       "      <td>TA</td>\n",
       "      <td>P</td>\n",
       "      <td>0</td>\n",
       "      <td>0</td>\n",
       "      <td>105</td>\n",
       "      <td>0</td>\n",
       "      <td>0</td>\n",
       "      <td>0</td>\n",
       "      <td>NaN</td>\n",
       "      <td>NaN</td>\n",
       "      <td>NaN</td>\n",
       "      <td>0</td>\n",
       "      <td>8</td>\n",
       "      <td>2009</td>\n",
       "      <td>WD</td>\n",
       "      <td>126500</td>\n",
       "      <td>747</td>\n",
       "    </tr>\n",
       "    <tr>\n",
       "      <td>1712</td>\n",
       "      <td>910201180</td>\n",
       "      <td>70</td>\n",
       "      <td>RM</td>\n",
       "      <td>50.000000</td>\n",
       "      <td>9060</td>\n",
       "      <td>Pave</td>\n",
       "      <td>No_Alley</td>\n",
       "      <td>Reg</td>\n",
       "      <td>Lvl</td>\n",
       "      <td>AllPub</td>\n",
       "      <td>Inside</td>\n",
       "      <td>Gtl</td>\n",
       "      <td>IDOTRR</td>\n",
       "      <td>Norm</td>\n",
       "      <td>Norm</td>\n",
       "      <td>1Fam</td>\n",
       "      <td>2Story</td>\n",
       "      <td>5</td>\n",
       "      <td>6</td>\n",
       "      <td>1923</td>\n",
       "      <td>1999</td>\n",
       "      <td>Gable</td>\n",
       "      <td>CompShg</td>\n",
       "      <td>Wd Sdng</td>\n",
       "      <td>Plywood</td>\n",
       "      <td>None</td>\n",
       "      <td>0.0</td>\n",
       "      <td>TA</td>\n",
       "      <td>TA</td>\n",
       "      <td>BrkTil</td>\n",
       "      <td>Gd</td>\n",
       "      <td>TA</td>\n",
       "      <td>No</td>\n",
       "      <td>ALQ</td>\n",
       "      <td>548.0</td>\n",
       "      <td>Unf</td>\n",
       "      <td>0.0</td>\n",
       "      <td>311.0</td>\n",
       "      <td>859.0</td>\n",
       "      <td>GasA</td>\n",
       "      <td>Ex</td>\n",
       "      <td>Y</td>\n",
       "      <td>SBrkr</td>\n",
       "      <td>942</td>\n",
       "      <td>886</td>\n",
       "      <td>0</td>\n",
       "      <td>1828</td>\n",
       "      <td>0.0</td>\n",
       "      <td>0.0</td>\n",
       "      <td>2</td>\n",
       "      <td>0</td>\n",
       "      <td>3</td>\n",
       "      <td>1</td>\n",
       "      <td>Gd</td>\n",
       "      <td>6</td>\n",
       "      <td>Typ</td>\n",
       "      <td>0</td>\n",
       "      <td>NA</td>\n",
       "      <td>Detchd</td>\n",
       "      <td>1923.0</td>\n",
       "      <td>NA</td>\n",
       "      <td>NaN</td>\n",
       "      <td>NaN</td>\n",
       "      <td>NaN</td>\n",
       "      <td>NaN</td>\n",
       "      <td>Y</td>\n",
       "      <td>174</td>\n",
       "      <td>0</td>\n",
       "      <td>212</td>\n",
       "      <td>0</td>\n",
       "      <td>0</td>\n",
       "      <td>0</td>\n",
       "      <td>NaN</td>\n",
       "      <td>MnPrv</td>\n",
       "      <td>NaN</td>\n",
       "      <td>0</td>\n",
       "      <td>3</td>\n",
       "      <td>2007</td>\n",
       "      <td>WD</td>\n",
       "      <td>150909</td>\n",
       "      <td>2237</td>\n",
       "    </tr>\n",
       "  </tbody>\n",
       "</table>\n",
       "</div>"
      ],
      "text/plain": [
       "            pid  ms_subclass ms_zoning  lot_frontage  lot_area street  \\\n",
       "289   923202015           90        RM     78.000000      7060   Pave   \n",
       "332   528118090           60        RL     96.000000     12539   Pave   \n",
       "337   923205025          190        RL    266.196373     32463   Pave   \n",
       "925   903236040           30        RM     50.000000      8635   Pave   \n",
       "1712  910201180           70        RM     50.000000      9060   Pave   \n",
       "\n",
       "         alley lot_shape land_contour utilities lot_config land_slope  \\\n",
       "289   No_Alley       Reg          Lvl    AllPub     Inside        Gtl   \n",
       "332   No_Alley       Reg          Lvl    AllPub     Inside        Gtl   \n",
       "337   No_Alley       Reg          Low    AllPub     Inside        Mod   \n",
       "925   No_Alley       Reg          Lvl    AllPub     Inside        Gtl   \n",
       "1712  No_Alley       Reg          Lvl    AllPub     Inside        Gtl   \n",
       "\n",
       "     neighborhood condition_1 condition_2 bldg_type house_style  overall_qual  \\\n",
       "289       Mitchel        Norm        Norm    Duplex      SFoyer             7   \n",
       "332       NridgHt        PosN        Norm      1Fam      2Story            10   \n",
       "337       Mitchel        Norm        Norm    2fmCon      1Story             4   \n",
       "925       BrkSide        Norm        Norm      1Fam      1Story             5   \n",
       "1712       IDOTRR        Norm        Norm      1Fam      2Story             5   \n",
       "\n",
       "      overall_cond  year_built  year_remod/add roof_style roof_matl  \\\n",
       "289              5        1997            1998      Gable   CompShg   \n",
       "332              5        2005            2006        Hip   CompShg   \n",
       "337              4        1961            1975      Gable   CompShg   \n",
       "925              5        1925            1950        Hip   CompShg   \n",
       "1712             6        1923            1999      Gable   CompShg   \n",
       "\n",
       "     exterior_1st exterior_2nd mas_vnr_type  mas_vnr_area exter_qual  \\\n",
       "289       VinylSd      VinylSd      BrkFace         200.0         TA   \n",
       "332       CemntBd      CmentBd      BrkFace         468.0         Ex   \n",
       "337       MetalSd      MetalSd        Stone         149.0         TA   \n",
       "925       Wd Sdng      Wd Sdng         None           0.0         TA   \n",
       "1712      Wd Sdng      Plywood         None           0.0         TA   \n",
       "\n",
       "     exter_cond foundation bsmt_qual bsmt_cond bsmt_exposure bsmtfin_type_1  \\\n",
       "289          Gd      PConc        Gd        Gd            Gd            GLQ   \n",
       "332          TA      PConc        Ex        TA            Gd            GLQ   \n",
       "337          Gd     CBlock        TA        TA            Av            BLQ   \n",
       "925          Fa     BrkTil        TA        TA            No            LwQ   \n",
       "1712         TA     BrkTil        Gd        TA            No            ALQ   \n",
       "\n",
       "      bsmtfin_sf_1 bsmtfin_type_2  bsmtfin_sf_2  bsmt_unf_sf  total_bsmt_sf  \\\n",
       "289         1309.0            Unf           0.0         35.0         1344.0   \n",
       "332         1082.0            Unf           0.0        538.0         1620.0   \n",
       "337         1159.0            Unf           0.0         90.0         1249.0   \n",
       "925          134.0            Unf           0.0        938.0         1072.0   \n",
       "1712         548.0            Unf           0.0        311.0          859.0   \n",
       "\n",
       "     heating heating_qc central_air electrical  1st_flr_sf  2nd_flr_sf  \\\n",
       "289     GasA         Ex           Y      SBrkr        1344           0   \n",
       "332     GasA         Ex           Y      SBrkr        1632        1158   \n",
       "337     GasA         Ex           Y      SBrkr        1622           0   \n",
       "925     GasA         TA           Y      SBrkr        1072           0   \n",
       "1712    GasA         Ex           Y      SBrkr         942         886   \n",
       "\n",
       "      low_qual_fin_sf  gr_liv_area  bsmt_full_bath  bsmt_half_bath  full_bath  \\\n",
       "289                 0         1344             2.0             0.0          2   \n",
       "332                 0         2790             1.0             0.0          2   \n",
       "337                 0         1622             1.0             0.0          1   \n",
       "925                 0         1072             1.0             0.0          1   \n",
       "1712                0         1828             0.0             0.0          2   \n",
       "\n",
       "      half_bath  bedroom_abvgr  kitchen_abvgr kitchen_qual  totrms_abvgrd  \\\n",
       "289           0              2              2           TA              8   \n",
       "332           1              4              1           Ex             10   \n",
       "337           0              3              1           TA              7   \n",
       "925           0              2              1           TA              5   \n",
       "1712          0              3              1           Gd              6   \n",
       "\n",
       "     functional  fireplaces fireplace_qu garage_type  garage_yr_blt  \\\n",
       "289         Typ           0           NA      Attchd         1997.0   \n",
       "332         Typ           1           Ex     BuiltIn         2005.0   \n",
       "337         Typ           1           TA      2Types         1975.0   \n",
       "925         Typ           0           NA      Detchd         1982.0   \n",
       "1712        Typ           0           NA      Detchd         1923.0   \n",
       "\n",
       "     garage_finish  garage_cars  garage_area garage_qual garage_cond  \\\n",
       "289            Fin          4.0        784.0          TA          TA   \n",
       "332            Fin          4.0       1150.0          TA          TA   \n",
       "337            Fin          4.0       1356.0          TA          TA   \n",
       "925            Unf          5.0       1184.0          Fa          TA   \n",
       "1712            NA          NaN          NaN         NaN         NaN   \n",
       "\n",
       "     paved_drive  wood_deck_sf  open_porch_sf  enclosed_porch  3ssn_porch  \\\n",
       "289            Y             0              0               0           0   \n",
       "332            Y            30            200               0           0   \n",
       "337            Y           439              0               0           0   \n",
       "925            P             0              0             105           0   \n",
       "1712           Y           174              0             212           0   \n",
       "\n",
       "      screen_porch  pool_area pool_qc  fence misc_feature  misc_val  mo_sold  \\\n",
       "289              0          0     NaN    NaN          NaN         0       11   \n",
       "332            192          0     NaN    NaN          NaN         0        6   \n",
       "337              0          0     NaN    NaN          NaN         0        3   \n",
       "925              0          0     NaN    NaN          NaN         0        8   \n",
       "1712             0          0     NaN  MnPrv          NaN         0        3   \n",
       "\n",
       "      yr_sold sale_type  saleprice    Id  \n",
       "289      2008       WD      206300  1590  \n",
       "332      2008       WD      460000  1060  \n",
       "337      2007       WD      168000  2283  \n",
       "925      2009       WD      126500   747  \n",
       "1712     2007       WD      150909  2237  "
      ]
     },
     "execution_count": 175,
     "metadata": {},
     "output_type": "execute_result"
    }
   ],
   "source": [
    "#  we see that there is an NaN for one entry\n",
    "df.sort_values(['garage_cars'], ascending=True).tail()"
   ]
  },
  {
   "cell_type": "code",
   "execution_count": 176,
   "metadata": {},
   "outputs": [],
   "source": [
    "# Assuming should be 0 as they have no garage\n",
    "df['garage_cars'].fillna(0,inplace=True)"
   ]
  },
  {
   "cell_type": "code",
   "execution_count": 177,
   "metadata": {},
   "outputs": [],
   "source": [
    "# Assuming should be 0 as they have no garage\n",
    "df['garage_area'].fillna(0,inplace=True)"
   ]
  },
  {
   "cell_type": "code",
   "execution_count": 178,
   "metadata": {},
   "outputs": [],
   "source": [
    "# Assuming 'NA' as they have no garage\n",
    "df['garage_qual'].fillna('NA',inplace=True)"
   ]
  },
  {
   "cell_type": "code",
   "execution_count": 179,
   "metadata": {},
   "outputs": [],
   "source": [
    "# Assuming 'NA' as they have no garage\n",
    "df['garage_cond'].fillna('NA',inplace=True)"
   ]
  },
  {
   "cell_type": "code",
   "execution_count": 180,
   "metadata": {},
   "outputs": [],
   "source": [
    "# Assuming 'NA' as they have no pool\n",
    "df['pool_qc'].fillna('NA',inplace=True)"
   ]
  },
  {
   "cell_type": "code",
   "execution_count": 181,
   "metadata": {},
   "outputs": [],
   "source": [
    "# Assuming 'NA' \n",
    "df['fence'].fillna('NA',inplace=True)"
   ]
  },
  {
   "cell_type": "code",
   "execution_count": 182,
   "metadata": {},
   "outputs": [],
   "source": [
    "# intentionally filling in NA as ANA so that this column will \n",
    "# be dropped since this is more of a catchall category\n",
    "df['misc_feature'].fillna('ANA',inplace=True)"
   ]
  },
  {
   "cell_type": "code",
   "execution_count": 183,
   "metadata": {},
   "outputs": [],
   "source": [
    "# fixing all WD entries in the column as they include an extra space\n",
    "df['sale_type'] = df['sale_type'].replace('WD ','WD')"
   ]
  },
  {
   "cell_type": "code",
   "execution_count": 184,
   "metadata": {},
   "outputs": [],
   "source": [
    "# removing pid column\n",
    "df.drop(columns='pid', inplace=True)"
   ]
  },
  {
   "cell_type": "code",
   "execution_count": 185,
   "metadata": {},
   "outputs": [
    {
     "data": {
      "text/plain": [
       "0"
      ]
     },
     "execution_count": 185,
     "metadata": {},
     "output_type": "execute_result"
    }
   ],
   "source": [
    "df.isnull().sum().sum()"
   ]
  },
  {
   "cell_type": "markdown",
   "metadata": {},
   "source": [
    "## EDA\n",
    "\n",
    "### Model Preparation\n",
    "\n",
    "Our EDA started with some data engineering, creating some new columns: \n",
    "- Combining several factors to create a total finished square footage feature\n",
    "- Converting years built categories in to age features, including:\n",
    "    * Age of Home\n",
    "    * Age of Garage\n",
    "    * Age of Remodel/Addition (years from work to sale)\n"
   ]
  },
  {
   "cell_type": "code",
   "execution_count": 186,
   "metadata": {},
   "outputs": [],
   "source": [
    "# creating column which adds up all finished SF and subtracts low quality finished SF\n",
    "df['total_fin_sf'] = df['bsmtfin_sf_1'] + df['bsmtfin_sf_2'][i] + df['1st_flr_sf'][i] + df['2nd_flr_sf'][i] - df['low_qual_fin_sf'][i]\n"
   ]
  },
  {
   "cell_type": "code",
   "execution_count": 187,
   "metadata": {},
   "outputs": [],
   "source": [
    "# creating columns for age of home at time of sale, age of garage at time of sale \n",
    "# and years from Remod/Add to sale - also dropping old columns\n",
    "df['age_of_home'] = df['yr_sold'] - df['year_built']\n",
    "df['age_of_garage'] = df['yr_sold'] - df['garage_yr_blt']\n",
    "df['age_remod/add'] = df['yr_sold'] - df['year_remod/add']\n",
    "df.drop(columns=['yr_sold','year_built','garage_yr_blt','year_remod/add'], inplace=True)"
   ]
  },
  {
   "cell_type": "markdown",
   "metadata": {},
   "source": [
    "Then I looked at data distributions for various variables."
   ]
  },
  {
   "cell_type": "code",
   "execution_count": 188,
   "metadata": {},
   "outputs": [
    {
     "data": {
      "image/png": "[encoded data removed]",
      "text/plain": [
       "<Figure size 432x288 with 1 Axes>"
      ]
     },
     "metadata": {
      "needs_background": "light"
     },
     "output_type": "display_data"
    }
   ],
   "source": [
    "plt.title(\"Number of Homes Sold by Sales Price\")\n",
    "\n",
    "sns.distplot(df['saleprice'],\n",
    "             axlabel='Sales Price',\n",
    "             color='green',\n",
    "             kde=False);"
   ]
  },
  {
   "cell_type": "markdown",
   "metadata": {},
   "source": [
    "The Sale Price data has somewhat of a right skew so. In our regression, we will want to look at this data both with and without using the log of this data to see if this can improve our model."
   ]
  },
  {
   "cell_type": "code",
   "execution_count": 189,
   "metadata": {},
   "outputs": [],
   "source": [
    "# Creating a column for log of sales price data to look at distribution\n",
    "df['saleprice_lg'] = np.log(df['saleprice'])"
   ]
  },
  {
   "cell_type": "code",
   "execution_count": 190,
   "metadata": {},
   "outputs": [
    {
     "data": {
      "image/png": "[encoded data removed]",
      "text/plain": [
       "<Figure size 432x288 with 1 Axes>"
      ]
     },
     "metadata": {
      "needs_background": "light"
     },
     "output_type": "display_data"
    }
   ],
   "source": [
    "plt.title(\"Number of Homes Sold by log of Sales Price\")\n",
    "\n",
    "sns.distplot(df['saleprice_lg'],\n",
    "             axlabel='Log of Sales Price',\n",
    "             color='green',\n",
    "             kde=False);"
   ]
  },
  {
   "cell_type": "markdown",
   "metadata": {},
   "source": [
    "This distribution looks somewhat better though it seems to have a little left skew. Unclear if it will improve model performance. "
   ]
  },
  {
   "cell_type": "code",
   "execution_count": 191,
   "metadata": {},
   "outputs": [
    {
     "data": {
      "image/png": "[encoded data removed]",
      "text/plain": [
       "<Figure size 432x288 with 1 Axes>"
      ]
     },
     "metadata": {
      "needs_background": "light"
     },
     "output_type": "display_data"
    }
   ],
   "source": [
    "plt.title(\"Number of Homes Sold by Wood Deck Square Feet\")\n",
    "\n",
    "sns.distplot(df['wood_deck_sf'],\n",
    "             axlabel='Sq. Ft. of Wood Deck',\n",
    "             color='blue',\n",
    "             kde=False);"
   ]
  },
  {
   "cell_type": "markdown",
   "metadata": {},
   "source": [
    "This is a very common value count graph for this dataset. For each feature (in this case wood decks), there is a large number of homes that don't have the feature, but the distribution of the remaining data is relatively normal.\n",
    "\n",
    "\n",
    "#### Correlation Analysis"
   ]
  },
  {
   "cell_type": "code",
   "execution_count": 192,
   "metadata": {},
   "outputs": [
    {
     "data": {
      "image/png": "[encoded data removed]",
      "text/plain": [
       "<Figure size 576x2160 with 2 Axes>"
      ]
     },
     "metadata": {
      "needs_background": "light"
     },
     "output_type": "display_data"
    }
   ],
   "source": [
    "plt.figure(figsize=(8, 30))\n",
    "\n",
    "plt.title('Variable Correlations vs Sales Price', size=25)\n",
    "\n",
    "sns.heatmap(df.corr()[['saleprice']].sort_values('saleprice', ascending=False),\n",
    "            cmap='coolwarm',\n",
    "            annot = True,\n",
    "            fmt='.4g',\n",
    "            square = True,\n",
    "            vmin=-1,\n",
    "            vmax=1)\n",
    "\n",
    "# fix for mpl bug that cuts off top/bottom of seaborn viz\n",
    "b, t = plt.ylim() # discover the values for bottom and top\n",
    "b += 0.5 # Add 0.5 to the bottom\n",
    "t -= 0.5 # Subtract 0.5 from the top\n",
    "plt.ylim(b, t) # update the ylim(bottom, top) values\n",
    "plt.show(); # ta-da!"
   ]
  },
  {
   "cell_type": "markdown",
   "metadata": {},
   "source": [
    "This heat map lets us see the correlation of every feature with the sales price, our target variable\n",
    "\n",
    "- High correlations include:\n",
    "    * Overall Quality\n",
    "    * Above Ground Living Area\n",
    "    * Garage Area\n",
    "    * Size of Garage by Car\n",
    "    * Number of Full Bathrooms \n",
    "- Low correlations include:\n",
    "    * Age of Home\n",
    "    * Age of Remodel/Addition\n",
    "    * Age of Garage\n",
    "- Some surprising low-correlation features\n",
    "    * Month Sold\n",
    "    * Home Type (i.e. 2-Story) \n",
    "    * Partial Sq. Ft. Variables\n",
    "\n",
    "\n",
    "**Let's look at some sample scatterplots between these features and our target.**"
   ]
  },
  {
   "cell_type": "code",
   "execution_count": 193,
   "metadata": {},
   "outputs": [],
   "source": [
    "# function for creating  scatterplots (based on example from GA class)\n",
    "def scatter_func(df, var1, var2, scat_title,xlabel,ylabel):\n",
    " \n",
    "    plt.figure(figsize=(8,6)) # (width, height)\n",
    "\n",
    "    # Set title\n",
    "    plt.title(scat_title, size=20)\n",
    "\n",
    "    plt.scatter(df[var1], \n",
    "                    df[var2],\n",
    "                   c='blue',\n",
    "               edgecolors='grey')\n",
    "\n",
    "    # Set x label\n",
    "    plt.xlabel(xlabel)\n",
    "\n",
    "    # Set y label\n",
    "    plt.ylabel(ylabel);"
   ]
  },
  {
   "cell_type": "code",
   "execution_count": 194,
   "metadata": {},
   "outputs": [
    {
     "data": {
      "image/png": "[encoded data removed]",
      "text/plain": [
       "<Figure size 576x432 with 1 Axes>"
      ]
     },
     "metadata": {
      "needs_background": "light"
     },
     "output_type": "display_data"
    }
   ],
   "source": [
    "scatter_func(df,'saleprice','overall_qual','Sales Price vs Overall Quality','Price','Overall Quality (1-10)')"
   ]
  },
  {
   "cell_type": "markdown",
   "metadata": {},
   "source": [
    "Despite this variable being tied to the 10 rating scores, this plot clearly demonstrates the powerful correlation between the overall quality score and price."
   ]
  },
  {
   "cell_type": "code",
   "execution_count": 195,
   "metadata": {},
   "outputs": [
    {
     "data": {
      "image/png": "[encoded data removed]",
      "text/plain": [
       "<Figure size 576x432 with 1 Axes>"
      ]
     },
     "metadata": {
      "needs_background": "light"
     },
     "output_type": "display_data"
    }
   ],
   "source": [
    "scatter_func(df,'saleprice','gr_liv_area','Sales Price vs Above Ground Living Area','Price','Above Ground Living SF')"
   ]
  },
  {
   "cell_type": "markdown",
   "metadata": {},
   "source": [
    "Above ground living area is our second most correlated variable and we clearly see a strong relationship."
   ]
  },
  {
   "cell_type": "code",
   "execution_count": 196,
   "metadata": {},
   "outputs": [
    {
     "data": {
      "image/png": "[encoded data removed]",
      "text/plain": [
       "<Figure size 576x432 with 1 Axes>"
      ]
     },
     "metadata": {
      "needs_background": "light"
     },
     "output_type": "display_data"
    }
   ],
   "source": [
    "scatter_func(df,'saleprice','age_of_home','Sales Prices vs Age of Home','Price','Age of Home (Yrs)')"
   ]
  },
  {
   "cell_type": "markdown",
   "metadata": {},
   "source": [
    "Our strongest negative correlation with price is with the age of the home. "
   ]
  },
  {
   "cell_type": "code",
   "execution_count": 197,
   "metadata": {},
   "outputs": [],
   "source": [
    "# Functionto aid in the process of getting dummies for various columns\n",
    "# while avoiding issues when looking at test data\n",
    "def deluxe_dummy(df, column, string):\n",
    "    temp1 = string.split(',')\n",
    "    temp2 = []\n",
    "    for i, item in enumerate(temp1):\n",
    "        temp2.append(column + '_' + item)\n",
    "   \n",
    "    return temp2"
   ]
  },
  {
   "cell_type": "code",
   "execution_count": 198,
   "metadata": {},
   "outputs": [],
   "source": [
    "# Creating function to help convert columns into ordinal columns\n",
    "def make_ord(df,column,list1,list2):\n",
    "    temp_list = []\n",
    "    for item in df[column]:\n",
    "        for i, element in enumerate(list1):\n",
    "            if item == element:\n",
    "                temp_list.append(list2[i])\n",
    "    df[column] = temp_list"
   ]
  },
  {
   "cell_type": "code",
   "execution_count": 199,
   "metadata": {},
   "outputs": [],
   "source": [
    "# create column with dummy columns \n",
    "df = pd.get_dummies(df, columns=['ms_subclass'], drop_first=True)"
   ]
  },
  {
   "cell_type": "code",
   "execution_count": 200,
   "metadata": {},
   "outputs": [],
   "source": [
    "# use function to deal with issues\n",
    "values = '120,150,160,180,190,30,40,45,50,60,70,75,80,85,90'\n",
    "\n",
    "for item in deluxe_dummy(df,'ms_subclass',values):\n",
    "    if item not in df.columns:\n",
    "        df[item]=[0 for n in range(0,len(df['lot_area']))]"
   ]
  },
  {
   "cell_type": "code",
   "execution_count": 201,
   "metadata": {},
   "outputs": [],
   "source": [
    "# create column with dummy columns \n",
    "df = pd.get_dummies(df, columns=['ms_zoning'], drop_first=True)"
   ]
  },
  {
   "cell_type": "code",
   "execution_count": 202,
   "metadata": {},
   "outputs": [],
   "source": [
    "# use function to deal with issues\n",
    "values = 'C,FV,I,RH,RL,RP,RM' \n",
    "for item in deluxe_dummy(df,'ms_zoning',values):\n",
    "    if item not in df.columns:\n",
    "        df[item]=[0 for n in range(0,len(df['lot_area']))]"
   ]
  },
  {
   "cell_type": "code",
   "execution_count": 203,
   "metadata": {},
   "outputs": [],
   "source": [
    "# creating list of potential lot_shape entries and codes to match up with them\n",
    "lot_shape_code = ['Reg','IR1','IR2','IR3']\n",
    "lot_shape_num = [3, 2, 1, 0]"
   ]
  },
  {
   "cell_type": "code",
   "execution_count": 204,
   "metadata": {
    "scrolled": true
   },
   "outputs": [],
   "source": [
    "# changing lot_shape column to these numbers \n",
    "make_ord(df,'lot_shape',lot_shape_code,lot_shape_num)"
   ]
  },
  {
   "cell_type": "code",
   "execution_count": 205,
   "metadata": {},
   "outputs": [],
   "source": [
    "# getting dummy columns for Land Contour - all options in both datasets\n",
    "df = pd.get_dummies(df, columns=['land_contour'],drop_first=True)"
   ]
  },
  {
   "cell_type": "code",
   "execution_count": 206,
   "metadata": {},
   "outputs": [],
   "source": [
    "# creating list of potential utilities entries and codes to match up with them\n",
    "util_code = ['AllPub','NoSewr','NoSeWa','ELO']\n",
    "util_num = [5, 2, 1, 0]"
   ]
  },
  {
   "cell_type": "code",
   "execution_count": 207,
   "metadata": {
    "scrolled": true
   },
   "outputs": [],
   "source": [
    "# changint utilities column to these numbers \n",
    "make_ord(df,'utilities',util_code,util_num)"
   ]
  },
  {
   "cell_type": "code",
   "execution_count": 208,
   "metadata": {},
   "outputs": [],
   "source": [
    "# getting dummy columns for Lot Configuration - all options in both datasets\n",
    "df = pd.get_dummies(df, columns=['lot_config'],drop_first=True)"
   ]
  },
  {
   "cell_type": "code",
   "execution_count": 209,
   "metadata": {},
   "outputs": [],
   "source": [
    "# creating list of potential land_slope entries and codes to match up with them\n",
    "slope_code = ['Gtl','Mod','Sev']\n",
    "slope_num = [5, 3, 1]"
   ]
  },
  {
   "cell_type": "code",
   "execution_count": 210,
   "metadata": {
    "scrolled": true
   },
   "outputs": [],
   "source": [
    "# changint land_slope column to these numbers \n",
    "make_ord(df,'land_slope',slope_code,slope_num)"
   ]
  },
  {
   "cell_type": "code",
   "execution_count": 211,
   "metadata": {},
   "outputs": [],
   "source": [
    "# special case - not using function with 4 steps\n",
    "cities = 'Blueste Bluestem,BrDale Briardale,BrkSide Brookside,ClearCr Clear Creek,CollgCr College Creek,Crawfor Crawford,Edwards Edwards,Gilbert Gilbert,GrnHill green,IDOTRR Iowa DOT and Rail Road,Landmrk Landmark,MeadowV Meadow Village,Mitchel Mitchell,NAmes North Ames,NoRidge Northridge,NPkVill Northpark Villa,NridgHt Northridge Heights,NWAmes Northwest Ames,OldTown Old Town,SWISU South & West of Iowa State University,Sawyer Sawyer,SawyerW Sawyer West,Somerst Somerset,StoneBr Stone Brook,Timber Timberland,Veenker Veenker'\n",
    "city_list = cities.split(',')"
   ]
  },
  {
   "cell_type": "code",
   "execution_count": 212,
   "metadata": {
    "scrolled": true
   },
   "outputs": [],
   "source": [
    "# STEP 2: \n",
    "new_city_list = []\n",
    "for i, item in enumerate(city_list):\n",
    "    new_city_list.append('neighborhood_' + item.split(' ')[0])\n"
   ]
  },
  {
   "cell_type": "code",
   "execution_count": 213,
   "metadata": {},
   "outputs": [],
   "source": [
    "# STEP 3\n",
    "df = pd.get_dummies(df, columns=['neighborhood'],drop_first=True)"
   ]
  },
  {
   "cell_type": "code",
   "execution_count": 214,
   "metadata": {},
   "outputs": [],
   "source": [
    "# STEP 4\n",
    "for item in new_city_list:\n",
    "    if item not in df.columns:\n",
    "        df[item]=[0 for n in range(0,len(df['lot_area']))]"
   ]
  },
  {
   "cell_type": "code",
   "execution_count": 215,
   "metadata": {},
   "outputs": [],
   "source": [
    "# create column with dummy columns \n",
    "df = pd.get_dummies(df, columns=['condition_1'],drop_first=True)"
   ]
  },
  {
   "cell_type": "code",
   "execution_count": 216,
   "metadata": {},
   "outputs": [],
   "source": [
    "# use function to deal with issues\n",
    "values = 'Feedr,Norm,RRNn,RRAn,PosN,PosA,RRNe,RRAe'\n",
    "for item in deluxe_dummy(df,'condition_1',values):\n",
    "    if item not in df.columns:\n",
    "        df[item]=[0 for n in range(0,len(df['lot_area']))]"
   ]
  },
  {
   "cell_type": "code",
   "execution_count": 217,
   "metadata": {},
   "outputs": [],
   "source": [
    "# create column with dummy columns \n",
    "df = pd.get_dummies(df, columns=['condition_2'],drop_first=True)"
   ]
  },
  {
   "cell_type": "code",
   "execution_count": 218,
   "metadata": {},
   "outputs": [],
   "source": [
    "# use function to deal with issues\n",
    "values = 'Feedr,Norm,RRNn,RRAn,PosN,PosA,RRNe,RRAe'\n",
    "for item in deluxe_dummy(df,'condition_2',values):\n",
    "    if item not in df.columns:\n",
    "        df[item]=[0 for n in range(0,len(df['lot_area']))]"
   ]
  },
  {
   "cell_type": "code",
   "execution_count": 219,
   "metadata": {},
   "outputs": [],
   "source": [
    "# getting dummy columns for Building Type - all options in both datasets\n",
    "df = pd.get_dummies(df, columns=['bldg_type'],drop_first=True)"
   ]
  },
  {
   "cell_type": "code",
   "execution_count": 220,
   "metadata": {},
   "outputs": [],
   "source": [
    "# getting dummy columns for House Style - all options in both datasets\n",
    "df = pd.get_dummies(df, columns=['house_style'],drop_first=True)"
   ]
  },
  {
   "cell_type": "code",
   "execution_count": 221,
   "metadata": {},
   "outputs": [],
   "source": [
    "# getting dummy columns for Roof Style - all options in both datasets\n",
    "df = pd.get_dummies(df, columns=['roof_style'],drop_first=True)"
   ]
  },
  {
   "cell_type": "code",
   "execution_count": 222,
   "metadata": {},
   "outputs": [],
   "source": [
    "# create column with dummy columns \n",
    "df = pd.get_dummies(df, columns=['roof_matl'],drop_first=True)"
   ]
  },
  {
   "cell_type": "code",
   "execution_count": 223,
   "metadata": {},
   "outputs": [],
   "source": [
    "# use function to deal with issues\n",
    "values = 'CompShg,Membran,Metal,Roll,Tar&Grv,WdShake,WdShngl'\n",
    "for item in deluxe_dummy(df,'roof_matl',values):\n",
    "    if item not in df.columns:\n",
    "        df[item]=[0 for n in range(0,len(df['lot_area']))]"
   ]
  },
  {
   "cell_type": "code",
   "execution_count": 224,
   "metadata": {},
   "outputs": [],
   "source": [
    "# create column with dummy columns \n",
    "df = pd.get_dummies(df, columns=['exterior_1st'],drop_first=True)"
   ]
  },
  {
   "cell_type": "code",
   "execution_count": 225,
   "metadata": {},
   "outputs": [],
   "source": [
    "# use function to deal with issues\n",
    "values = 'AsphShn,BrkComm,BrkFace,CBlock,CemntBd,HdBoard,ImStucc,MetalSd,Other,Plywood,PreCast,Stone,Stucco,VinylSd,Wd Sdng,WdShing'\n",
    "for item in deluxe_dummy(df,'exterior_1st',values):\n",
    "    if item not in df.columns:\n",
    "        df[item]=[0 for n in range(0,len(df['lot_area']))]"
   ]
  },
  {
   "cell_type": "code",
   "execution_count": 226,
   "metadata": {},
   "outputs": [],
   "source": [
    "# create column with dummy columns \n",
    "df = pd.get_dummies(df, columns=['exterior_2nd'],drop_first=True)"
   ]
  },
  {
   "cell_type": "code",
   "execution_count": 227,
   "metadata": {},
   "outputs": [],
   "source": [
    "# use function to deal with issues\n",
    "values = 'AsphShn,BrkComm,BrkFace,CBlock,CemntBd,HdBoard,ImStucc,MetalSd,Other,Plywood,PreCast,Stone,Stucco,VinylSd,Wd Sdng,WdShing'\n",
    "for item in deluxe_dummy(df,'exterior_2nd',values):\n",
    "    if item not in df.columns:\n",
    "        df[item]=[0 for n in range(0,len(df['lot_area']))]"
   ]
  },
  {
   "cell_type": "code",
   "execution_count": 228,
   "metadata": {},
   "outputs": [],
   "source": [
    "# getting dummy columns for Street (Paved vs Gravel) - both options in both datasets\n",
    "df = pd.get_dummies(df, columns=['street'],drop_first=True)"
   ]
  },
  {
   "cell_type": "code",
   "execution_count": 229,
   "metadata": {},
   "outputs": [],
   "source": [
    "# getting dummy columns for Alley - all options in both datasets\n",
    "df = pd.get_dummies(df, columns=['alley'],drop_first=True)"
   ]
  },
  {
   "cell_type": "code",
   "execution_count": 230,
   "metadata": {},
   "outputs": [],
   "source": [
    "# create column with dummy columns \n",
    "df = pd.get_dummies(df, columns=['mas_vnr_type'],drop_first=True)"
   ]
  },
  {
   "cell_type": "code",
   "execution_count": 231,
   "metadata": {},
   "outputs": [],
   "source": [
    "# use function to deal with issues\n",
    "values = 'BrkFace,CBlock,None,Stone'\n",
    "for item in deluxe_dummy(df,'mas_vnr_type',values):\n",
    "    if item not in df.columns:\n",
    "        df[item]=[0 for n in range(0,len(df['lot_area']))]"
   ]
  },
  {
   "cell_type": "code",
   "execution_count": 232,
   "metadata": {},
   "outputs": [],
   "source": [
    "# Establishing code replacement scheme for several columns\n",
    "ex_poor_code = ['Ex','Gd','TA','Fa','Po', 'NA']\n",
    "ex_poor_num = [5, 4, 3, 2, 1, 0]"
   ]
  },
  {
   "cell_type": "code",
   "execution_count": 233,
   "metadata": {
    "scrolled": true
   },
   "outputs": [],
   "source": [
    "# Making ordinal\n",
    "make_ord(df,'exter_qual',ex_poor_code,ex_poor_num)"
   ]
  },
  {
   "cell_type": "code",
   "execution_count": 234,
   "metadata": {
    "scrolled": true
   },
   "outputs": [],
   "source": [
    "# Making ordinal\n",
    "make_ord(df,'exter_cond',ex_poor_code,ex_poor_num)"
   ]
  },
  {
   "cell_type": "code",
   "execution_count": 235,
   "metadata": {},
   "outputs": [],
   "source": [
    "# getting dummy columns for Foundation - all options in both datasets\n",
    "df = pd.get_dummies(df, columns=['foundation'],drop_first=True)"
   ]
  },
  {
   "cell_type": "code",
   "execution_count": 236,
   "metadata": {
    "scrolled": true
   },
   "outputs": [],
   "source": [
    "# Making ordinal\n",
    "make_ord(df,'bsmt_qual',ex_poor_code,ex_poor_num)"
   ]
  },
  {
   "cell_type": "code",
   "execution_count": 237,
   "metadata": {
    "scrolled": true
   },
   "outputs": [],
   "source": [
    "# Making ordinal\n",
    "make_ord(df,'bsmt_cond',ex_poor_code,ex_poor_num)"
   ]
  },
  {
   "cell_type": "code",
   "execution_count": 238,
   "metadata": {},
   "outputs": [],
   "source": [
    "# Establishing another code replacement scheme for another scale\n",
    "ex_poor_code2 = ['Gd','Av','Mn','No', 'NA']\n",
    "ex_poor_num2 = [4, 3, 2, 1, 0]"
   ]
  },
  {
   "cell_type": "code",
   "execution_count": 239,
   "metadata": {
    "scrolled": true
   },
   "outputs": [],
   "source": [
    "# Making ordinal\n",
    "make_ord(df,'bsmt_exposure',ex_poor_code2,ex_poor_num2)"
   ]
  },
  {
   "cell_type": "code",
   "execution_count": 240,
   "metadata": {},
   "outputs": [],
   "source": [
    "# Establishing yet another code replacement scheme for another scale\n",
    "ex_poor_code3 = ['GLQ','ALQ','BLQ','Rec', 'LwQ', 'Unf', 'NA']\n",
    "ex_poor_num3 = [6, 5, 4, 3, 2, 1, 0]"
   ]
  },
  {
   "cell_type": "code",
   "execution_count": 241,
   "metadata": {
    "scrolled": true
   },
   "outputs": [],
   "source": [
    "# Making ordinal\n",
    "make_ord(df,'bsmtfin_type_1',ex_poor_code3,ex_poor_num3)"
   ]
  },
  {
   "cell_type": "code",
   "execution_count": 242,
   "metadata": {
    "scrolled": true
   },
   "outputs": [],
   "source": [
    "# Making ordinal\n",
    "make_ord(df,'bsmtfin_type_2',ex_poor_code3,ex_poor_num3)"
   ]
  },
  {
   "cell_type": "code",
   "execution_count": 243,
   "metadata": {},
   "outputs": [],
   "source": [
    "# create column with dummy columns \n",
    "df = pd.get_dummies(df, columns=['heating'],drop_first=True)"
   ]
  },
  {
   "cell_type": "code",
   "execution_count": 244,
   "metadata": {},
   "outputs": [],
   "source": [
    "# use function to deal with issues\n",
    "values = 'GasA,GasW,Wall,Grav,OthW'\n",
    "for item in deluxe_dummy(df,'heating',values):\n",
    "    if item not in df.columns:\n",
    "        df[item]=[0 for n in range(0,len(df['lot_area']))]"
   ]
  },
  {
   "cell_type": "code",
   "execution_count": 245,
   "metadata": {
    "scrolled": true
   },
   "outputs": [],
   "source": [
    "# Making ordinal\n",
    "make_ord(df,'heating_qc',ex_poor_code,ex_poor_num)"
   ]
  },
  {
   "cell_type": "code",
   "execution_count": 246,
   "metadata": {},
   "outputs": [],
   "source": [
    "# getting dummy column for Central Air - all options in both datasets\n",
    "df = pd.get_dummies(df, columns=['central_air'],drop_first=True)"
   ]
  },
  {
   "cell_type": "code",
   "execution_count": 247,
   "metadata": {},
   "outputs": [],
   "source": [
    "# creating list of potential Electrical entries and codes to match up with them\n",
    "elec_code = ['SBrkr','FuseA','FuseF','FuseP','Mix']\n",
    "elec_num = [4, 2, 1, 0, 1.5]"
   ]
  },
  {
   "cell_type": "code",
   "execution_count": 248,
   "metadata": {
    "scrolled": true
   },
   "outputs": [],
   "source": [
    "# Making ordinal\n",
    "make_ord(df,'electrical',elec_code,elec_num)"
   ]
  },
  {
   "cell_type": "code",
   "execution_count": 249,
   "metadata": {
    "scrolled": true
   },
   "outputs": [],
   "source": [
    "# Making ordinal\n",
    "make_ord(df,'kitchen_qual',ex_poor_code,ex_poor_num)"
   ]
  },
  {
   "cell_type": "code",
   "execution_count": 250,
   "metadata": {},
   "outputs": [],
   "source": [
    "# functional scale\n",
    "functional_code = ['Typ','Min1','Min2','Mod', 'Maj1', 'Maj2', 'Sev', 'Sal']\n",
    "functional_num = [7, 6, 5, 4, 3, 2, 1, 0]"
   ]
  },
  {
   "cell_type": "code",
   "execution_count": 251,
   "metadata": {
    "scrolled": true
   },
   "outputs": [],
   "source": [
    "# Making ordinal\n",
    "make_ord(df,'functional',functional_code,functional_num)"
   ]
  },
  {
   "cell_type": "code",
   "execution_count": 252,
   "metadata": {
    "scrolled": true
   },
   "outputs": [],
   "source": [
    "# Making ordinal\n",
    "make_ord(df,'fireplace_qu',ex_poor_code,ex_poor_num)"
   ]
  },
  {
   "cell_type": "code",
   "execution_count": 253,
   "metadata": {},
   "outputs": [],
   "source": [
    "# getting dummy columns for garage type - all options in both datasets\n",
    "df = pd.get_dummies(df, columns=['garage_type'],drop_first=True)"
   ]
  },
  {
   "cell_type": "code",
   "execution_count": 254,
   "metadata": {
    "scrolled": true
   },
   "outputs": [],
   "source": [
    "garage_code = ['Fin','RFn','Unf','NA']\n",
    "garage_num = [3, 2, 1, 0]"
   ]
  },
  {
   "cell_type": "code",
   "execution_count": 255,
   "metadata": {
    "scrolled": true
   },
   "outputs": [],
   "source": [
    "# Making ordinal\n",
    "make_ord(df,'garage_finish',garage_code,garage_num)"
   ]
  },
  {
   "cell_type": "code",
   "execution_count": 256,
   "metadata": {
    "scrolled": true
   },
   "outputs": [],
   "source": [
    "# Making ordinal\n",
    "make_ord(df,'garage_qual',ex_poor_code,ex_poor_num)"
   ]
  },
  {
   "cell_type": "code",
   "execution_count": 257,
   "metadata": {
    "scrolled": true
   },
   "outputs": [],
   "source": [
    "# Making ordinal\n",
    "make_ord(df,'garage_cond',ex_poor_code,ex_poor_num)"
   ]
  },
  {
   "cell_type": "code",
   "execution_count": 258,
   "metadata": {},
   "outputs": [],
   "source": [
    "paving_code = ['Y','P','N']\n",
    "paving_num = [5, 3, 1]"
   ]
  },
  {
   "cell_type": "code",
   "execution_count": 259,
   "metadata": {
    "scrolled": true
   },
   "outputs": [],
   "source": [
    "# Making ordinal\n",
    "make_ord(df,'paved_drive',paving_code,paving_num)"
   ]
  },
  {
   "cell_type": "code",
   "execution_count": 260,
   "metadata": {
    "scrolled": true
   },
   "outputs": [],
   "source": [
    "# Making ordinal\n",
    "make_ord(df,'pool_qc',ex_poor_code,ex_poor_num)"
   ]
  },
  {
   "cell_type": "code",
   "execution_count": 261,
   "metadata": {
    "scrolled": true
   },
   "outputs": [],
   "source": [
    "fence_code = ['GdPrv','GdWo','MnPrv', 'MnWw', 'NA']\n",
    "fence_num = [4, 3, 2, 1, 0]"
   ]
  },
  {
   "cell_type": "code",
   "execution_count": 262,
   "metadata": {
    "scrolled": true
   },
   "outputs": [],
   "source": [
    "# Making ordinal\n",
    "make_ord(df,'fence',fence_code,fence_num)"
   ]
  },
  {
   "cell_type": "code",
   "execution_count": 263,
   "metadata": {},
   "outputs": [],
   "source": [
    "# create column with dummy columns \n",
    "df = pd.get_dummies(df, columns=['misc_feature'],drop_first=True)"
   ]
  },
  {
   "cell_type": "code",
   "execution_count": 264,
   "metadata": {},
   "outputs": [],
   "source": [
    "# use function to deal with issues\n",
    "values = 'Elev,Gar2,Othr,Shed,TenC'\n",
    "for item in deluxe_dummy(df,'misc_feature',values):\n",
    "    if item not in df.columns:\n",
    "        df[item]=[0 for n in range(0,len(df['lot_area']))]"
   ]
  },
  {
   "cell_type": "code",
   "execution_count": 265,
   "metadata": {},
   "outputs": [],
   "source": [
    "# create column with dummy columns \n",
    "df = pd.get_dummies(df, columns=['sale_type'],drop_first=True)"
   ]
  },
  {
   "cell_type": "code",
   "execution_count": 266,
   "metadata": {},
   "outputs": [],
   "source": [
    "# use function to deal with issues\n",
    "values = 'CWD,Con,ConLD,ConLI,ConLw,New,Oth,VWD,WD'\n",
    "for item in deluxe_dummy(df,'sale_type',values):\n",
    "    if item not in df.columns:\n",
    "        df[item]=[0 for n in range(0,len(df['lot_area']))]"
   ]
  },
  {
   "cell_type": "code",
   "execution_count": 271,
   "metadata": {},
   "outputs": [],
   "source": [
    "# Creating a variable equal to the index of columns\n",
    "column_names = df.columns"
   ]
  },
  {
   "cell_type": "code",
   "execution_count": 272,
   "metadata": {},
   "outputs": [],
   "source": [
    "# resaving that index as a list\n",
    "column_names = column_names.tolist()"
   ]
  },
  {
   "cell_type": "code",
   "execution_count": 273,
   "metadata": {},
   "outputs": [],
   "source": [
    "# moving sale price column to the end of the list\n",
    "column_names.pop(52)\n",
    "column_names.append('saleprice')"
   ]
  },
  {
   "cell_type": "code",
   "execution_count": 274,
   "metadata": {},
   "outputs": [],
   "source": [
    "# reindexing columns based on this list\n",
    "df = df.reindex(columns=column_names)"
   ]
  },
  {
   "cell_type": "code",
   "execution_count": null,
   "metadata": {},
   "outputs": [],
   "source": [
    "val = val.reindex(columns=column_names2)"
   ]
  },
  {
   "cell_type": "code",
   "execution_count": null,
   "metadata": {},
   "outputs": [],
   "source": [
    "#filter features\n",
    "filtered_val = val._get_numeric_data()"
   ]
  },
  {
   "cell_type": "code",
   "execution_count": null,
   "metadata": {},
   "outputs": [],
   "source": [
    "val.isnull().sum()"
   ]
  },
  {
   "cell_type": "code",
   "execution_count": null,
   "metadata": {},
   "outputs": [],
   "source": [
    "df.dtypes"
   ]
  },
  {
   "cell_type": "code",
   "execution_count": null,
   "metadata": {},
   "outputs": [],
   "source": [
    "val.dtypes"
   ]
  },
  {
   "cell_type": "code",
   "execution_count": null,
   "metadata": {
    "scrolled": true
   },
   "outputs": [],
   "source": [
    "filtered_val.head()"
   ]
  },
  {
   "cell_type": "code",
   "execution_count": null,
   "metadata": {},
   "outputs": [],
   "source": [
    "preds = lr.predict(filtered_val)"
   ]
  },
  {
   "cell_type": "code",
   "execution_count": null,
   "metadata": {},
   "outputs": [],
   "source": [
    "preds[:10]"
   ]
  },
  {
   "cell_type": "code",
   "execution_count": null,
   "metadata": {},
   "outputs": [],
   "source": [
    "# We need to submit to Kaggle in the appropriate form of .csv\n",
    "# create prediction Series\n",
    "preds_col = pd.Series(preds, name = \"SalePrice\")\n",
    "# combine with Id\n",
    "id_col    = val[\"Id\"]\n",
    "output = pd.concat([id_col, preds_col], axis = 1)\n",
    "output.head()"
   ]
  },
  {
   "cell_type": "code",
   "execution_count": null,
   "metadata": {},
   "outputs": [],
   "source": [
    "#write to csv\n",
    "output.to_csv('../output/submission.csv', index = False)"
   ]
  },
  {
   "cell_type": "markdown",
   "metadata": {},
   "source": [
    "submit to Kaggle"
   ]
  },
  {
   "cell_type": "code",
   "execution_count": null,
   "metadata": {},
   "outputs": [],
   "source": []
  }
 ],
 "metadata": {
  "kernelspec": {
   "display_name": "Python 3",
   "language": "python",
   "name": "python3"
  },
  "language_info": {
   "codemirror_mode": {
    "name": "ipython",
    "version": 3
   },
   "file_extension": ".py",
   "mimetype": "text/x-python",
   "name": "python",
   "nbconvert_exporter": "python",
   "pygments_lexer": "ipython3",
   "version": "3.7.4"
  }
 },
 "nbformat": 4,
 "nbformat_minor": 4
}
